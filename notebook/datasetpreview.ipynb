{
 "cells": [
  {
   "cell_type": "markdown",
   "metadata": {},
   "source": [
    "### Dataset Preview\n",
    "Notebook responsável para visualização previa do dataset e armazenanmento de informações no banco de dados\n",
    "\n",
    "Motivador: Gerar gráficos e informações para visualização prévia do dataset"
   ]
  },
  {
   "cell_type": "markdown",
   "metadata": {},
   "source": [
    "### Pacotes Necessários\n"
   ]
  },
  {
   "cell_type": "code",
   "execution_count": null,
   "metadata": {},
   "outputs": [],
   "source": []
  },
  {
   "cell_type": "markdown",
   "metadata": {},
   "source": [
    "Código utilizado para mapear cada record (pasta) baixado do dataset. Ex: chb01, chb02 ..."
   ]
  },
  {
   "cell_type": "code",
   "execution_count": 2,
   "metadata": {},
   "outputs": [],
   "source": [
    "import os\n",
    "\n",
    "records_list = os.listdir('../data/')\n",
    "\n",
    "part_codes = sorted(list(set([record.split('/')[0] for record in records_list])))"
   ]
  },
  {
   "cell_type": "markdown",
   "metadata": {},
   "source": [
    "Nesse ponto, já temos o sumário de cada exame baixado, assim, iremos converte-lo em informações que facilitam sua utilização e iremos salva-los no banco de dados"
   ]
  },
  {
   "cell_type": "markdown",
   "metadata": {},
   "source": [
    "get_summary_info:"
   ]
  },
  {
   "cell_type": "code",
   "execution_count": null,
   "metadata": {},
   "outputs": [],
   "source": [
    "import os\n",
    "\n",
    "def get_summary_info( record ):\n",
    "    directory = \"../data/\" + record + '/'\n",
    "    filename = record + '-summary.txt'\n",
    "    fullpath = os.path.join( directory, filename )\n",
    "\n",
    "    with open(fullpath, encoding='UTF-8') as f:\n",
    "      content = f.readlines()\n",
    "      f.close()\n",
    "\n",
    "    return content\n",
    "\n",
    "get_summary_info(part_codes[0])"
   ]
  }
 ],
 "metadata": {
  "kernelspec": {
   "display_name": "base",
   "language": "python",
   "name": "python3"
  },
  "language_info": {
   "codemirror_mode": {
    "name": "ipython",
    "version": 3
   },
   "file_extension": ".py",
   "mimetype": "text/x-python",
   "name": "python",
   "nbconvert_exporter": "python",
   "pygments_lexer": "ipython3",
   "version": "3.11.4"
  },
  "orig_nbformat": 4
 },
 "nbformat": 4,
 "nbformat_minor": 2
}

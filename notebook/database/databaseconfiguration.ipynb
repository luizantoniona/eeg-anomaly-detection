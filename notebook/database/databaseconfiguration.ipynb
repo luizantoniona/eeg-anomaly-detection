{
 "cells": [
  {
   "cell_type": "markdown",
   "metadata": {},
   "source": [
    "### Database Configuration\n",
    "Notebook responsável por configurar o banco de dados para melhor armazenamento das informações relacionadas aos EEG's\n",
    "\n",
    "Motivador: Não precisar utilizar os arquivos -summary de cada EEG, validar a existência de arquivos .edf pelo banco\n",
    "\n",
    "Será utilizado um banco de dados MySQL para armazenar as informações"
   ]
  },
  {
   "cell_type": "markdown",
   "metadata": {},
   "source": [
    "### Pacotes Necessários"
   ]
  },
  {
   "cell_type": "code",
   "execution_count": null,
   "metadata": {},
   "outputs": [],
   "source": [
    "!pip install mysql-connector-python\n",
    "!pip install import_ipynb"
   ]
  },
  {
   "cell_type": "markdown",
   "metadata": {},
   "source": [
    "#### Importando informações do banco de dados (databaseinfo.ipynb)"
   ]
  },
  {
   "cell_type": "code",
   "execution_count": null,
   "metadata": {},
   "outputs": [],
   "source": [
    "import import_ipynb\n",
    "import databaseinfo as dbinfo"
   ]
  },
  {
   "cell_type": "markdown",
   "metadata": {},
   "source": [
    "Criando conexão com o MySQL e configurando banco de dados"
   ]
  },
  {
   "cell_type": "code",
   "execution_count": null,
   "metadata": {},
   "outputs": [],
   "source": [
    "import mysql.connector\n",
    "\n",
    "database_connection = mysql.connector.connect(user=dbinfo.username(),\n",
    "                              password=dbinfo.password(),                              \n",
    "                              host=dbinfo.ip(),\n",
    "                              auth_plugin='mysql_native_password')"
   ]
  },
  {
   "cell_type": "markdown",
   "metadata": {},
   "source": [
    "Criando banco de dados"
   ]
  },
  {
   "cell_type": "code",
   "execution_count": null,
   "metadata": {},
   "outputs": [],
   "source": [
    "try:\n",
    "    database_connection.cursor().execute(\"CREATE DATABASE\" + dbinfo.name())\n",
    "except:\n",
    "    print(\"Banco de Dados já criado\")"
   ]
  },
  {
   "cell_type": "markdown",
   "metadata": {},
   "source": [
    "Criando as tabelas:\n",
    "\n",
    "- Cada sumário contém as informações no formato a seguir:\n",
    "\n",
    "```\n",
    "['Data Sampling Rate: 256 Hz\\n',\n",
    " '*************************\\n',\n",
    " '\\n',\n",
    " 'Channels in EDF Files:\\n',\n",
    " '**********************\\n',\n",
    " 'Channel 1: FP1-F7\\n',\n",
    " 'Channel 2: F7-T7\\n',\n",
    " 'Channel 3: T7-P7\\n',\n",
    " ...\n",
    " '\\n',\n",
    " 'File Name: chb01_26.edf\\n',\n",
    " 'File Start Time: 12:34:22\\n',\n",
    " 'File End Time: 13:13:07\\n',\n",
    " 'Number of Seizures in File: 1\\n',\n",
    " 'Seizure Start Time: 1862 seconds\\n',\n",
    " 'Seizure End Time: 1963 seconds\\n',\n",
    " '\\n',\n",
    " ...\n",
    "```\n",
    "- Após analise das informações contidas nos súmarios, algumas informações importantes foram extraidas e convertidas para o modelo de tabela relacional á seguir:\n",
    "\n",
    "|record_name| file_name | start_time | end_time | nr_seizures | start_seizure | end_seizure | nr_channels |\n",
    "|:---------:|:---------:|:----------:|:--------:|:-----------:|:-------------:|:-----------:|:-----------:|\n",
    "|ch01|chb01_01.edf|12:34:22|13:13:07|1|1862 seconds|1963 seconds| 24"
   ]
  },
  {
   "cell_type": "markdown",
   "metadata": {},
   "source": [
    "Para simplificar a execução, cria-se um arquivo SQL para criação das tabelas"
   ]
  },
  {
   "cell_type": "code",
   "execution_count": null,
   "metadata": {},
   "outputs": [],
   "source": [
    "import import_ipynb\n",
    "import databaseutils as db\n",
    "\n",
    "db.execute_from_file(\"./sql/create_table_summary_info.sql\")"
   ]
  }
 ],
 "metadata": {
  "kernelspec": {
   "display_name": "base",
   "language": "python",
   "name": "python3"
  },
  "language_info": {
   "codemirror_mode": {
    "name": "ipython",
    "version": 3
   },
   "file_extension": ".py",
   "mimetype": "text/x-python",
   "name": "python",
   "nbconvert_exporter": "python",
   "pygments_lexer": "ipython3",
   "version": "3.11.4"
  },
  "orig_nbformat": 4
 },
 "nbformat": 4,
 "nbformat_minor": 2
}

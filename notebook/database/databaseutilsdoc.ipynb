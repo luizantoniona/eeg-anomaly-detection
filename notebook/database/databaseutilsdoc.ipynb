{
 "cells": [
  {
   "cell_type": "markdown",
   "metadata": {},
   "source": [
    "# Database Utils Doc"
   ]
  },
  {
   "cell_type": "markdown",
   "metadata": {},
   "source": [
    "### Funções de utilidade do banco de dados\n",
    "\n",
    "Documentação responsável para descrever as funções de cada método utilitário do banco de dados"
   ]
  },
  {
   "cell_type": "markdown",
   "metadata": {},
   "source": [
    "Imports:"
   ]
  },
  {
   "cell_type": "code",
   "execution_count": 1,
   "metadata": {},
   "outputs": [],
   "source": [
    "import mysql.connector\n",
    "import databaseinfo as db"
   ]
  },
  {
   "cell_type": "markdown",
   "metadata": {},
   "source": [
    "connect: Método que retorna a conexão com o banco de dados"
   ]
  },
  {
   "cell_type": "code",
   "execution_count": null,
   "metadata": {},
   "outputs": [],
   "source": [
    "def connect():\n",
    "    return mysql.connector.connect(user=db.username(),\n",
    "                              password=db.password(),                              \n",
    "                              host=db.ip(),\n",
    "                              database=db.name(),\n",
    "                              auth_plugin='mysql_native_password')\n"
   ]
  },
  {
   "cell_type": "markdown",
   "metadata": {},
   "source": [
    "execute_from_file: Executa a query de um arquivo SQL"
   ]
  },
  {
   "cell_type": "code",
   "execution_count": null,
   "metadata": {},
   "outputs": [],
   "source": [
    "def execute_from_file(filename):\n",
    "    fd = open(filename, 'r')\n",
    "    sql_file = fd.read()\n",
    "    fd.close()\n",
    "\n",
    "    db = connect()\n",
    "\n",
    "    sql_commands = sql_file.split(';')\n",
    "\n",
    "    for command in sql_commands:\n",
    "        try:\n",
    "            db.cursor().execute(command)\n",
    "        except:\n",
    "            print(\"Erro ao executar\")"
   ]
  },
  {
   "cell_type": "markdown",
   "metadata": {},
   "source": [
    "insert_summary_data: Inserir os dados do arquivo na tabela"
   ]
  },
  {
   "cell_type": "code",
   "execution_count": null,
   "metadata": {},
   "outputs": [],
   "source": [
    "def insert_sumarry_data(record_name, file_name, start_time, end_time, nr_seizures, start_seizure, end_seizure, nr_channels ):\n",
    "\n",
    "    fd = open(\"./database/sql/insert_summary_info.sql\", 'r')\n",
    "    sql_file = fd.read()\n",
    "    fd.close()\n",
    "\n",
    "    db = connect()\n",
    "\n",
    "    command = sql_file\n",
    "\n",
    "    try:\n",
    "        db.cursor().execute(command, [record_name, file_name, start_time, end_time, nr_seizures, start_seizure, end_seizure, nr_channels ])\n",
    "        db.commit()\n",
    "    except:\n",
    "        print(\"Registro já existe\")\n",
    "    "
   ]
  }
 ],
 "metadata": {
  "kernelspec": {
   "display_name": "base",
   "language": "python",
   "name": "python3"
  },
  "language_info": {
   "codemirror_mode": {
    "name": "ipython",
    "version": 3
   },
   "file_extension": ".py",
   "mimetype": "text/x-python",
   "name": "python",
   "nbconvert_exporter": "python",
   "pygments_lexer": "ipython3",
   "version": "3.9.13"
  },
  "orig_nbformat": 4
 },
 "nbformat": 4,
 "nbformat_minor": 2
}

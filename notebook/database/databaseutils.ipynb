{
 "cells": [
  {
   "cell_type": "markdown",
   "metadata": {},
   "source": [
    "### Database\n",
    "\n",
    "Notebook responsável por centralizar as functions referente a banco de dados"
   ]
  },
  {
   "cell_type": "markdown",
   "metadata": {},
   "source": [
    "connect: Método que retorna a conexão com o banco de dados"
   ]
  },
  {
   "cell_type": "code",
   "execution_count": null,
   "metadata": {},
   "outputs": [],
   "source": [
    "import mysql.connector\n",
    "import import_ipynb\n",
    "import databaseinfo as db\n",
    "\n",
    "def connect():\n",
    "    return mysql.connector.connect(user=db.username(),\n",
    "                              password=db.password(),                              \n",
    "                              host=db.ip(),\n",
    "                              database=db.name(),\n",
    "                              auth_plugin='mysql_native_password')\n"
   ]
  },
  {
   "cell_type": "markdown",
   "metadata": {},
   "source": [
    "execute_from_file: Executa a query de um arquivo (sql)"
   ]
  },
  {
   "cell_type": "code",
   "execution_count": 2,
   "metadata": {},
   "outputs": [],
   "source": [
    "def execute_from_file(filename):\n",
    "    fd = open(filename, 'r')\n",
    "    sql_file = fd.read()\n",
    "    fd.close()\n",
    "\n",
    "    db = connect()\n",
    "\n",
    "    sql_commands = sql_file.split(';')\n",
    "\n",
    "    for command in sql_commands:\n",
    "        try:\n",
    "            db.cursor().execute(command)\n",
    "        except:\n",
    "            print(\"Erro ao executar\")"
   ]
  }
 ],
 "metadata": {
  "kernelspec": {
   "display_name": "base",
   "language": "python",
   "name": "python3"
  },
  "language_info": {
   "codemirror_mode": {
    "name": "ipython",
    "version": 3
   },
   "file_extension": ".py",
   "mimetype": "text/x-python",
   "name": "python",
   "nbconvert_exporter": "python",
   "pygments_lexer": "ipython3",
   "version": "3.11.4"
  },
  "orig_nbformat": 4
 },
 "nbformat": 4,
 "nbformat_minor": 2
}

{
 "cells": [
  {
   "cell_type": "markdown",
   "metadata": {},
   "source": [
    "# Dataset To Database\n",
    "Notebook responsável para armazenanmento de informações no banco de dados\n",
    "\n",
    "Motivador: Guardar as principais informações dos exames no banco de dados"
   ]
  },
  {
   "cell_type": "markdown",
   "metadata": {},
   "source": [
    "Código utilizado para mapear cada record (pasta) baixado do dataset. Ex: chb01, chb02 ..."
   ]
  },
  {
   "cell_type": "code",
   "execution_count": 3,
   "metadata": {},
   "outputs": [],
   "source": [
    "import os\n",
    "\n",
    "records_list = os.listdir('../data/')\n",
    "\n",
    "part_codes = sorted(list(set([record.split('/')[0] for record in records_list])))"
   ]
  },
  {
   "cell_type": "markdown",
   "metadata": {},
   "source": [
    "Nesse ponto, já temos o sumário de cada exame baixado, assim, iremos converte-lo em informações que facilitam sua utilização e iremos salva-los no banco de dados"
   ]
  },
  {
   "cell_type": "markdown",
   "metadata": {},
   "source": [
    "get_summary_info: Lê cada o sumário informado"
   ]
  },
  {
   "cell_type": "code",
   "execution_count": 4,
   "metadata": {},
   "outputs": [],
   "source": [
    "import os\n",
    "\n",
    "def get_summary_info( record ):\n",
    "    directory = \"../data/\" + record + '/'\n",
    "    filename = record + '-summary.txt'\n",
    "    fullpath = os.path.join( directory, filename )\n",
    "\n",
    "    with open(fullpath, encoding='UTF-8') as f:\n",
    "      content = f.readlines()\n",
    "      f.close()\n",
    "\n",
    "    return content"
   ]
  },
  {
   "cell_type": "markdown",
   "metadata": {},
   "source": [
    "summary_info: Utilizado para ler cada arquivo de sumário e salvar as informações de cada um dos arquivos no banco de dados caso já exista o edf baixado, isso evita que insira informações que ainda não estão disponíveis"
   ]
  },
  {
   "cell_type": "code",
   "execution_count": 5,
   "metadata": {},
   "outputs": [],
   "source": [
    "import re\n",
    "import database.databaseutils as db\n",
    "\n",
    "def summary_info(content, record_name):\n",
    "\n",
    "  nr_channels = 0\n",
    "  file_name = \"\"\n",
    "  start_time = \"\"\n",
    "  end_time = \"\"\n",
    "  start_seizure = \"\"\n",
    "  end_seizure = \"\"\n",
    "  nr_seizures = \"\"\n",
    "\n",
    "  for line in content:\n",
    "\n",
    "    if re.findall('Channel \\d+', line):\n",
    "      nr_channels += 1\n",
    "\n",
    "    elif re.findall('File Name', line):\n",
    "      file_name = re.findall('\\w+_\\w+.\\.edf', line)[0]\n",
    "\n",
    "    elif re.findall('File Start Time', line):\n",
    "      start_time = re.findall('\\d+:\\d+:\\d+', line)[0]\n",
    "\n",
    "    elif re.findall('File End Time', line):\n",
    "      end_time = re.findall('\\d+:\\d+:\\d+', line)[0]\n",
    "\n",
    "    elif re.findall('Seizure Start Time', line):\n",
    "      start_seizure = re.findall('\\d+', line)[0]\n",
    "\n",
    "    elif re.findall('Seizure End Time', line):\n",
    "      end_seizure = re.findall('\\d+', line)[0]\n",
    "\n",
    "    elif re.findall('Number of Seizures in File', line):\n",
    "      nr_seizures = re.findall('\\d+', line)[0]\n",
    "\n",
    "    else:\n",
    "      if file_name != \"\":\n",
    "        directory = \"../data/\" + record_name + '/'\n",
    "        fullpath = os.path.join( directory, file_name )\n",
    "\n",
    "        if os.path.exists( fullpath ):\n",
    "\n",
    "            db.insert_sumarry_data(record_name,\n",
    "                                   file_name,\n",
    "                                   start_time,\n",
    "                                   end_time,\n",
    "                                   int(nr_seizures),\n",
    "                                   int(start_seizure) if start_seizure.strip() != \"\" else 0,\n",
    "                                   int(end_seizure) if end_seizure.strip() != \"\" else 0,\n",
    "                                   nr_channels)\n",
    "\n",
    "        file_name = \"\"\n",
    "        start_time = \"\"\n",
    "        end_time = \"\"\n",
    "        start_seizure = \"\"\n",
    "        end_seizure = \"\"\n",
    "        nr_seizures = \"\""
   ]
  },
  {
   "cell_type": "code",
   "execution_count": null,
   "metadata": {},
   "outputs": [],
   "source": [
    "for record in part_codes:\n",
    "    record_context = get_summary_info(record)\n",
    "    summary_info(record_context, record)"
   ]
  }
 ],
 "metadata": {
  "kernelspec": {
   "display_name": "base",
   "language": "python",
   "name": "python3"
  },
  "language_info": {
   "codemirror_mode": {
    "name": "ipython",
    "version": 3
   },
   "file_extension": ".py",
   "mimetype": "text/x-python",
   "name": "python",
   "nbconvert_exporter": "python",
   "pygments_lexer": "ipython3",
   "version": "3.9.13"
  },
  "orig_nbformat": 4
 },
 "nbformat": 4,
 "nbformat_minor": 2
}

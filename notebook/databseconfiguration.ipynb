{
 "cells": [
  {
   "cell_type": "markdown",
   "metadata": {},
   "source": [
    "### Database Configuration\n",
    "Notebook responsável por configurar o banco de dados para melhor armazenamento das informações relacionadas aos EEG's\n",
    "\n",
    "Motivador: Não precisar utilizar os arquivos -summary de cada EEG, validar a existência de arquivos .edf pelo banco\n",
    "\n",
    "Será utilizado um banco de dados MySQL para armazenar as informações"
   ]
  },
  {
   "cell_type": "markdown",
   "metadata": {},
   "source": [
    "### Pacotes Necessários"
   ]
  },
  {
   "cell_type": "code",
   "execution_count": 1,
   "metadata": {},
   "outputs": [
    {
     "name": "stdout",
     "output_type": "stream",
     "text": [
      "Requirement already satisfied: mysql-connector-python in c:\\users\\luiza\\anaconda3\\lib\\site-packages (8.1.0)\n",
      "Requirement already satisfied: protobuf<=4.21.12,>=4.21.1 in c:\\users\\luiza\\anaconda3\\lib\\site-packages (from mysql-connector-python) (4.21.12)\n"
     ]
    }
   ],
   "source": [
    "!pip install mysql-connector-python"
   ]
  },
  {
   "cell_type": "markdown",
   "metadata": {},
   "source": [
    "### Dados de conexão com o banco de dados\n",
    "\n",
    "Define as variaveis de conexão com o banco de dados (Vai depender da forma que foi instalado locamente)"
   ]
  },
  {
   "cell_type": "code",
   "execution_count": 15,
   "metadata": {},
   "outputs": [],
   "source": [
    "DATABASE_NAME = \"eeg_data\"\n",
    "DATABASE_USERNAME = \"root\"\n",
    "DATABASE_PASSWORD = \"luiz\"\n",
    "DATABASE_IP = \"127.0.0.1\""
   ]
  },
  {
   "cell_type": "markdown",
   "metadata": {},
   "source": [
    "Criando conexão com o MySQL e configurando banco de dados"
   ]
  },
  {
   "cell_type": "code",
   "execution_count": 16,
   "metadata": {},
   "outputs": [],
   "source": [
    "import mysql.connector\n",
    "\n",
    "database_connection = mysql.connector.connect(user=DATABASE_USERNAME,\n",
    "                              password=DATABASE_PASSWORD,                              \n",
    "                              host=DATABASE_IP,\n",
    "                              auth_plugin='mysql_native_password')"
   ]
  },
  {
   "cell_type": "markdown",
   "metadata": {},
   "source": [
    "Criando banco de dados com o nome definido á cima"
   ]
  },
  {
   "cell_type": "code",
   "execution_count": null,
   "metadata": {},
   "outputs": [],
   "source": [
    "databse_cursor = database_connection.cursor()\n",
    "\n",
    "try:\n",
    "    databse_cursor.execute(\"CREATE DATABASE \" + DATABASE_NAME)\n",
    "except:\n",
    "    print(\"Banco de Dados já criado\")"
   ]
  },
  {
   "cell_type": "markdown",
   "metadata": {},
   "source": [
    "Criando as tabelas:\n",
    "\n",
    "- Após analise das informações contidas nos súmarios, algumas informações importantes foram extraidas e convertidas para o modelo de tabela relacional á seguir:\n",
    "\n",
    "[]"
   ]
  }
 ],
 "metadata": {
  "kernelspec": {
   "display_name": "base",
   "language": "python",
   "name": "python3"
  },
  "language_info": {
   "codemirror_mode": {
    "name": "ipython",
    "version": 3
   },
   "file_extension": ".py",
   "mimetype": "text/x-python",
   "name": "python",
   "nbconvert_exporter": "python",
   "pygments_lexer": "ipython3",
   "version": "3.11.4"
  },
  "orig_nbformat": 4
 },
 "nbformat": 4,
 "nbformat_minor": 2
}

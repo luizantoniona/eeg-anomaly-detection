{
 "cells": [
  {
   "cell_type": "markdown",
   "metadata": {},
   "source": [
    "### CNN TIME"
   ]
  },
  {
   "cell_type": "code",
   "execution_count": 1,
   "metadata": {},
   "outputs": [],
   "source": [
    "import preprocessor.time_preprocessor as preprocessor\n",
    "X_train, y_train, X_val, y_val, X_test, y_test = preprocessor.preprocess(True, True, True)"
   ]
  },
  {
   "cell_type": "code",
   "execution_count": 2,
   "metadata": {},
   "outputs": [
    {
     "name": "stdout",
     "output_type": "stream",
     "text": [
      "(2908, 18, 1280)\n"
     ]
    }
   ],
   "source": [
    "print(X_train.shape)"
   ]
  },
  {
   "cell_type": "markdown",
   "metadata": {},
   "source": [
    "Load CNN model"
   ]
  },
  {
   "cell_type": "code",
   "execution_count": 3,
   "metadata": {},
   "outputs": [],
   "source": [
    "from ia.model.cnn.time_cnn import TimeCNN\n",
    "time_cnn = TimeCNN(input_shape=(X_train[0].shape))"
   ]
  },
  {
   "cell_type": "code",
   "execution_count": 4,
   "metadata": {},
   "outputs": [],
   "source": [
    "time_cnn.compile()"
   ]
  },
  {
   "cell_type": "code",
   "execution_count": 5,
   "metadata": {},
   "outputs": [],
   "source": [
    "NR_EPOCHS = 100\n",
    "BATCH_SIZE = 250"
   ]
  },
  {
   "cell_type": "code",
   "execution_count": 6,
   "metadata": {},
   "outputs": [
    {
     "name": "stdout",
     "output_type": "stream",
     "text": [
      "Epoch 1/100\n",
      "12/12 [==============================] - 1s 44ms/step - loss: 0.7483 - accuracy: 0.5722 - val_loss: 1.2159 - val_accuracy: 0.5000\n",
      "Epoch 2/100\n",
      "12/12 [==============================] - 0s 26ms/step - loss: 0.6422 - accuracy: 0.6554 - val_loss: 1.0279 - val_accuracy: 0.5000\n",
      "Epoch 3/100\n",
      "12/12 [==============================] - 0s 27ms/step - loss: 0.5806 - accuracy: 0.6970 - val_loss: 0.7574 - val_accuracy: 0.5000\n",
      "Epoch 4/100\n",
      "12/12 [==============================] - 0s 27ms/step - loss: 0.5272 - accuracy: 0.7270 - val_loss: 0.7066 - val_accuracy: 0.5000\n",
      "Epoch 5/100\n",
      "12/12 [==============================] - 0s 26ms/step - loss: 0.4824 - accuracy: 0.7534 - val_loss: 0.8392 - val_accuracy: 0.5000\n",
      "Epoch 6/100\n",
      "12/12 [==============================] - 0s 27ms/step - loss: 0.4285 - accuracy: 0.7930 - val_loss: 0.7823 - val_accuracy: 0.5000\n",
      "Epoch 7/100\n",
      "12/12 [==============================] - 0s 27ms/step - loss: 0.4052 - accuracy: 0.8061 - val_loss: 0.7560 - val_accuracy: 0.5000\n",
      "Epoch 8/100\n",
      "12/12 [==============================] - 0s 26ms/step - loss: 0.3658 - accuracy: 0.8291 - val_loss: 0.8525 - val_accuracy: 0.5000\n",
      "Epoch 9/100\n",
      "12/12 [==============================] - 0s 27ms/step - loss: 0.3399 - accuracy: 0.8428 - val_loss: 1.1108 - val_accuracy: 0.5000\n",
      "Epoch 10/100\n",
      "12/12 [==============================] - 0s 26ms/step - loss: 0.2853 - accuracy: 0.8776 - val_loss: 0.8873 - val_accuracy: 0.4984\n",
      "Epoch 11/100\n",
      "12/12 [==============================] - 0s 38ms/step - loss: 0.2522 - accuracy: 0.8989 - val_loss: 0.8367 - val_accuracy: 0.5016\n",
      "Epoch 12/100\n",
      "12/12 [==============================] - 0s 33ms/step - loss: 0.2474 - accuracy: 0.8862 - val_loss: 1.8604 - val_accuracy: 0.5000\n",
      "Epoch 13/100\n",
      "12/12 [==============================] - 0s 27ms/step - loss: 0.2170 - accuracy: 0.9068 - val_loss: 2.2153 - val_accuracy: 0.5000\n",
      "Epoch 14/100\n",
      "12/12 [==============================] - 0s 27ms/step - loss: 0.2093 - accuracy: 0.9127 - val_loss: 1.6768 - val_accuracy: 0.5000\n",
      "Epoch 15/100\n",
      "12/12 [==============================] - 0s 28ms/step - loss: 0.1904 - accuracy: 0.9230 - val_loss: 2.7088 - val_accuracy: 0.5000\n",
      "Epoch 16/100\n",
      "12/12 [==============================] - 0s 27ms/step - loss: 0.1742 - accuracy: 0.9323 - val_loss: 5.3663 - val_accuracy: 0.5000\n",
      "Epoch 17/100\n",
      "12/12 [==============================] - 0s 26ms/step - loss: 0.1411 - accuracy: 0.9491 - val_loss: 2.0682 - val_accuracy: 0.4984\n",
      "Epoch 18/100\n",
      "12/12 [==============================] - 0s 26ms/step - loss: 0.1153 - accuracy: 0.9611 - val_loss: 3.3893 - val_accuracy: 0.5000\n",
      "Epoch 19/100\n",
      "12/12 [==============================] - 0s 26ms/step - loss: 0.1129 - accuracy: 0.9567 - val_loss: 2.2577 - val_accuracy: 0.5393\n",
      "Epoch 20/100\n",
      "12/12 [==============================] - 0s 26ms/step - loss: 0.1042 - accuracy: 0.9605 - val_loss: 1.0508 - val_accuracy: 0.6148\n",
      "Epoch 21/100\n",
      "12/12 [==============================] - 0s 26ms/step - loss: 0.0904 - accuracy: 0.9704 - val_loss: 2.6025 - val_accuracy: 0.4984\n",
      "Epoch 22/100\n",
      "12/12 [==============================] - 0s 26ms/step - loss: 0.0753 - accuracy: 0.9759 - val_loss: 4.3612 - val_accuracy: 0.5000\n",
      "Epoch 23/100\n",
      "12/12 [==============================] - 0s 27ms/step - loss: 0.0679 - accuracy: 0.9773 - val_loss: 6.1976 - val_accuracy: 0.5000\n",
      "Epoch 24/100\n",
      "12/12 [==============================] - 0s 26ms/step - loss: 0.0532 - accuracy: 0.9821 - val_loss: 5.4946 - val_accuracy: 0.5000\n",
      "Epoch 25/100\n",
      "12/12 [==============================] - 0s 26ms/step - loss: 0.0379 - accuracy: 0.9904 - val_loss: 3.7165 - val_accuracy: 0.5000\n",
      "Epoch 26/100\n",
      "12/12 [==============================] - 0s 26ms/step - loss: 0.0336 - accuracy: 0.9907 - val_loss: 3.1933 - val_accuracy: 0.5000\n",
      "Epoch 27/100\n",
      "12/12 [==============================] - 0s 27ms/step - loss: 0.0291 - accuracy: 0.9924 - val_loss: 4.4161 - val_accuracy: 0.5000\n",
      "Epoch 28/100\n",
      "12/12 [==============================] - 0s 25ms/step - loss: 0.0270 - accuracy: 0.9942 - val_loss: 3.6730 - val_accuracy: 0.5016\n",
      "Epoch 29/100\n",
      "12/12 [==============================] - 0s 26ms/step - loss: 0.0384 - accuracy: 0.9904 - val_loss: 1.4147 - val_accuracy: 0.6509\n",
      "Epoch 30/100\n",
      "12/12 [==============================] - 0s 26ms/step - loss: 0.0473 - accuracy: 0.9835 - val_loss: 9.3637 - val_accuracy: 0.5000\n",
      "Epoch 31/100\n",
      "12/12 [==============================] - 0s 27ms/step - loss: 0.0497 - accuracy: 0.9856 - val_loss: 6.8277 - val_accuracy: 0.5000\n",
      "Epoch 32/100\n",
      "12/12 [==============================] - 0s 25ms/step - loss: 0.0421 - accuracy: 0.9883 - val_loss: 6.7707 - val_accuracy: 0.5000\n",
      "Epoch 33/100\n",
      "12/12 [==============================] - 0s 27ms/step - loss: 0.0385 - accuracy: 0.9869 - val_loss: 5.8424 - val_accuracy: 0.5000\n",
      "Epoch 34/100\n",
      "12/12 [==============================] - 0s 28ms/step - loss: 0.0333 - accuracy: 0.9893 - val_loss: 9.2546 - val_accuracy: 0.5000\n",
      "Epoch 35/100\n",
      "12/12 [==============================] - 0s 26ms/step - loss: 0.0449 - accuracy: 0.9869 - val_loss: 12.4926 - val_accuracy: 0.5000\n",
      "Epoch 36/100\n",
      "12/12 [==============================] - 0s 26ms/step - loss: 0.0445 - accuracy: 0.9828 - val_loss: 7.7912 - val_accuracy: 0.5000\n",
      "Epoch 37/100\n",
      "12/12 [==============================] - 0s 26ms/step - loss: 0.0264 - accuracy: 0.9924 - val_loss: 21.3489 - val_accuracy: 0.5000\n",
      "Epoch 38/100\n",
      "12/12 [==============================] - 0s 26ms/step - loss: 0.0163 - accuracy: 0.9972 - val_loss: 16.4937 - val_accuracy: 0.5000\n",
      "Epoch 39/100\n",
      "12/12 [==============================] - 0s 26ms/step - loss: 0.0110 - accuracy: 0.9979 - val_loss: 11.9562 - val_accuracy: 0.5000\n",
      "Epoch 40/100\n",
      "12/12 [==============================] - 0s 26ms/step - loss: 0.0106 - accuracy: 0.9979 - val_loss: 10.5047 - val_accuracy: 0.5000\n",
      "Epoch 41/100\n",
      "12/12 [==============================] - 0s 26ms/step - loss: 0.0073 - accuracy: 0.9990 - val_loss: 8.3254 - val_accuracy: 0.5000\n",
      "Epoch 42/100\n",
      "12/12 [==============================] - 0s 26ms/step - loss: 0.0040 - accuracy: 0.9997 - val_loss: 5.5889 - val_accuracy: 0.4984\n",
      "Epoch 43/100\n",
      "12/12 [==============================] - 0s 26ms/step - loss: 0.0038 - accuracy: 1.0000 - val_loss: 2.9375 - val_accuracy: 0.6006\n",
      "Epoch 44/100\n",
      "12/12 [==============================] - 0s 26ms/step - loss: 0.0033 - accuracy: 1.0000 - val_loss: 3.4051 - val_accuracy: 0.5849\n",
      "Epoch 45/100\n",
      "12/12 [==============================] - 0s 26ms/step - loss: 0.0032 - accuracy: 0.9993 - val_loss: 2.1641 - val_accuracy: 0.6572\n",
      "Epoch 46/100\n",
      "12/12 [==============================] - 0s 28ms/step - loss: 0.0071 - accuracy: 0.9983 - val_loss: 2.2920 - val_accuracy: 0.6415\n",
      "Epoch 47/100\n",
      "12/12 [==============================] - 0s 26ms/step - loss: 0.0123 - accuracy: 0.9969 - val_loss: 3.3506 - val_accuracy: 0.5645\n",
      "Epoch 48/100\n",
      "12/12 [==============================] - 0s 26ms/step - loss: 0.0056 - accuracy: 0.9983 - val_loss: 2.1671 - val_accuracy: 0.6730\n",
      "Epoch 49/100\n",
      "12/12 [==============================] - 0s 25ms/step - loss: 0.0047 - accuracy: 0.9993 - val_loss: 1.9639 - val_accuracy: 0.6714\n",
      "Epoch 50/100\n",
      "12/12 [==============================] - 0s 26ms/step - loss: 0.0033 - accuracy: 0.9997 - val_loss: 2.8247 - val_accuracy: 0.6305\n",
      "Epoch 51/100\n",
      "12/12 [==============================] - 0s 25ms/step - loss: 0.0022 - accuracy: 1.0000 - val_loss: 2.5406 - val_accuracy: 0.6368\n",
      "Epoch 52/100\n",
      "12/12 [==============================] - 0s 26ms/step - loss: 0.0022 - accuracy: 1.0000 - val_loss: 2.4289 - val_accuracy: 0.6352\n",
      "Epoch 53/100\n",
      "12/12 [==============================] - 0s 26ms/step - loss: 0.0015 - accuracy: 1.0000 - val_loss: 2.4457 - val_accuracy: 0.6494\n",
      "Epoch 54/100\n",
      "12/12 [==============================] - 0s 27ms/step - loss: 0.0012 - accuracy: 1.0000 - val_loss: 2.4042 - val_accuracy: 0.6745\n",
      "Epoch 55/100\n",
      "12/12 [==============================] - 0s 26ms/step - loss: 0.0010 - accuracy: 1.0000 - val_loss: 2.4800 - val_accuracy: 0.6667\n",
      "Epoch 56/100\n",
      "12/12 [==============================] - 0s 28ms/step - loss: 0.0012 - accuracy: 1.0000 - val_loss: 2.4533 - val_accuracy: 0.6855\n",
      "Epoch 57/100\n",
      "12/12 [==============================] - 0s 26ms/step - loss: 7.8190e-04 - accuracy: 1.0000 - val_loss: 2.5015 - val_accuracy: 0.6903\n",
      "Epoch 58/100\n",
      "12/12 [==============================] - 0s 26ms/step - loss: 7.6714e-04 - accuracy: 1.0000 - val_loss: 2.5437 - val_accuracy: 0.6871\n",
      "Epoch 59/100\n",
      "12/12 [==============================] - 0s 26ms/step - loss: 6.2503e-04 - accuracy: 1.0000 - val_loss: 2.7320 - val_accuracy: 0.6619\n",
      "Epoch 60/100\n",
      "12/12 [==============================] - 0s 26ms/step - loss: 7.8763e-04 - accuracy: 1.0000 - val_loss: 2.8753 - val_accuracy: 0.6682\n",
      "Epoch 61/100\n",
      "12/12 [==============================] - 0s 26ms/step - loss: 5.2175e-04 - accuracy: 1.0000 - val_loss: 2.7830 - val_accuracy: 0.6572\n",
      "Epoch 62/100\n",
      "12/12 [==============================] - 0s 26ms/step - loss: 0.0012 - accuracy: 0.9997 - val_loss: 2.7752 - val_accuracy: 0.6572\n",
      "Epoch 63/100\n",
      "12/12 [==============================] - 0s 26ms/step - loss: 0.0028 - accuracy: 0.9993 - val_loss: 2.6720 - val_accuracy: 0.6667\n",
      "Epoch 64/100\n",
      "12/12 [==============================] - 0s 26ms/step - loss: 9.8544e-04 - accuracy: 1.0000 - val_loss: 2.8966 - val_accuracy: 0.6509\n",
      "Epoch 65/100\n",
      "12/12 [==============================] - 0s 25ms/step - loss: 6.1565e-04 - accuracy: 1.0000 - val_loss: 2.7352 - val_accuracy: 0.6682\n",
      "Epoch 66/100\n",
      "12/12 [==============================] - 0s 28ms/step - loss: 5.6445e-04 - accuracy: 1.0000 - val_loss: 2.7465 - val_accuracy: 0.6651\n",
      "Epoch 67/100\n",
      "12/12 [==============================] - 0s 27ms/step - loss: 5.5603e-04 - accuracy: 1.0000 - val_loss: 2.8114 - val_accuracy: 0.6619\n",
      "Epoch 68/100\n",
      "12/12 [==============================] - 0s 27ms/step - loss: 4.5917e-04 - accuracy: 1.0000 - val_loss: 2.7332 - val_accuracy: 0.6714\n",
      "Epoch 69/100\n",
      "12/12 [==============================] - 0s 26ms/step - loss: 6.5264e-04 - accuracy: 1.0000 - val_loss: 2.7849 - val_accuracy: 0.6667\n",
      "Epoch 70/100\n",
      "12/12 [==============================] - 0s 27ms/step - loss: 4.3331e-04 - accuracy: 1.0000 - val_loss: 2.8421 - val_accuracy: 0.6604\n",
      "Epoch 71/100\n",
      "12/12 [==============================] - 0s 27ms/step - loss: 5.0947e-04 - accuracy: 1.0000 - val_loss: 2.7632 - val_accuracy: 0.6714\n",
      "Epoch 72/100\n",
      "12/12 [==============================] - 0s 25ms/step - loss: 4.2284e-04 - accuracy: 1.0000 - val_loss: 2.7161 - val_accuracy: 0.6698\n",
      "Epoch 73/100\n",
      "12/12 [==============================] - 0s 26ms/step - loss: 2.9577e-04 - accuracy: 1.0000 - val_loss: 2.7754 - val_accuracy: 0.6714\n",
      "Epoch 74/100\n",
      "12/12 [==============================] - 0s 26ms/step - loss: 3.8226e-04 - accuracy: 1.0000 - val_loss: 2.8394 - val_accuracy: 0.6714\n",
      "Epoch 75/100\n",
      "12/12 [==============================] - 0s 27ms/step - loss: 3.0526e-04 - accuracy: 1.0000 - val_loss: 2.8604 - val_accuracy: 0.6714\n",
      "Epoch 76/100\n",
      "12/12 [==============================] - 0s 26ms/step - loss: 3.3062e-04 - accuracy: 1.0000 - val_loss: 2.8628 - val_accuracy: 0.6714\n",
      "Epoch 77/100\n",
      "12/12 [==============================] - 0s 26ms/step - loss: 2.9402e-04 - accuracy: 1.0000 - val_loss: 2.8503 - val_accuracy: 0.6730\n",
      "Epoch 78/100\n",
      "12/12 [==============================] - 0s 25ms/step - loss: 3.2919e-04 - accuracy: 1.0000 - val_loss: 2.8173 - val_accuracy: 0.6714\n",
      "Epoch 79/100\n",
      "12/12 [==============================] - 0s 26ms/step - loss: 2.9999e-04 - accuracy: 1.0000 - val_loss: 2.7764 - val_accuracy: 0.6777\n",
      "Epoch 80/100\n",
      "12/12 [==============================] - 0s 26ms/step - loss: 2.8665e-04 - accuracy: 1.0000 - val_loss: 2.8655 - val_accuracy: 0.6714\n",
      "Epoch 81/100\n",
      "12/12 [==============================] - 0s 25ms/step - loss: 2.7582e-04 - accuracy: 1.0000 - val_loss: 2.9053 - val_accuracy: 0.6730\n",
      "Epoch 82/100\n",
      "12/12 [==============================] - 0s 26ms/step - loss: 2.7841e-04 - accuracy: 1.0000 - val_loss: 3.0122 - val_accuracy: 0.6635\n",
      "Epoch 83/100\n",
      "12/12 [==============================] - 0s 26ms/step - loss: 2.6185e-04 - accuracy: 1.0000 - val_loss: 3.0329 - val_accuracy: 0.6667\n",
      "Epoch 84/100\n",
      "12/12 [==============================] - 0s 26ms/step - loss: 3.1153e-04 - accuracy: 1.0000 - val_loss: 3.0160 - val_accuracy: 0.6745\n",
      "Epoch 85/100\n",
      "12/12 [==============================] - 0s 27ms/step - loss: 3.4496e-04 - accuracy: 1.0000 - val_loss: 3.0330 - val_accuracy: 0.6730\n",
      "Epoch 86/100\n",
      "12/12 [==============================] - 0s 26ms/step - loss: 2.3935e-04 - accuracy: 1.0000 - val_loss: 3.0693 - val_accuracy: 0.6730\n",
      "Epoch 87/100\n",
      "12/12 [==============================] - 0s 27ms/step - loss: 5.3018e-04 - accuracy: 1.0000 - val_loss: 3.0030 - val_accuracy: 0.6714\n",
      "Epoch 88/100\n",
      "12/12 [==============================] - 0s 25ms/step - loss: 3.2529e-04 - accuracy: 1.0000 - val_loss: 2.8150 - val_accuracy: 0.6792\n",
      "Epoch 89/100\n",
      "12/12 [==============================] - 0s 26ms/step - loss: 2.8306e-04 - accuracy: 1.0000 - val_loss: 2.8079 - val_accuracy: 0.6730\n",
      "Epoch 90/100\n",
      "12/12 [==============================] - 0s 25ms/step - loss: 2.5974e-04 - accuracy: 1.0000 - val_loss: 2.8769 - val_accuracy: 0.6667\n",
      "Epoch 91/100\n",
      "12/12 [==============================] - 0s 25ms/step - loss: 2.3640e-04 - accuracy: 1.0000 - val_loss: 2.8529 - val_accuracy: 0.6840\n",
      "Epoch 92/100\n",
      "12/12 [==============================] - 0s 26ms/step - loss: 1.9729e-04 - accuracy: 1.0000 - val_loss: 2.9090 - val_accuracy: 0.6808\n",
      "Epoch 93/100\n",
      "12/12 [==============================] - 0s 28ms/step - loss: 2.9679e-04 - accuracy: 1.0000 - val_loss: 3.0139 - val_accuracy: 0.6667\n",
      "Epoch 94/100\n",
      "12/12 [==============================] - 0s 26ms/step - loss: 2.0078e-04 - accuracy: 1.0000 - val_loss: 2.9168 - val_accuracy: 0.6698\n",
      "Epoch 95/100\n",
      "12/12 [==============================] - 0s 26ms/step - loss: 1.7871e-04 - accuracy: 1.0000 - val_loss: 2.8957 - val_accuracy: 0.6714\n",
      "Epoch 96/100\n",
      "12/12 [==============================] - 0s 27ms/step - loss: 2.2470e-04 - accuracy: 1.0000 - val_loss: 2.9013 - val_accuracy: 0.6714\n",
      "Epoch 97/100\n",
      "12/12 [==============================] - 0s 26ms/step - loss: 1.8078e-04 - accuracy: 1.0000 - val_loss: 2.8928 - val_accuracy: 0.6682\n",
      "Epoch 98/100\n",
      "12/12 [==============================] - 0s 26ms/step - loss: 2.2199e-04 - accuracy: 1.0000 - val_loss: 2.9511 - val_accuracy: 0.6730\n",
      "Epoch 99/100\n",
      "12/12 [==============================] - 0s 26ms/step - loss: 1.7951e-04 - accuracy: 1.0000 - val_loss: 2.9126 - val_accuracy: 0.6714\n",
      "Epoch 100/100\n",
      "12/12 [==============================] - 0s 25ms/step - loss: 2.4908e-04 - accuracy: 1.0000 - val_loss: 2.9867 - val_accuracy: 0.6682\n"
     ]
    }
   ],
   "source": [
    "history = time_cnn.fit(X_train, y_train, num_epochs=NR_EPOCHS, batch_size=BATCH_SIZE, val_data=X_val, val_labels=y_val)"
   ]
  },
  {
   "cell_type": "code",
   "execution_count": 7,
   "metadata": {},
   "outputs": [
    {
     "data": {
      "text/plain": [
       "<matplotlib.legend.Legend at 0x1d8d0a38250>"
      ]
     },
     "execution_count": 7,
     "metadata": {},
     "output_type": "execute_result"
    },
    {
     "data": {
      "image/png": "[encoded data removed]",
      "text/plain": [
       "<Figure size 640x480 with 1 Axes>"
      ]
     },
     "metadata": {},
     "output_type": "display_data"
    }
   ],
   "source": [
    "import matplotlib.pyplot as plt\n",
    "\n",
    "plt.plot(history.history['accuracy'], label='accuracy')\n",
    "plt.plot(history.history['val_accuracy'], label = 'val_accuracy')\n",
    "plt.xlabel('Epoch')\n",
    "plt.ylabel('Accuracy')\n",
    "plt.ylim([0.5, 1])\n",
    "plt.legend(loc='lower right')"
   ]
  },
  {
   "cell_type": "code",
   "execution_count": 8,
   "metadata": {},
   "outputs": [
    {
     "name": "stdout",
     "output_type": "stream",
     "text": [
      "4/4 [==============================] - 0s 2ms/step\n",
      "PREDICTION: [False] | REAL: False\n",
      "PREDICTION: [False] | REAL: False\n",
      "PREDICTION: [False] | REAL: False\n",
      "PREDICTION: [False] | REAL: False\n",
      "PREDICTION: [False] | REAL: False\n",
      "PREDICTION: [False] | REAL: False\n",
      "PREDICTION: [ True] | REAL: False\n",
      "PREDICTION: [False] | REAL: False\n",
      "PREDICTION: [ True] | REAL: False\n",
      "PREDICTION: [False] | REAL: False\n",
      "PREDICTION: [False] | REAL: False\n",
      "PREDICTION: [ True] | REAL: False\n",
      "PREDICTION: [ True] | REAL: False\n",
      "PREDICTION: [False] | REAL: False\n",
      "PREDICTION: [ True] | REAL: False\n",
      "PREDICTION: [False] | REAL: False\n",
      "PREDICTION: [False] | REAL: False\n",
      "PREDICTION: [False] | REAL: False\n",
      "PREDICTION: [False] | REAL: False\n",
      "PREDICTION: [False] | REAL: False\n",
      "PREDICTION: [False] | REAL: False\n",
      "PREDICTION: [False] | REAL: False\n",
      "PREDICTION: [ True] | REAL: False\n",
      "PREDICTION: [False] | REAL: False\n",
      "PREDICTION: [ True] | REAL: False\n",
      "PREDICTION: [False] | REAL: False\n",
      "PREDICTION: [False] | REAL: False\n",
      "PREDICTION: [ True] | REAL: False\n",
      "PREDICTION: [False] | REAL: False\n",
      "PREDICTION: [ True] | REAL: False\n",
      "PREDICTION: [False] | REAL: False\n",
      "PREDICTION: [False] | REAL: False\n",
      "PREDICTION: [False] | REAL: False\n",
      "PREDICTION: [False] | REAL: False\n",
      "PREDICTION: [ True] | REAL: False\n",
      "PREDICTION: [ True] | REAL: False\n",
      "PREDICTION: [ True] | REAL: False\n",
      "PREDICTION: [False] | REAL: False\n",
      "PREDICTION: [ True] | REAL: False\n",
      "PREDICTION: [ True] | REAL: False\n",
      "PREDICTION: [False] | REAL: False\n",
      "PREDICTION: [False] | REAL: False\n",
      "PREDICTION: [False] | REAL: False\n",
      "PREDICTION: [False] | REAL: False\n",
      "PREDICTION: [ True] | REAL: False\n",
      "PREDICTION: [ True] | REAL: False\n",
      "PREDICTION: [False] | REAL: False\n",
      "PREDICTION: [False] | REAL: False\n",
      "PREDICTION: [ True] | REAL: False\n",
      "PREDICTION: [False] | REAL: False\n",
      "PREDICTION: [ True] | REAL: False\n",
      "PREDICTION: [ True] | REAL: False\n",
      "PREDICTION: [False] | REAL: False\n",
      "PREDICTION: [False] | REAL: False\n",
      "PREDICTION: [False] | REAL: False\n",
      "PREDICTION: [ True] | REAL: True\n",
      "PREDICTION: [ True] | REAL: True\n",
      "PREDICTION: [False] | REAL: True\n",
      "PREDICTION: [ True] | REAL: True\n",
      "PREDICTION: [ True] | REAL: True\n",
      "PREDICTION: [ True] | REAL: True\n",
      "PREDICTION: [ True] | REAL: True\n",
      "PREDICTION: [False] | REAL: True\n",
      "PREDICTION: [ True] | REAL: True\n",
      "PREDICTION: [ True] | REAL: True\n",
      "PREDICTION: [ True] | REAL: True\n",
      "PREDICTION: [ True] | REAL: True\n",
      "PREDICTION: [ True] | REAL: True\n",
      "PREDICTION: [ True] | REAL: True\n",
      "PREDICTION: [ True] | REAL: True\n",
      "PREDICTION: [ True] | REAL: True\n",
      "PREDICTION: [ True] | REAL: True\n",
      "PREDICTION: [ True] | REAL: True\n",
      "PREDICTION: [ True] | REAL: True\n",
      "PREDICTION: [ True] | REAL: True\n",
      "PREDICTION: [ True] | REAL: True\n",
      "PREDICTION: [False] | REAL: True\n",
      "PREDICTION: [ True] | REAL: True\n",
      "PREDICTION: [ True] | REAL: True\n",
      "PREDICTION: [ True] | REAL: True\n",
      "PREDICTION: [ True] | REAL: True\n",
      "PREDICTION: [ True] | REAL: True\n",
      "PREDICTION: [ True] | REAL: True\n",
      "PREDICTION: [ True] | REAL: True\n",
      "PREDICTION: [ True] | REAL: True\n",
      "PREDICTION: [ True] | REAL: True\n",
      "PREDICTION: [ True] | REAL: True\n",
      "PREDICTION: [False] | REAL: True\n",
      "PREDICTION: [ True] | REAL: True\n",
      "PREDICTION: [ True] | REAL: True\n",
      "PREDICTION: [ True] | REAL: True\n",
      "PREDICTION: [ True] | REAL: True\n",
      "PREDICTION: [ True] | REAL: True\n",
      "PREDICTION: [ True] | REAL: True\n",
      "PREDICTION: [ True] | REAL: True\n",
      "PREDICTION: [False] | REAL: True\n",
      "PREDICTION: [ True] | REAL: True\n",
      "PREDICTION: [ True] | REAL: True\n",
      "PREDICTION: [ True] | REAL: True\n",
      "PREDICTION: [ True] | REAL: True\n",
      "PREDICTION: [False] | REAL: True\n",
      "PREDICTION: [ True] | REAL: True\n",
      "PREDICTION: [ True] | REAL: True\n",
      "PREDICTION: [ True] | REAL: True\n",
      "PREDICTION: [ True] | REAL: True\n",
      "PREDICTION: [ True] | REAL: True\n",
      "PREDICTION: [False] | REAL: True\n",
      "PREDICTION: [ True] | REAL: True\n",
      "PREDICTION: [False] | REAL: True\n",
      "PREDICTION: [ True] | REAL: True\n"
     ]
    }
   ],
   "source": [
    "import numpy as np\n",
    "predictions = time_cnn.model.predict(X_test)\n",
    "predictions = np.array([prediction > 0.5 for prediction in predictions])\n",
    "\n",
    "for i in range(len(y_test)):\n",
    "    print(\"PREDICTION: \" + str(predictions[i]) + \" | \" +  \"REAL: \" + str(y_test[i]))"
   ]
  },
  {
   "cell_type": "markdown",
   "metadata": {},
   "source": [
    "### METRICS:"
   ]
  },
  {
   "cell_type": "code",
   "execution_count": 9,
   "metadata": {},
   "outputs": [
    {
     "name": "stdout",
     "output_type": "stream",
     "text": [
      "True Positives: 47\n",
      "True Negatives: 36\n",
      "False Positives: 8\n",
      "False Negatives: 19\n",
      "total Samples: 110\n",
      "Accuracy: 0.7545454545454545\n",
      "Precision: 0.8545454545454545\n",
      "Sensitivity: 0.7121212121212122\n",
      "Specificity: 0.8181818181818182\n",
      "TPR: 0.8545454545454545\n",
      "FPR: 0.18181818181818182\n",
      "F1-Score: 0.7327197595792636\n"
     ]
    }
   ],
   "source": [
    "from ia.metrics.metrics import Metrics\n",
    "metrics = Metrics(y_test, predictions, time_cnn.name(), \"time\")\n",
    "metrics.all_metrics()\n",
    "metrics.metrics_to_database()"
   ]
  },
  {
   "cell_type": "markdown",
   "metadata": {},
   "source": [
    "ROC curve"
   ]
  },
  {
   "cell_type": "code",
   "execution_count": 10,
   "metadata": {},
   "outputs": [
    {
     "data": {
      "image/png": "[encoded data removed]",
      "text/plain": [
       "<Figure size 640x480 with 1 Axes>"
      ]
     },
     "metadata": {},
     "output_type": "display_data"
    }
   ],
   "source": [
    "import sklearn.metrics as metrics\n",
    "import matplotlib.pyplot as plt\n",
    "\n",
    "fpr, tpr, threshold = metrics.roc_curve(y_test, predictions)\n",
    "roc_auc = metrics.auc(fpr, tpr)\n",
    "\n",
    "plt.title('Receiver Operating Characteristic')\n",
    "plt.plot(fpr, tpr, 'b', label = 'AUC = %0.2f' % roc_auc)\n",
    "plt.legend(loc = 'lower right')\n",
    "plt.plot([0, 1], [0, 1],'r--')\n",
    "plt.xlim([0, 1])\n",
    "plt.ylim([0, 1])\n",
    "plt.ylabel('True Positive Rate')\n",
    "plt.xlabel('False Positive Rate')\n",
    "plt.show()"
   ]
  }
 ],
 "metadata": {
  "kernelspec": {
   "display_name": "Python 3",
   "language": "python",
   "name": "python3"
  },
  "language_info": {
   "codemirror_mode": {
    "name": "ipython",
    "version": 3
   },
   "file_extension": ".py",
   "mimetype": "text/x-python",
   "name": "python",
   "nbconvert_exporter": "python",
   "pygments_lexer": "ipython3",
   "version": "3.11.5"
  }
 },
 "nbformat": 4,
 "nbformat_minor": 2
}

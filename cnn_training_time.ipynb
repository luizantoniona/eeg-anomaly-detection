{
 "cells": [
  {
   "cell_type": "markdown",
   "metadata": {},
   "source": [
    "### CNN Training in Time Domain"
   ]
  },
  {
   "cell_type": "code",
   "execution_count": null,
   "metadata": {},
   "outputs": [],
   "source": [
    "import preprocessor.time_preprocessor as preprocessor\n",
    "X_train, y_train, X_val, y_val, X_test, y_test = preprocessor.preprocess(True, True, True)\n",
    "print(X_train.shape)"
   ]
  },
  {
   "cell_type": "markdown",
   "metadata": {},
   "source": [
    "Load CNN model"
   ]
  },
  {
   "cell_type": "code",
   "execution_count": 2,
   "metadata": {},
   "outputs": [],
   "source": [
    "from ia.model.cnn.time_cnn import TimeCNN\n",
    "time_cnn = TimeCNN(input_shape=(X_train[0].shape))"
   ]
  },
  {
   "cell_type": "code",
   "execution_count": 3,
   "metadata": {},
   "outputs": [],
   "source": [
    "time_cnn.compile()"
   ]
  },
  {
   "cell_type": "code",
   "execution_count": 4,
   "metadata": {},
   "outputs": [],
   "source": [
    "NR_EPOCHS = 100\n",
    "BATCH_SIZE = 250"
   ]
  },
  {
   "cell_type": "code",
   "execution_count": 5,
   "metadata": {},
   "outputs": [
    {
     "name": "stdout",
     "output_type": "stream",
     "text": [
      "Epoch 1/100\n",
      "11/11 [==============================] - 1s 45ms/step - loss: 0.7120 - accuracy: 0.4977 - val_loss: 0.6933 - val_accuracy: 0.5097\n",
      "Epoch 2/100\n",
      "11/11 [==============================] - 0s 26ms/step - loss: 0.6958 - accuracy: 0.4947 - val_loss: 0.6941 - val_accuracy: 0.5000\n",
      "Epoch 3/100\n",
      "11/11 [==============================] - 0s 27ms/step - loss: 0.6948 - accuracy: 0.4894 - val_loss: 0.6919 - val_accuracy: 0.5000\n",
      "Epoch 4/100\n",
      "11/11 [==============================] - 0s 27ms/step - loss: 0.6918 - accuracy: 0.5106 - val_loss: 0.6921 - val_accuracy: 0.5215\n",
      "Epoch 5/100\n",
      "11/11 [==============================] - 0s 25ms/step - loss: 0.6928 - accuracy: 0.5159 - val_loss: 0.6912 - val_accuracy: 0.6234\n",
      "Epoch 6/100\n",
      "11/11 [==============================] - 0s 27ms/step - loss: 0.6907 - accuracy: 0.5390 - val_loss: 0.6897 - val_accuracy: 0.5215\n",
      "Epoch 7/100\n",
      "11/11 [==============================] - 0s 27ms/step - loss: 0.6888 - accuracy: 0.5696 - val_loss: 0.6881 - val_accuracy: 0.5032\n",
      "Epoch 8/100\n",
      "11/11 [==============================] - 0s 27ms/step - loss: 0.6863 - accuracy: 0.5635 - val_loss: 0.6844 - val_accuracy: 0.6105\n",
      "Epoch 9/100\n",
      "11/11 [==============================] - 0s 28ms/step - loss: 0.6809 - accuracy: 0.6172 - val_loss: 0.6803 - val_accuracy: 0.6373\n",
      "Epoch 10/100\n",
      "11/11 [==============================] - 0s 28ms/step - loss: 0.6721 - accuracy: 0.6539 - val_loss: 0.6737 - val_accuracy: 0.6427\n",
      "Epoch 11/100\n",
      "11/11 [==============================] - 0s 26ms/step - loss: 0.6601 - accuracy: 0.6532 - val_loss: 0.6638 - val_accuracy: 0.6556\n",
      "Epoch 12/100\n",
      "11/11 [==============================] - 0s 29ms/step - loss: 0.6424 - accuracy: 0.6812 - val_loss: 0.6544 - val_accuracy: 0.6288\n",
      "Epoch 13/100\n",
      "11/11 [==============================] - 0s 30ms/step - loss: 0.6216 - accuracy: 0.6872 - val_loss: 0.6420 - val_accuracy: 0.6406\n",
      "Epoch 14/100\n",
      "11/11 [==============================] - 0s 28ms/step - loss: 0.5976 - accuracy: 0.6993 - val_loss: 0.6374 - val_accuracy: 0.6255\n",
      "Epoch 15/100\n",
      "11/11 [==============================] - 0s 27ms/step - loss: 0.5759 - accuracy: 0.7137 - val_loss: 0.6345 - val_accuracy: 0.6277\n",
      "Epoch 16/100\n",
      "11/11 [==============================] - 0s 26ms/step - loss: 0.5562 - accuracy: 0.7224 - val_loss: 0.6253 - val_accuracy: 0.6491\n",
      "Epoch 17/100\n",
      "11/11 [==============================] - 0s 27ms/step - loss: 0.5361 - accuracy: 0.7458 - val_loss: 0.6349 - val_accuracy: 0.6298\n",
      "Epoch 18/100\n",
      "11/11 [==============================] - 0s 27ms/step - loss: 0.5162 - accuracy: 0.7466 - val_loss: 0.6310 - val_accuracy: 0.6406\n",
      "Epoch 19/100\n",
      "11/11 [==============================] - 0s 27ms/step - loss: 0.5125 - accuracy: 0.7568 - val_loss: 0.6224 - val_accuracy: 0.6760\n",
      "Epoch 20/100\n",
      "11/11 [==============================] - 0s 28ms/step - loss: 0.4984 - accuracy: 0.7666 - val_loss: 0.6224 - val_accuracy: 0.6588\n",
      "Epoch 21/100\n",
      "11/11 [==============================] - 0s 26ms/step - loss: 0.4848 - accuracy: 0.7776 - val_loss: 0.6186 - val_accuracy: 0.6717\n",
      "Epoch 22/100\n",
      "11/11 [==============================] - 0s 27ms/step - loss: 0.4693 - accuracy: 0.7927 - val_loss: 0.6236 - val_accuracy: 0.6813\n",
      "Epoch 23/100\n",
      "11/11 [==============================] - 0s 27ms/step - loss: 0.4584 - accuracy: 0.7973 - val_loss: 0.6315 - val_accuracy: 0.6727\n",
      "Epoch 24/100\n",
      "11/11 [==============================] - 0s 27ms/step - loss: 0.4499 - accuracy: 0.8067 - val_loss: 0.6286 - val_accuracy: 0.6803\n",
      "Epoch 25/100\n",
      "11/11 [==============================] - 0s 27ms/step - loss: 0.4384 - accuracy: 0.8128 - val_loss: 0.6427 - val_accuracy: 0.6706\n",
      "Epoch 26/100\n",
      "11/11 [==============================] - 0s 26ms/step - loss: 0.4248 - accuracy: 0.8215 - val_loss: 0.6395 - val_accuracy: 0.6717\n",
      "Epoch 27/100\n",
      "11/11 [==============================] - 0s 26ms/step - loss: 0.4099 - accuracy: 0.8336 - val_loss: 0.6475 - val_accuracy: 0.6803\n",
      "Epoch 28/100\n",
      "11/11 [==============================] - 0s 30ms/step - loss: 0.4052 - accuracy: 0.8309 - val_loss: 0.6362 - val_accuracy: 0.6781\n",
      "Epoch 29/100\n",
      "11/11 [==============================] - 0s 26ms/step - loss: 0.3933 - accuracy: 0.8393 - val_loss: 0.6522 - val_accuracy: 0.6824\n",
      "Epoch 30/100\n",
      "11/11 [==============================] - 0s 29ms/step - loss: 0.4000 - accuracy: 0.8347 - val_loss: 0.6339 - val_accuracy: 0.6867\n",
      "Epoch 31/100\n",
      "11/11 [==============================] - 0s 28ms/step - loss: 0.3869 - accuracy: 0.8381 - val_loss: 0.6728 - val_accuracy: 0.6878\n",
      "Epoch 32/100\n",
      "11/11 [==============================] - 0s 26ms/step - loss: 0.3852 - accuracy: 0.8483 - val_loss: 0.6441 - val_accuracy: 0.6921\n",
      "Epoch 33/100\n",
      "11/11 [==============================] - 0s 27ms/step - loss: 0.3665 - accuracy: 0.8502 - val_loss: 0.6682 - val_accuracy: 0.6921\n",
      "Epoch 34/100\n",
      "11/11 [==============================] - 0s 27ms/step - loss: 0.3550 - accuracy: 0.8593 - val_loss: 0.6690 - val_accuracy: 0.6953\n",
      "Epoch 35/100\n",
      "11/11 [==============================] - 0s 27ms/step - loss: 0.3517 - accuracy: 0.8578 - val_loss: 0.6969 - val_accuracy: 0.6867\n",
      "Epoch 36/100\n",
      "11/11 [==============================] - 0s 27ms/step - loss: 0.3447 - accuracy: 0.8741 - val_loss: 0.6813 - val_accuracy: 0.6974\n",
      "Epoch 37/100\n",
      "11/11 [==============================] - 0s 28ms/step - loss: 0.3408 - accuracy: 0.8665 - val_loss: 0.6739 - val_accuracy: 0.7039\n",
      "Epoch 38/100\n",
      "11/11 [==============================] - 0s 27ms/step - loss: 0.3279 - accuracy: 0.8763 - val_loss: 0.6819 - val_accuracy: 0.7124\n",
      "Epoch 39/100\n",
      "11/11 [==============================] - 0s 26ms/step - loss: 0.3243 - accuracy: 0.8782 - val_loss: 0.6683 - val_accuracy: 0.7082\n",
      "Epoch 40/100\n",
      "11/11 [==============================] - 0s 30ms/step - loss: 0.3201 - accuracy: 0.8831 - val_loss: 0.6801 - val_accuracy: 0.7039\n",
      "Epoch 41/100\n",
      "11/11 [==============================] - 0s 27ms/step - loss: 0.3214 - accuracy: 0.8839 - val_loss: 0.6930 - val_accuracy: 0.6996\n",
      "Epoch 42/100\n",
      "11/11 [==============================] - 0s 26ms/step - loss: 0.3091 - accuracy: 0.8835 - val_loss: 0.6964 - val_accuracy: 0.7092\n",
      "Epoch 43/100\n",
      "11/11 [==============================] - 0s 26ms/step - loss: 0.3135 - accuracy: 0.8846 - val_loss: 0.6914 - val_accuracy: 0.7082\n",
      "Epoch 44/100\n",
      "11/11 [==============================] - 0s 27ms/step - loss: 0.3019 - accuracy: 0.8899 - val_loss: 0.7290 - val_accuracy: 0.6964\n",
      "Epoch 45/100\n",
      "11/11 [==============================] - 0s 26ms/step - loss: 0.2978 - accuracy: 0.8911 - val_loss: 0.6947 - val_accuracy: 0.7071\n",
      "Epoch 46/100\n",
      "11/11 [==============================] - 0s 27ms/step - loss: 0.2874 - accuracy: 0.8956 - val_loss: 0.7440 - val_accuracy: 0.6942\n",
      "Epoch 47/100\n",
      "11/11 [==============================] - 0s 27ms/step - loss: 0.2894 - accuracy: 0.8990 - val_loss: 0.7132 - val_accuracy: 0.7028\n",
      "Epoch 48/100\n",
      "11/11 [==============================] - 0s 26ms/step - loss: 0.2805 - accuracy: 0.9002 - val_loss: 0.6911 - val_accuracy: 0.7049\n",
      "Epoch 49/100\n",
      "11/11 [==============================] - 0s 27ms/step - loss: 0.2934 - accuracy: 0.8903 - val_loss: 0.7237 - val_accuracy: 0.7060\n",
      "Epoch 50/100\n",
      "11/11 [==============================] - 0s 26ms/step - loss: 0.2815 - accuracy: 0.8975 - val_loss: 0.7485 - val_accuracy: 0.7060\n",
      "Epoch 51/100\n",
      "11/11 [==============================] - 0s 30ms/step - loss: 0.2731 - accuracy: 0.9005 - val_loss: 0.7264 - val_accuracy: 0.6964\n",
      "Epoch 52/100\n",
      "11/11 [==============================] - 0s 26ms/step - loss: 0.2784 - accuracy: 0.9036 - val_loss: 0.7224 - val_accuracy: 0.7167\n",
      "Epoch 53/100\n",
      "11/11 [==============================] - 0s 26ms/step - loss: 0.2711 - accuracy: 0.9024 - val_loss: 0.7993 - val_accuracy: 0.6985\n",
      "Epoch 54/100\n",
      "11/11 [==============================] - 0s 26ms/step - loss: 0.2669 - accuracy: 0.9054 - val_loss: 0.7830 - val_accuracy: 0.6953\n",
      "Epoch 55/100\n",
      "11/11 [==============================] - 0s 27ms/step - loss: 0.2574 - accuracy: 0.9054 - val_loss: 0.7461 - val_accuracy: 0.7049\n",
      "Epoch 56/100\n",
      "11/11 [==============================] - 0s 26ms/step - loss: 0.2514 - accuracy: 0.9160 - val_loss: 0.7433 - val_accuracy: 0.7124\n",
      "Epoch 57/100\n",
      "11/11 [==============================] - 0s 26ms/step - loss: 0.2495 - accuracy: 0.9179 - val_loss: 0.7473 - val_accuracy: 0.7124\n",
      "Epoch 58/100\n",
      "11/11 [==============================] - 0s 28ms/step - loss: 0.2384 - accuracy: 0.9210 - val_loss: 0.7795 - val_accuracy: 0.7092\n",
      "Epoch 59/100\n",
      "11/11 [==============================] - 0s 26ms/step - loss: 0.2428 - accuracy: 0.9198 - val_loss: 0.7565 - val_accuracy: 0.7071\n",
      "Epoch 60/100\n",
      "11/11 [==============================] - 0s 26ms/step - loss: 0.2366 - accuracy: 0.9255 - val_loss: 0.7935 - val_accuracy: 0.7114\n",
      "Epoch 61/100\n",
      "11/11 [==============================] - 0s 27ms/step - loss: 0.2354 - accuracy: 0.9191 - val_loss: 0.7531 - val_accuracy: 0.7006\n",
      "Epoch 62/100\n",
      "11/11 [==============================] - 0s 27ms/step - loss: 0.2319 - accuracy: 0.9251 - val_loss: 0.7984 - val_accuracy: 0.7135\n",
      "Epoch 63/100\n",
      "11/11 [==============================] - 0s 26ms/step - loss: 0.2235 - accuracy: 0.9285 - val_loss: 0.8094 - val_accuracy: 0.7167\n",
      "Epoch 64/100\n",
      "11/11 [==============================] - 0s 29ms/step - loss: 0.2223 - accuracy: 0.9247 - val_loss: 0.7774 - val_accuracy: 0.6942\n",
      "Epoch 65/100\n",
      "11/11 [==============================] - 0s 27ms/step - loss: 0.2241 - accuracy: 0.9281 - val_loss: 0.8052 - val_accuracy: 0.7114\n",
      "Epoch 66/100\n",
      "11/11 [==============================] - 0s 27ms/step - loss: 0.2145 - accuracy: 0.9346 - val_loss: 0.8072 - val_accuracy: 0.7071\n",
      "Epoch 67/100\n",
      "11/11 [==============================] - 0s 26ms/step - loss: 0.2096 - accuracy: 0.9312 - val_loss: 0.8290 - val_accuracy: 0.7049\n",
      "Epoch 68/100\n",
      "11/11 [==============================] - 0s 27ms/step - loss: 0.2046 - accuracy: 0.9334 - val_loss: 0.8434 - val_accuracy: 0.7060\n",
      "Epoch 69/100\n",
      "11/11 [==============================] - 0s 26ms/step - loss: 0.1976 - accuracy: 0.9387 - val_loss: 0.8356 - val_accuracy: 0.7006\n",
      "Epoch 70/100\n",
      "11/11 [==============================] - 0s 27ms/step - loss: 0.1946 - accuracy: 0.9402 - val_loss: 0.8387 - val_accuracy: 0.7039\n",
      "Epoch 71/100\n",
      "11/11 [==============================] - 0s 27ms/step - loss: 0.1915 - accuracy: 0.9402 - val_loss: 0.8553 - val_accuracy: 0.6996\n",
      "Epoch 72/100\n",
      "11/11 [==============================] - 0s 27ms/step - loss: 0.1985 - accuracy: 0.9384 - val_loss: 0.8792 - val_accuracy: 0.7103\n",
      "Epoch 73/100\n",
      "11/11 [==============================] - 0s 27ms/step - loss: 0.2032 - accuracy: 0.9285 - val_loss: 0.8512 - val_accuracy: 0.7028\n",
      "Epoch 74/100\n",
      "11/11 [==============================] - 0s 26ms/step - loss: 0.2082 - accuracy: 0.9285 - val_loss: 0.8852 - val_accuracy: 0.6931\n",
      "Epoch 75/100\n",
      "11/11 [==============================] - 0s 29ms/step - loss: 0.1989 - accuracy: 0.9338 - val_loss: 0.8597 - val_accuracy: 0.7060\n",
      "Epoch 76/100\n",
      "11/11 [==============================] - 0s 26ms/step - loss: 0.1946 - accuracy: 0.9410 - val_loss: 0.8790 - val_accuracy: 0.7071\n",
      "Epoch 77/100\n",
      "11/11 [==============================] - 0s 27ms/step - loss: 0.1854 - accuracy: 0.9452 - val_loss: 0.8466 - val_accuracy: 0.7071\n",
      "Epoch 78/100\n",
      "11/11 [==============================] - 0s 26ms/step - loss: 0.1821 - accuracy: 0.9410 - val_loss: 0.9757 - val_accuracy: 0.6888\n",
      "Epoch 79/100\n",
      "11/11 [==============================] - 0s 28ms/step - loss: 0.1784 - accuracy: 0.9444 - val_loss: 0.9270 - val_accuracy: 0.7092\n",
      "Epoch 80/100\n",
      "11/11 [==============================] - 0s 27ms/step - loss: 0.1750 - accuracy: 0.9489 - val_loss: 0.8763 - val_accuracy: 0.7049\n",
      "Epoch 81/100\n",
      "11/11 [==============================] - 0s 26ms/step - loss: 0.1672 - accuracy: 0.9455 - val_loss: 0.9373 - val_accuracy: 0.7049\n",
      "Epoch 82/100\n",
      "11/11 [==============================] - 0s 27ms/step - loss: 0.1664 - accuracy: 0.9516 - val_loss: 0.9047 - val_accuracy: 0.7167\n",
      "Epoch 83/100\n",
      "11/11 [==============================] - 0s 26ms/step - loss: 0.1616 - accuracy: 0.9489 - val_loss: 0.9265 - val_accuracy: 0.7092\n",
      "Epoch 84/100\n",
      "11/11 [==============================] - 0s 27ms/step - loss: 0.1648 - accuracy: 0.9493 - val_loss: 1.1038 - val_accuracy: 0.6749\n",
      "Epoch 85/100\n",
      "11/11 [==============================] - 0s 30ms/step - loss: 0.1678 - accuracy: 0.9452 - val_loss: 0.9744 - val_accuracy: 0.7006\n",
      "Epoch 86/100\n",
      "11/11 [==============================] - 0s 27ms/step - loss: 0.1524 - accuracy: 0.9554 - val_loss: 0.9683 - val_accuracy: 0.6985\n",
      "Epoch 87/100\n",
      "11/11 [==============================] - 0s 27ms/step - loss: 0.1576 - accuracy: 0.9527 - val_loss: 0.9885 - val_accuracy: 0.7103\n",
      "Epoch 88/100\n",
      "11/11 [==============================] - 0s 26ms/step - loss: 0.1578 - accuracy: 0.9493 - val_loss: 0.9547 - val_accuracy: 0.7103\n",
      "Epoch 89/100\n",
      "11/11 [==============================] - 0s 28ms/step - loss: 0.1464 - accuracy: 0.9569 - val_loss: 1.0252 - val_accuracy: 0.6921\n",
      "Epoch 90/100\n",
      "11/11 [==============================] - 0s 27ms/step - loss: 0.1512 - accuracy: 0.9546 - val_loss: 1.0616 - val_accuracy: 0.6921\n",
      "Epoch 91/100\n",
      "11/11 [==============================] - 0s 26ms/step - loss: 0.1690 - accuracy: 0.9429 - val_loss: 1.0298 - val_accuracy: 0.7028\n",
      "Epoch 92/100\n",
      "11/11 [==============================] - 0s 27ms/step - loss: 0.1679 - accuracy: 0.9452 - val_loss: 1.0208 - val_accuracy: 0.7060\n",
      "Epoch 93/100\n",
      "11/11 [==============================] - 0s 27ms/step - loss: 0.1652 - accuracy: 0.9520 - val_loss: 1.0213 - val_accuracy: 0.7082\n",
      "Epoch 94/100\n",
      "11/11 [==============================] - 0s 26ms/step - loss: 0.1638 - accuracy: 0.9418 - val_loss: 1.0693 - val_accuracy: 0.7082\n",
      "Epoch 95/100\n",
      "11/11 [==============================] - 0s 26ms/step - loss: 0.2094 - accuracy: 0.9168 - val_loss: 1.2091 - val_accuracy: 0.6792\n",
      "Epoch 96/100\n",
      "11/11 [==============================] - 0s 31ms/step - loss: 0.1800 - accuracy: 0.9402 - val_loss: 0.9898 - val_accuracy: 0.7060\n",
      "Epoch 97/100\n",
      "11/11 [==============================] - 0s 27ms/step - loss: 0.1360 - accuracy: 0.9576 - val_loss: 1.0147 - val_accuracy: 0.6996\n",
      "Epoch 98/100\n",
      "11/11 [==============================] - 0s 26ms/step - loss: 0.1309 - accuracy: 0.9648 - val_loss: 1.0336 - val_accuracy: 0.6942\n",
      "Epoch 99/100\n",
      "11/11 [==============================] - 0s 26ms/step - loss: 0.1310 - accuracy: 0.9648 - val_loss: 1.1332 - val_accuracy: 0.6888\n",
      "Epoch 100/100\n",
      "11/11 [==============================] - 0s 25ms/step - loss: 0.1391 - accuracy: 0.9580 - val_loss: 1.0810 - val_accuracy: 0.6996\n"
     ]
    }
   ],
   "source": [
    "history = time_cnn.fit(X_train, y_train, num_epochs=NR_EPOCHS, batch_size=BATCH_SIZE, val_data=X_val, val_labels=y_val)"
   ]
  },
  {
   "cell_type": "code",
   "execution_count": 6,
   "metadata": {},
   "outputs": [
    {
     "data": {
      "text/plain": [
       "<matplotlib.legend.Legend at 0x25fa8005dd0>"
      ]
     },
     "execution_count": 6,
     "metadata": {},
     "output_type": "execute_result"
    },
    {
     "data": {
      "image/png": "[encoded data removed]",
      "text/plain": [
       "<Figure size 640x480 with 1 Axes>"
      ]
     },
     "metadata": {},
     "output_type": "display_data"
    }
   ],
   "source": [
    "import matplotlib.pyplot as plt\n",
    "\n",
    "plt.plot(history.history['accuracy'], label='accuracy')\n",
    "plt.plot(history.history['val_accuracy'], label = 'val_accuracy')\n",
    "plt.xlabel('Epoch')\n",
    "plt.ylabel('Accuracy')\n",
    "plt.ylim([0.5, 1])\n",
    "plt.legend(loc='lower right')"
   ]
  },
  {
   "cell_type": "code",
   "execution_count": 7,
   "metadata": {},
   "outputs": [
    {
     "name": "stdout",
     "output_type": "stream",
     "text": [
      "Model: \"sequential\"\n",
      "_________________________________________________________________\n",
      " Layer (type)                Output Shape              Param #   \n",
      "=================================================================\n",
      " conv1d (Conv1D)             (None, 16, 32)            122912    \n",
      "                                                                 \n",
      " max_pooling1d (MaxPooling1  (None, 5, 32)             0         \n",
      " D)                                                              \n",
      "                                                                 \n",
      " conv1d_1 (Conv1D)           (None, 3, 64)             6208      \n",
      "                                                                 \n",
      " max_pooling1d_1 (MaxPoolin  (None, 1, 64)             0         \n",
      " g1D)                                                            \n",
      "                                                                 \n",
      " global_max_pooling1d (Glob  (None, 64)                0         \n",
      " alMaxPooling1D)                                                 \n",
      "                                                                 \n",
      " flatten (Flatten)           (None, 64)                0         \n",
      "                                                                 \n",
      " dense (Dense)               (None, 128)               8320      \n",
      "                                                                 \n",
      " dropout (Dropout)           (None, 128)               0         \n",
      "                                                                 \n",
      " dense_1 (Dense)             (None, 1)                 129       \n",
      "                                                                 \n",
      "=================================================================\n",
      "Total params: 137569 (537.38 KB)\n",
      "Trainable params: 137569 (537.38 KB)\n",
      "Non-trainable params: 0 (0.00 Byte)\n",
      "_________________________________________________________________\n"
     ]
    }
   ],
   "source": [
    "time_cnn.summary()"
   ]
  },
  {
   "cell_type": "code",
   "execution_count": 8,
   "metadata": {},
   "outputs": [
    {
     "name": "stdout",
     "output_type": "stream",
     "text": [
      "3/3 [==============================] - 0s 0s/step\n",
      "PREDICTION: [False] | REAL: False\n",
      "PREDICTION: [False] | REAL: False\n",
      "PREDICTION: [False] | REAL: False\n",
      "PREDICTION: [ True] | REAL: False\n",
      "PREDICTION: [False] | REAL: False\n",
      "PREDICTION: [False] | REAL: False\n",
      "PREDICTION: [False] | REAL: False\n",
      "PREDICTION: [False] | REAL: False\n",
      "PREDICTION: [ True] | REAL: False\n",
      "PREDICTION: [False] | REAL: False\n",
      "PREDICTION: [ True] | REAL: False\n",
      "PREDICTION: [ True] | REAL: False\n",
      "PREDICTION: [False] | REAL: False\n",
      "PREDICTION: [False] | REAL: False\n",
      "PREDICTION: [ True] | REAL: False\n",
      "PREDICTION: [False] | REAL: False\n",
      "PREDICTION: [ True] | REAL: False\n",
      "PREDICTION: [False] | REAL: False\n",
      "PREDICTION: [False] | REAL: False\n",
      "PREDICTION: [False] | REAL: False\n",
      "PREDICTION: [False] | REAL: False\n",
      "PREDICTION: [ True] | REAL: False\n",
      "PREDICTION: [False] | REAL: False\n",
      "PREDICTION: [ True] | REAL: False\n",
      "PREDICTION: [ True] | REAL: False\n",
      "PREDICTION: [ True] | REAL: False\n",
      "PREDICTION: [ True] | REAL: False\n",
      "PREDICTION: [False] | REAL: False\n",
      "PREDICTION: [ True] | REAL: False\n",
      "PREDICTION: [ True] | REAL: False\n",
      "PREDICTION: [ True] | REAL: False\n",
      "PREDICTION: [False] | REAL: False\n",
      "PREDICTION: [ True] | REAL: False\n",
      "PREDICTION: [False] | REAL: False\n",
      "PREDICTION: [False] | REAL: False\n",
      "PREDICTION: [False] | REAL: False\n",
      "PREDICTION: [False] | REAL: False\n",
      "PREDICTION: [False] | REAL: False\n",
      "PREDICTION: [ True] | REAL: True\n",
      "PREDICTION: [ True] | REAL: True\n",
      "PREDICTION: [ True] | REAL: True\n",
      "PREDICTION: [ True] | REAL: True\n",
      "PREDICTION: [ True] | REAL: True\n",
      "PREDICTION: [ True] | REAL: True\n",
      "PREDICTION: [ True] | REAL: True\n",
      "PREDICTION: [ True] | REAL: True\n",
      "PREDICTION: [ True] | REAL: True\n",
      "PREDICTION: [False] | REAL: True\n",
      "PREDICTION: [ True] | REAL: True\n",
      "PREDICTION: [ True] | REAL: True\n",
      "PREDICTION: [ True] | REAL: True\n",
      "PREDICTION: [ True] | REAL: True\n",
      "PREDICTION: [False] | REAL: True\n",
      "PREDICTION: [ True] | REAL: True\n",
      "PREDICTION: [ True] | REAL: True\n",
      "PREDICTION: [ True] | REAL: True\n",
      "PREDICTION: [ True] | REAL: True\n",
      "PREDICTION: [ True] | REAL: True\n",
      "PREDICTION: [ True] | REAL: True\n",
      "PREDICTION: [ True] | REAL: True\n",
      "PREDICTION: [False] | REAL: True\n",
      "PREDICTION: [ True] | REAL: True\n",
      "PREDICTION: [False] | REAL: True\n",
      "PREDICTION: [ True] | REAL: True\n",
      "PREDICTION: [ True] | REAL: True\n",
      "PREDICTION: [ True] | REAL: True\n",
      "PREDICTION: [ True] | REAL: True\n",
      "PREDICTION: [ True] | REAL: True\n",
      "PREDICTION: [False] | REAL: True\n",
      "PREDICTION: [ True] | REAL: True\n",
      "PREDICTION: [ True] | REAL: True\n",
      "PREDICTION: [ True] | REAL: True\n",
      "PREDICTION: [ True] | REAL: True\n",
      "PREDICTION: [ True] | REAL: True\n",
      "PREDICTION: [ True] | REAL: True\n",
      "PREDICTION: [ True] | REAL: True\n"
     ]
    }
   ],
   "source": [
    "import numpy as np\n",
    "predictions = time_cnn.model.predict(X_test)\n",
    "predictions = np.array([prediction > 0.5 for prediction in predictions])\n",
    "\n",
    "for i in range(len(y_test)):\n",
    "    print(\"PREDICTION: \" + str(predictions[i]) + \" | \" +  \"REAL: \" + str(y_test[i]))"
   ]
  },
  {
   "cell_type": "code",
   "execution_count": 9,
   "metadata": {},
   "outputs": [
    {
     "name": "stdout",
     "output_type": "stream",
     "text": [
      "3/3 [==============================] - 0s 2ms/step - loss: 1.1338 - accuracy: 0.7368\n",
      "Test accuracy: 0.7368420958518982\n",
      "Test loss: 1.1338375806808472\n"
     ]
    }
   ],
   "source": [
    "test_loss, test_acc = time_cnn.model.evaluate(X_test, y_test)\n",
    "print(f'Test accuracy: {test_acc}')\n",
    "print(f'Test loss: {test_loss}')"
   ]
  },
  {
   "cell_type": "markdown",
   "metadata": {},
   "source": [
    "### Metrics:"
   ]
  },
  {
   "cell_type": "code",
   "execution_count": 10,
   "metadata": {},
   "outputs": [
    {
     "name": "stdout",
     "output_type": "stream",
     "text": [
      "True Positives: 33\n",
      "True Negatives: 23\n",
      "False Positives: 5\n",
      "False Negatives: 15\n",
      "total Samples: 76\n",
      "Accuracy: 0.7368421052631579\n",
      "Precision: 0.868421052631579\n",
      "Sensitivity: 0.6875\n",
      "Specificity: 0.8214285714285714\n",
      "TPR: 0.868421052631579\n",
      "FPR: 0.17857142857142858\n",
      "F1-Score: 0.7113163972286374\n"
     ]
    }
   ],
   "source": [
    "from ia.metrics.metrics import Metrics\n",
    "metrics = Metrics(y_test, predictions, time_cnn.name(), \"time\")\n",
    "metrics.all_metrics()\n",
    "metrics.metrics_to_database()"
   ]
  },
  {
   "cell_type": "markdown",
   "metadata": {},
   "source": [
    "ROC curve"
   ]
  },
  {
   "cell_type": "code",
   "execution_count": 11,
   "metadata": {},
   "outputs": [
    {
     "data": {
      "image/png": "[encoded data removed]",
      "text/plain": [
       "<Figure size 640x480 with 1 Axes>"
      ]
     },
     "metadata": {},
     "output_type": "display_data"
    }
   ],
   "source": [
    "import sklearn.metrics as metrics\n",
    "import matplotlib.pyplot as plt\n",
    "\n",
    "fpr, tpr, threshold = metrics.roc_curve(y_test, predictions)\n",
    "roc_auc = metrics.auc(fpr, tpr)\n",
    "\n",
    "plt.title('Receiver Operating Characteristic')\n",
    "plt.plot(fpr, tpr, 'b', label = 'AUC = %0.2f' % roc_auc)\n",
    "plt.legend(loc = 'lower right')\n",
    "plt.plot([0, 1], [0, 1],'r--')\n",
    "plt.xlim([0, 1])\n",
    "plt.ylim([0, 1])\n",
    "plt.ylabel('True Positive Rate')\n",
    "plt.xlabel('False Positive Rate')\n",
    "plt.show()"
   ]
  }
 ],
 "metadata": {
  "kernelspec": {
   "display_name": "Python 3",
   "language": "python",
   "name": "python3"
  },
  "language_info": {
   "codemirror_mode": {
    "name": "ipython",
    "version": 3
   },
   "file_extension": ".py",
   "mimetype": "text/x-python",
   "name": "python",
   "nbconvert_exporter": "python",
   "pygments_lexer": "ipython3",
   "version": "3.11.5"
  }
 },
 "nbformat": 4,
 "nbformat_minor": 2
}

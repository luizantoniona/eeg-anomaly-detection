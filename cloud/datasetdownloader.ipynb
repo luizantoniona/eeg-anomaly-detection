{
 "cells": [
  {
   "cell_type": "markdown",
   "id": "90d89cc3",
   "metadata": {},
   "source": [
    "### Dataset Downloader\n",
    "Notebook responsável por organizar os arquivos do dataset locamente\n",
    "\n",
    "Carrega as informações referente aos arquivos de dataset presente em: https://physionet.org/content/chbmit/1.0.0/"
   ]
  },
  {
   "cell_type": "markdown",
   "id": "6e0af18a",
   "metadata": {},
   "source": [
    "#### Pacotes Necessários"
   ]
  },
  {
   "cell_type": "code",
   "execution_count": null,
   "id": "db6be447",
   "metadata": {},
   "outputs": [],
   "source": [
    "!pip install requests\n",
    "!pip install wfdb"
   ]
  },
  {
   "cell_type": "markdown",
   "id": "b7d8e14d",
   "metadata": {},
   "source": [
    "Armazena cada um dos diretórios presente no dataset, utilizado posteriormente para fazer o donwload separado de cada arquivo\n",
    "\n",
    "- record_list: Armazenar todos os arquivos dentro do dataset -> path/path-summary.txt + -> path/path_chxx.edf\n",
    "- part_codes: Armazena os diretórios principais de cada exame"
   ]
  },
  {
   "cell_type": "code",
   "execution_count": 3,
   "id": "4c9066dc",
   "metadata": {},
   "outputs": [],
   "source": [
    "import wfdb \n",
    "\n",
    "dbs = wfdb.get_dbs()\n",
    "records_list = wfdb.io.get_record_list('chbmit', records='all')\n",
    "\n",
    "part_codes = sorted(list(set([record.split('/')[0] for record in records_list])))"
   ]
  },
  {
   "cell_type": "markdown",
   "id": "0469082d",
   "metadata": {},
   "source": [
    "get_content: Faz o download de cada um dos summarios presentes nos exames e os adiciona ao path ../data/"
   ]
  },
  {
   "cell_type": "code",
   "execution_count": 4,
   "id": "a87360d2",
   "metadata": {},
   "outputs": [],
   "source": [
    "import os\n",
    "from urllib.request import urlretrieve\n",
    "\n",
    "def get_content( part_code ):\n",
    "  url = \"https://physionet.org/physiobank/database/chbmit/\" + part_code + '/' + part_code + '-summary.txt'\n",
    "  directory = \"../data/\" + part_code + '/'\n",
    "  filename = part_code + \"-summary.txt\"\n",
    "\n",
    "  fullpath = os.path.join( directory, filename )\n",
    "\n",
    "  if not os.path.exists( directory ):\n",
    "    os.makedirs( directory )\n",
    "    urlretrieve( url, fullpath )\n",
    "  else:\n",
    "    print(part_code + \": Já existe\")\n",
    "    \n",
    "#Executa\n",
    "for part_code in part_codes:\n",
    "  get_content( part_code )\n"
   ]
  },
  {
   "cell_type": "code",
   "execution_count": null,
   "id": "dea71794",
   "metadata": {},
   "outputs": [],
   "source": [
    "  #with open(filename, encoding='UTF-8') as f:\n",
    "  #    content = f.readlines()\n",
    "  #    f.close()\n",
    "      #os.remove(filename)\n",
    "\n",
    "  #return content"
   ]
  }
 ],
 "metadata": {
  "kernelspec": {
   "display_name": "Python 3 (ipykernel)",
   "language": "python",
   "name": "python3"
  },
  "language_info": {
   "codemirror_mode": {
    "name": "ipython",
    "version": 3
   },
   "file_extension": ".py",
   "mimetype": "text/x-python",
   "name": "python",
   "nbconvert_exporter": "python",
   "pygments_lexer": "ipython3",
   "version": "3.11.4"
  }
 },
 "nbformat": 4,
 "nbformat_minor": 5
}

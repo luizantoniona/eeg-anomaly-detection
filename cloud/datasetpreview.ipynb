{
 "cells": [
  {
   "cell_type": "markdown",
   "metadata": {},
   "source": [
    "### Dataset Preview\n",
    "Notebook responsável para visualização previa do dataset\n",
    "\n",
    "Motivador: Gerar gráficos e informações para visualização prévia do dataset"
   ]
  },
  {
   "cell_type": "markdown",
   "metadata": {},
   "source": [
    "### Pacotes Necessários\n"
   ]
  },
  {
   "cell_type": "code",
   "execution_count": null,
   "metadata": {
    "vscode": {
     "languageId": "plaintext"
    }
   },
   "outputs": [],
   "source": []
  },
  {
   "cell_type": "code",
   "execution_count": null,
   "metadata": {
    "vscode": {
     "languageId": "plaintext"
    }
   },
   "outputs": [],
   "source": [
    "  #with open(filename, encoding='UTF-8') as f:\n",
    "  #    content = f.readlines()\n",
    "  #    f.close()\n",
    "      #os.remove(filename)\n",
    "\n",
    "  #return content"
   ]
  }
 ],
 "metadata": {
  "language_info": {
   "name": "python"
  },
  "orig_nbformat": 4
 },
 "nbformat": 4,
 "nbformat_minor": 2
}

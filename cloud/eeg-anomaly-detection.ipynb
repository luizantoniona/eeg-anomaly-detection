{
 "cells": [
  {
   "cell_type": "code",
   "execution_count": null,
   "id": "efacf985",
   "metadata": {},
   "outputs": [],
   "source": [
    "#EEG Anomaly Detection\n",
    "#Luiz Antonio Nicolau Anghinoni"
   ]
  },
  {
   "cell_type": "code",
   "execution_count": 2,
   "id": "db6be447",
   "metadata": {},
   "outputs": [
    {
     "name": "stdout",
     "output_type": "stream",
     "text": [
      "Collecting wfdb\n",
      "  Obtaining dependency information for wfdb from https://files.pythonhosted.org/packages/ce/00/b83d0bd64384455dbc1f8eccb7b5d6dac23728515a9d4d74aa4def6c6fe4/wfdb-4.1.2-py3-none-any.whl.metadata\n",
      "  Downloading wfdb-4.1.2-py3-none-any.whl.metadata (4.3 kB)\n",
      "Collecting pyEDFlib\n",
      "  Obtaining dependency information for pyEDFlib from https://files.pythonhosted.org/packages/ab/aa/ed49d4ac5a983bbda790be89494cca476bb7a8762b1aa44700906a06546f/pyEDFlib-0.1.34-cp311-cp311-win_amd64.whl.metadata\n",
      "  Downloading pyEDFlib-0.1.34-cp311-cp311-win_amd64.whl.metadata (6.5 kB)\n",
      "Collecting SoundFile>=0.10.0 (from wfdb)\n",
      "  Downloading soundfile-0.12.1-py2.py3-none-win_amd64.whl (1.0 MB)\n",
      "     ---------------------------------------- 0.0/1.0 MB ? eta -:--:--\n",
      "     ------------ --------------------------- 0.3/1.0 MB 6.3 MB/s eta 0:00:01\n",
      "     -------------------------------- ------- 0.8/1.0 MB 8.7 MB/s eta 0:00:01\n",
      "     ---------------------------------------- 1.0/1.0 MB 9.2 MB/s eta 0:00:00\n",
      "Requirement already satisfied: matplotlib>=3.2.2 in c:\\users\\luiza\\anaconda3\\lib\\site-packages (from wfdb) (3.7.1)\n",
      "Requirement already satisfied: numpy>=1.10.1 in c:\\users\\luiza\\anaconda3\\lib\\site-packages (from wfdb) (1.24.3)\n",
      "Requirement already satisfied: pandas>=1.3.0 in c:\\users\\luiza\\anaconda3\\lib\\site-packages (from wfdb) (1.5.3)\n",
      "Requirement already satisfied: requests>=2.8.1 in c:\\users\\luiza\\anaconda3\\lib\\site-packages (from wfdb) (2.31.0)\n",
      "Requirement already satisfied: scipy>=1.0.0 in c:\\users\\luiza\\anaconda3\\lib\\site-packages (from wfdb) (1.10.1)\n",
      "Requirement already satisfied: contourpy>=1.0.1 in c:\\users\\luiza\\anaconda3\\lib\\site-packages (from matplotlib>=3.2.2->wfdb) (1.0.5)\n",
      "Requirement already satisfied: cycler>=0.10 in c:\\users\\luiza\\anaconda3\\lib\\site-packages (from matplotlib>=3.2.2->wfdb) (0.11.0)\n",
      "Requirement already satisfied: fonttools>=4.22.0 in c:\\users\\luiza\\anaconda3\\lib\\site-packages (from matplotlib>=3.2.2->wfdb) (4.25.0)\n",
      "Requirement already satisfied: kiwisolver>=1.0.1 in c:\\users\\luiza\\anaconda3\\lib\\site-packages (from matplotlib>=3.2.2->wfdb) (1.4.4)\n",
      "Requirement already satisfied: packaging>=20.0 in c:\\users\\luiza\\anaconda3\\lib\\site-packages (from matplotlib>=3.2.2->wfdb) (23.0)\n",
      "Requirement already satisfied: pillow>=6.2.0 in c:\\users\\luiza\\anaconda3\\lib\\site-packages (from matplotlib>=3.2.2->wfdb) (9.4.0)\n",
      "Requirement already satisfied: pyparsing>=2.3.1 in c:\\users\\luiza\\anaconda3\\lib\\site-packages (from matplotlib>=3.2.2->wfdb) (3.0.9)\n",
      "Requirement already satisfied: python-dateutil>=2.7 in c:\\users\\luiza\\anaconda3\\lib\\site-packages (from matplotlib>=3.2.2->wfdb) (2.8.2)\n",
      "Requirement already satisfied: pytz>=2020.1 in c:\\users\\luiza\\anaconda3\\lib\\site-packages (from pandas>=1.3.0->wfdb) (2022.7)\n",
      "Requirement already satisfied: charset-normalizer<4,>=2 in c:\\users\\luiza\\anaconda3\\lib\\site-packages (from requests>=2.8.1->wfdb) (2.0.4)\n",
      "Requirement already satisfied: idna<4,>=2.5 in c:\\users\\luiza\\anaconda3\\lib\\site-packages (from requests>=2.8.1->wfdb) (3.4)\n",
      "Requirement already satisfied: urllib3<3,>=1.21.1 in c:\\users\\luiza\\anaconda3\\lib\\site-packages (from requests>=2.8.1->wfdb) (1.26.16)\n",
      "Requirement already satisfied: certifi>=2017.4.17 in c:\\users\\luiza\\anaconda3\\lib\\site-packages (from requests>=2.8.1->wfdb) (2023.7.22)\n",
      "Requirement already satisfied: cffi>=1.0 in c:\\users\\luiza\\anaconda3\\lib\\site-packages (from SoundFile>=0.10.0->wfdb) (1.15.1)\n",
      "Requirement already satisfied: pycparser in c:\\users\\luiza\\anaconda3\\lib\\site-packages (from cffi>=1.0->SoundFile>=0.10.0->wfdb) (2.21)\n",
      "Requirement already satisfied: six>=1.5 in c:\\users\\luiza\\anaconda3\\lib\\site-packages (from python-dateutil>=2.7->matplotlib>=3.2.2->wfdb) (1.16.0)\n",
      "Downloading wfdb-4.1.2-py3-none-any.whl (159 kB)\n",
      "   ---------------------------------------- 0.0/160.0 kB ? eta -:--:--\n",
      "   ---------------------------------------- 160.0/160.0 kB 9.4 MB/s eta 0:00:00\n",
      "Downloading pyEDFlib-0.1.34-cp311-cp311-win_amd64.whl (2.2 MB)\n",
      "   ---------------------------------------- 0.0/2.2 MB ? eta -:--:--\n",
      "   -------- ------------------------------- 0.5/2.2 MB 9.4 MB/s eta 0:00:01\n",
      "   ----------------- ---------------------- 1.0/2.2 MB 10.2 MB/s eta 0:00:01\n",
      "   ------------------- -------------------- 1.0/2.2 MB 11.1 MB/s eta 0:00:01\n",
      "   ------------------- -------------------- 1.0/2.2 MB 11.1 MB/s eta 0:00:01\n",
      "   ------------------- -------------------- 1.0/2.2 MB 11.1 MB/s eta 0:00:01\n",
      "   ------------------- -------------------- 1.0/2.2 MB 11.1 MB/s eta 0:00:01\n",
      "   ------------------- -------------------- 1.0/2.2 MB 11.1 MB/s eta 0:00:01\n",
      "   ------------------------- -------------- 1.4/2.2 MB 3.8 MB/s eta 0:00:01\n",
      "   -------------------------------- ------- 1.8/2.2 MB 4.1 MB/s eta 0:00:01\n",
      "   -------------------------------------- - 2.1/2.2 MB 4.8 MB/s eta 0:00:01\n",
      "   ---------------------------------------- 2.2/2.2 MB 4.3 MB/s eta 0:00:00\n",
      "Installing collected packages: pyEDFlib, SoundFile, wfdb\n",
      "Successfully installed SoundFile-0.12.1 pyEDFlib-0.1.34 wfdb-4.1.2\n"
     ]
    }
   ],
   "source": [
    "#Packages to install\n",
    "!pip install wfdb pyEDFlib"
   ]
  },
  {
   "cell_type": "code",
   "execution_count": 3,
   "id": "4c9066dc",
   "metadata": {},
   "outputs": [
    {
     "data": {
      "text/plain": [
       "['chb01',\n",
       " 'chb02',\n",
       " 'chb03',\n",
       " 'chb04',\n",
       " 'chb05',\n",
       " 'chb06',\n",
       " 'chb07',\n",
       " 'chb08',\n",
       " 'chb09',\n",
       " 'chb10',\n",
       " 'chb11',\n",
       " 'chb12',\n",
       " 'chb13',\n",
       " 'chb14',\n",
       " 'chb15',\n",
       " 'chb16',\n",
       " 'chb17',\n",
       " 'chb18',\n",
       " 'chb19',\n",
       " 'chb20',\n",
       " 'chb21',\n",
       " 'chb22',\n",
       " 'chb23',\n",
       " 'chb24']"
      ]
     },
     "execution_count": 3,
     "metadata": {},
     "output_type": "execute_result"
    }
   ],
   "source": [
    "#Carregando o DATASET -> https://physionet.org/content/chbmit/1.0.0/\n",
    "\n",
    "import wfdb \n",
    "\n",
    "dbs = wfdb.get_dbs()\n",
    "\n",
    "records_list = wfdb.io.get_record_list('chbmit', records='all')\n",
    "\n",
    "part_codes = sorted(list(set([record.split('/')[0] for record in records_list])))"
   ]
  },
  {
   "cell_type": "code",
   "execution_count": null,
   "id": "a87360d2",
   "metadata": {},
   "outputs": [],
   "source": []
  },
  {
   "cell_type": "code",
   "execution_count": 6,
   "id": "ade2ad1f",
   "metadata": {},
   "outputs": [
    {
     "ename": "PermissionError",
     "evalue": "[WinError 32] O arquivo já está sendo usado por outro processo: './chbmit.txt'",
     "output_type": "error",
     "traceback": [
      "\u001b[1;31m---------------------------------------------------------------------------\u001b[0m",
      "\u001b[1;31mPermissionError\u001b[0m                           Traceback (most recent call last)",
      "Cell \u001b[1;32mIn[6], line 18\u001b[0m\n\u001b[0;32m     14\u001b[0m       os\u001b[38;5;241m.\u001b[39mremove(filename)\n\u001b[0;32m     16\u001b[0m   \u001b[38;5;28;01mreturn\u001b[39;00m content\n\u001b[1;32m---> 18\u001b[0m get_content(part_codes[\u001b[38;5;241m0\u001b[39m])\n",
      "Cell \u001b[1;32mIn[6], line 14\u001b[0m, in \u001b[0;36mget_content\u001b[1;34m(part_code)\u001b[0m\n\u001b[0;32m     11\u001b[0m \u001b[38;5;28;01mwith\u001b[39;00m \u001b[38;5;28mopen\u001b[39m(filename, encoding\u001b[38;5;241m=\u001b[39m\u001b[38;5;124m'\u001b[39m\u001b[38;5;124mUTF-8\u001b[39m\u001b[38;5;124m'\u001b[39m) \u001b[38;5;28;01mas\u001b[39;00m f:\n\u001b[0;32m     12\u001b[0m     \u001b[38;5;66;03m# read all the document into a list of strings (each line a new string)\u001b[39;00m\n\u001b[0;32m     13\u001b[0m     content \u001b[38;5;241m=\u001b[39m f\u001b[38;5;241m.\u001b[39mreadlines()\n\u001b[1;32m---> 14\u001b[0m     os\u001b[38;5;241m.\u001b[39mremove(filename)\n\u001b[0;32m     16\u001b[0m \u001b[38;5;28;01mreturn\u001b[39;00m content\n",
      "\u001b[1;31mPermissionError\u001b[0m: [WinError 32] O arquivo já está sendo usado por outro processo: './chbmit.txt'"
     ]
    }
   ],
   "source": [
    "import os\n",
    "from urllib.request import urlretrieve\n",
    "\n",
    "def get_content(part_code):\n",
    "  url = \"https://physionet.org/physiobank/database/chbmit/\"+part_code+'/'+part_code+'-summary.txt'\n",
    "  filename = \"./chbmit.txt\"\n",
    "\n",
    "  urlretrieve(url,filename)\n",
    "\n",
    "  # read the file into a list\n",
    "  with open(filename, encoding='UTF-8') as f:\n",
    "      # read all the document into a list of strings (each line a new string)\n",
    "      content = f.readlines()\n",
    "      os.remove(filename)\n",
    "\n",
    "  return content\n",
    "\n",
    "get_content(part_codes[0])"
   ]
  },
  {
   "cell_type": "code",
   "execution_count": null,
   "id": "b6825755",
   "metadata": {},
   "outputs": [],
   "source": []
  }
 ],
 "metadata": {
  "kernelspec": {
   "display_name": "Python 3 (ipykernel)",
   "language": "python",
   "name": "python3"
  },
  "language_info": {
   "codemirror_mode": {
    "name": "ipython",
    "version": 3
   },
   "file_extension": ".py",
   "mimetype": "text/x-python",
   "name": "python",
   "nbconvert_exporter": "python",
   "pygments_lexer": "ipython3",
   "version": "3.11.4"
  }
 },
 "nbformat": 4,
 "nbformat_minor": 5
}

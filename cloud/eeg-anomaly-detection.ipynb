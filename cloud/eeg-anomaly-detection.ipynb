{
 "cells": [
  {
   "cell_type": "code",
   "execution_count": 1,
   "id": "efacf985",
   "metadata": {},
   "outputs": [],
   "source": [
    "#EEG Anomaly Detection\n",
    "#Luiz Antonio Nicolau Anghinoni"
   ]
  },
  {
   "cell_type": "code",
   "execution_count": 2,
   "id": "db6be447",
   "metadata": {},
   "outputs": [
    {
     "name": "stdout",
     "output_type": "stream",
     "text": [
      "Requirement already satisfied: wfdb in c:\\users\\luiza\\anaconda3\\lib\\site-packages (4.1.2)\n",
      "Requirement already satisfied: pyEDFlib in c:\\users\\luiza\\anaconda3\\lib\\site-packages (0.1.34)\n",
      "Requirement already satisfied: SoundFile>=0.10.0 in c:\\users\\luiza\\anaconda3\\lib\\site-packages (from wfdb) (0.12.1)\n",
      "Requirement already satisfied: matplotlib>=3.2.2 in c:\\users\\luiza\\anaconda3\\lib\\site-packages (from wfdb) (3.7.1)\n",
      "Requirement already satisfied: numpy>=1.10.1 in c:\\users\\luiza\\anaconda3\\lib\\site-packages (from wfdb) (1.24.3)\n",
      "Requirement already satisfied: pandas>=1.3.0 in c:\\users\\luiza\\anaconda3\\lib\\site-packages (from wfdb) (1.5.3)\n",
      "Requirement already satisfied: requests>=2.8.1 in c:\\users\\luiza\\anaconda3\\lib\\site-packages (from wfdb) (2.31.0)\n",
      "Requirement already satisfied: scipy>=1.0.0 in c:\\users\\luiza\\anaconda3\\lib\\site-packages (from wfdb) (1.10.1)\n",
      "Requirement already satisfied: contourpy>=1.0.1 in c:\\users\\luiza\\anaconda3\\lib\\site-packages (from matplotlib>=3.2.2->wfdb) (1.0.5)\n",
      "Requirement already satisfied: cycler>=0.10 in c:\\users\\luiza\\anaconda3\\lib\\site-packages (from matplotlib>=3.2.2->wfdb) (0.11.0)\n",
      "Requirement already satisfied: fonttools>=4.22.0 in c:\\users\\luiza\\anaconda3\\lib\\site-packages (from matplotlib>=3.2.2->wfdb) (4.25.0)\n",
      "Requirement already satisfied: kiwisolver>=1.0.1 in c:\\users\\luiza\\anaconda3\\lib\\site-packages (from matplotlib>=3.2.2->wfdb) (1.4.4)\n",
      "Requirement already satisfied: packaging>=20.0 in c:\\users\\luiza\\anaconda3\\lib\\site-packages (from matplotlib>=3.2.2->wfdb) (23.0)\n",
      "Requirement already satisfied: pillow>=6.2.0 in c:\\users\\luiza\\anaconda3\\lib\\site-packages (from matplotlib>=3.2.2->wfdb) (9.4.0)\n",
      "Requirement already satisfied: pyparsing>=2.3.1 in c:\\users\\luiza\\anaconda3\\lib\\site-packages (from matplotlib>=3.2.2->wfdb) (3.0.9)\n",
      "Requirement already satisfied: python-dateutil>=2.7 in c:\\users\\luiza\\anaconda3\\lib\\site-packages (from matplotlib>=3.2.2->wfdb) (2.8.2)\n",
      "Requirement already satisfied: pytz>=2020.1 in c:\\users\\luiza\\anaconda3\\lib\\site-packages (from pandas>=1.3.0->wfdb) (2022.7)\n",
      "Requirement already satisfied: charset-normalizer<4,>=2 in c:\\users\\luiza\\anaconda3\\lib\\site-packages (from requests>=2.8.1->wfdb) (2.0.4)\n",
      "Requirement already satisfied: idna<4,>=2.5 in c:\\users\\luiza\\anaconda3\\lib\\site-packages (from requests>=2.8.1->wfdb) (3.4)\n",
      "Requirement already satisfied: urllib3<3,>=1.21.1 in c:\\users\\luiza\\anaconda3\\lib\\site-packages (from requests>=2.8.1->wfdb) (1.26.16)\n",
      "Requirement already satisfied: certifi>=2017.4.17 in c:\\users\\luiza\\anaconda3\\lib\\site-packages (from requests>=2.8.1->wfdb) (2023.7.22)\n",
      "Requirement already satisfied: cffi>=1.0 in c:\\users\\luiza\\anaconda3\\lib\\site-packages (from SoundFile>=0.10.0->wfdb) (1.15.1)\n",
      "Requirement already satisfied: pycparser in c:\\users\\luiza\\anaconda3\\lib\\site-packages (from cffi>=1.0->SoundFile>=0.10.0->wfdb) (2.21)\n",
      "Requirement already satisfied: six>=1.5 in c:\\users\\luiza\\anaconda3\\lib\\site-packages (from python-dateutil>=2.7->matplotlib>=3.2.2->wfdb) (1.16.0)\n"
     ]
    }
   ],
   "source": [
    "#Packages to install\n",
    "!pip install wfdb pyEDFlib"
   ]
  },
  {
   "cell_type": "code",
   "execution_count": 3,
   "id": "4c9066dc",
   "metadata": {},
   "outputs": [],
   "source": [
    "#Carregando o DATASET -> https://physionet.org/content/chbmit/1.0.0/\n",
    "\n",
    "import wfdb \n",
    "\n",
    "dbs = wfdb.get_dbs()\n",
    "\n",
    "records_list = wfdb.io.get_record_list('chbmit', records='all')\n",
    "\n",
    "part_codes = sorted(list(set([record.split('/')[0] for record in records_list])))"
   ]
  },
  {
   "cell_type": "code",
   "execution_count": 8,
   "id": "a87360d2",
   "metadata": {},
   "outputs": [],
   "source": [
    "#Faz o download de cada um dos summarios presentes nos exames\n",
    "import os\n",
    "from urllib.request import urlretrieve\n",
    "\n",
    "def get_content( part_code ):\n",
    "  url = \"https://physionet.org/physiobank/database/chbmit/\"+part_code+'/'+part_code+'-summary.txt'\n",
    "  filename = \"./chbmit.txt\"\n",
    "\n",
    "  urlretrieve(url,filename)\n",
    "\n",
    "  # read the file into a list\n",
    "  with open(filename, encoding='UTF-8') as f:\n",
    "      # read all the document into a list of strings (each line a new string)\n",
    "      content = f.readlines()\n",
    "      f.close()\n",
    "      os.remove(filename)\n",
    "\n",
    "  return content\n"
   ]
  },
  {
   "cell_type": "code",
   "execution_count": 16,
   "id": "ade2ad1f",
   "metadata": {},
   "outputs": [],
   "source": [
    "#Converter os sumarios de TXT para um Objeto que possibilite ver as informações\n",
    "\n",
    "import re\n",
    "part_info_dict = {}\n",
    "\n",
    "def info_dict(content):\n",
    "  \n",
    "  line_nos=len(content)\n",
    "  line_no=1\n",
    "\n",
    "  channels = []\n",
    "  file_name = []\n",
    "  file_info_dict={}\n",
    "\n",
    "  for line in content:\n",
    "\n",
    "    # if there is Channel in the line...\n",
    "    if re.findall('Channel \\d+', line):\n",
    "      # split the line into channel number and channel reference\n",
    "      channel = line.split(': ')\n",
    "      # get the channel reference and remove any new lines\n",
    "      channel = channel[-1].replace(\"\\n\", \"\")\n",
    "      # put into the channel list\n",
    "      channels.append(channel)\n",
    "\n",
    "    # if the line is the file name\n",
    "    elif re.findall('File Name', line):\n",
    "      # if there is already a file_name\n",
    "      if file_name:\n",
    "        # flush the current file info to it\n",
    "        part_info_dict[file_name] = file_info_dict\n",
    "\n",
    "      # get the file name\n",
    "      file_name = re.findall('\\w+\\d+_\\d+|\\w+\\d+\\w+_\\d+', line)[0]\n",
    "\n",
    "      file_info_dict = {}\n",
    "      # put the channel list in the file info dict and remove duplicates\n",
    "      file_info_dict['Channels'] = list(set(channels))\n",
    "      # reset the rest of the options\n",
    "      file_info_dict['Start Time'] = ''\n",
    "      file_info_dict['End Time'] = ''\n",
    "      file_info_dict['Seizures Window'] = []\n",
    "\n",
    "    # if the line is about the file start time\n",
    "    elif re.findall('File Start Time', line):\n",
    "      # get the start time\n",
    "      file_info_dict['Start Time'] = re.findall('\\d+:\\d+:\\d+', line)[0]\n",
    "\n",
    "    # if the line is about the file end time\n",
    "    elif re.findall('File End Time', line):\n",
    "      # get the start time\n",
    "      file_info_dict['End Time'] = re.findall('\\d+:\\d+:\\d+', line)[0]\n",
    "\n",
    "    elif re.findall('Seizure Start Time|Seizure End Time|Seizure \\d+ Start Time|Seizure \\d+ End Time', line):\n",
    "      file_info_dict['Seizures Window'].append(int(re.findall('\\d+', line)[-1]))\n",
    "\n",
    "    # if last line in the list...\n",
    "    if line_no == line_nos:\n",
    "      # flush the file info to it\n",
    "      part_info_dict[file_name] = file_info_dict\n",
    "\n",
    "    line_no+=1"
   ]
  },
  {
   "cell_type": "code",
   "execution_count": 15,
   "id": "b6825755",
   "metadata": {},
   "outputs": [],
   "source": [
    "#Carregando o summario de cada um dos exames de EEG\n",
    "for part_code in part_codes:\n",
    "  content = get_content(part_code)\n",
    "  info_dict(content)"
   ]
  },
  {
   "cell_type": "code",
   "execution_count": 17,
   "id": "6eb1909e",
   "metadata": {},
   "outputs": [
    {
     "name": "stdout",
     "output_type": "stream",
     "text": [
      "part_info_dict\n"
     ]
    },
    {
     "ename": "KeyError",
     "evalue": "'chb01_18'",
     "output_type": "error",
     "traceback": [
      "\u001b[1;31m---------------------------------------------------------------------------\u001b[0m",
      "\u001b[1;31mKeyError\u001b[0m                                  Traceback (most recent call last)",
      "Cell \u001b[1;32mIn[17], line 2\u001b[0m\n\u001b[0;32m      1\u001b[0m \u001b[39mprint\u001b[39m(\u001b[39m'\u001b[39m\u001b[39mpart_info_dict\u001b[39m\u001b[39m'\u001b[39m)\n\u001b[1;32m----> 2\u001b[0m display(part_info_dict[\u001b[39m'\u001b[39m\u001b[39mchb01_18\u001b[39m\u001b[39m'\u001b[39m])\n\u001b[0;32m      3\u001b[0m \u001b[39mprint\u001b[39m(\u001b[39m'\u001b[39m\u001b[39m\\n\u001b[39;00m\u001b[39mPart Keys\u001b[39m\u001b[39m'\u001b[39m)\n\u001b[0;32m      4\u001b[0m \u001b[39mprint\u001b[39m(part_info_dict[\u001b[39mlist\u001b[39m(part_info_dict\u001b[39m.\u001b[39mkeys())[\u001b[39m0\u001b[39m]]\u001b[39m.\u001b[39mkeys())\n",
      "\u001b[1;31mKeyError\u001b[0m: 'chb01_18'"
     ]
    }
   ],
   "source": [
    "print('part_info_dict')\n",
    "display(part_info_dict['chb01_18'])\n",
    "print('\\nPart Keys')\n",
    "print(part_info_dict[list(part_info_dict.keys())[0]].keys())"
   ]
  }
 ],
 "metadata": {
  "kernelspec": {
   "display_name": "Python 3 (ipykernel)",
   "language": "python",
   "name": "python3"
  },
  "language_info": {
   "codemirror_mode": {
    "name": "ipython",
    "version": 3
   },
   "file_extension": ".py",
   "mimetype": "text/x-python",
   "name": "python",
   "nbconvert_exporter": "python",
   "pygments_lexer": "ipython3",
   "version": "3.11.4"
  }
 },
 "nbformat": 4,
 "nbformat_minor": 5
}

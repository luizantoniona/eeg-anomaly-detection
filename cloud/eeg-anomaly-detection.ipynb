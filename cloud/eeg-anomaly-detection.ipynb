{
 "cells": [
  {
   "cell_type": "code",
   "execution_count": 1,
   "id": "efacf985",
   "metadata": {},
   "outputs": [],
   "source": [
    "#EEG Anomaly Detection\n",
    "#Luiz Antonio Nicolau Anghinoni"
   ]
  },
  {
   "cell_type": "code",
   "execution_count": null,
   "id": "db6be447",
   "metadata": {},
   "outputs": [],
   "source": [
    "#Packages to install\n",
    "!pip install wfdb pyEDFlib"
   ]
  },
  {
   "cell_type": "code",
   "execution_count": 3,
   "id": "4c9066dc",
   "metadata": {},
   "outputs": [],
   "source": [
    "#Carregando o DATASET -> https://physionet.org/content/chbmit/1.0.0/\n",
    "\n",
    "import wfdb \n",
    "\n",
    "dbs = wfdb.get_dbs()\n",
    "\n",
    "records_list = wfdb.io.get_record_list('chbmit', records='all')\n",
    "\n",
    "part_codes = sorted(list(set([record.split('/')[0] for record in records_list])))"
   ]
  },
  {
   "cell_type": "code",
   "execution_count": 8,
   "id": "a87360d2",
   "metadata": {},
   "outputs": [],
   "source": [
    "#Faz o download de cada um dos summarios presentes nos exames\n",
    "import os\n",
    "from urllib.request import urlretrieve\n",
    "\n",
    "def get_content( part_code ):\n",
    "  url = \"https://physionet.org/physiobank/database/chbmit/\"+part_code+'/'+part_code+'-summary.txt'\n",
    "  filename = \"./chbmit.txt\"\n",
    "\n",
    "  urlretrieve(url,filename)\n",
    "\n",
    "  # read the file into a list\n",
    "  with open(filename, encoding='UTF-8') as f:\n",
    "      # read all the document into a list of strings (each line a new string)\n",
    "      content = f.readlines()\n",
    "      f.close()\n",
    "      os.remove(filename)\n",
    "\n",
    "  return content\n"
   ]
  },
  {
   "cell_type": "code",
   "execution_count": 16,
   "id": "ade2ad1f",
   "metadata": {},
   "outputs": [],
   "source": [
    "#Converter os sumarios de TXT para um Objeto que possibilite ver as informações\n",
    "\n",
    "import re\n",
    "part_info_dict = {}\n",
    "\n",
    "def info_dict(content):\n",
    "  \n",
    "  line_nos=len(content)\n",
    "  line_no=1\n",
    "\n",
    "  channels = []\n",
    "  file_name = []\n",
    "  file_info_dict={}\n",
    "\n",
    "  for line in content:\n",
    "\n",
    "    # if there is Channel in the line...\n",
    "    if re.findall('Channel \\d+', line):\n",
    "      # split the line into channel number and channel reference\n",
    "      channel = line.split(': ')\n",
    "      # get the channel reference and remove any new lines\n",
    "      channel = channel[-1].replace(\"\\n\", \"\")\n",
    "      # put into the channel list\n",
    "      channels.append(channel)\n",
    "\n",
    "    # if the line is the file name\n",
    "    elif re.findall('File Name', line):\n",
    "      # if there is already a file_name\n",
    "      if file_name:\n",
    "        # flush the current file info to it\n",
    "        part_info_dict[file_name] = file_info_dict\n",
    "\n",
    "      # get the file name\n",
    "      file_name = re.findall('\\w+\\d+_\\d+|\\w+\\d+\\w+_\\d+', line)[0]\n",
    "\n",
    "      file_info_dict = {}\n",
    "      # put the channel list in the file info dict and remove duplicates\n",
    "      file_info_dict['Channels'] = list(set(channels))\n",
    "      # reset the rest of the options\n",
    "      file_info_dict['Start Time'] = ''\n",
    "      file_info_dict['End Time'] = ''\n",
    "      file_info_dict['Seizures Window'] = []\n",
    "\n",
    "    # if the line is about the file start time\n",
    "    elif re.findall('File Start Time', line):\n",
    "      # get the start time\n",
    "      file_info_dict['Start Time'] = re.findall('\\d+:\\d+:\\d+', line)[0]\n",
    "\n",
    "    # if the line is about the file end time\n",
    "    elif re.findall('File End Time', line):\n",
    "      # get the start time\n",
    "      file_info_dict['End Time'] = re.findall('\\d+:\\d+:\\d+', line)[0]\n",
    "\n",
    "    elif re.findall('Seizure Start Time|Seizure End Time|Seizure \\d+ Start Time|Seizure \\d+ End Time', line):\n",
    "      file_info_dict['Seizures Window'].append(int(re.findall('\\d+', line)[-1]))\n",
    "\n",
    "    # if last line in the list...\n",
    "    if line_no == line_nos:\n",
    "      # flush the file info to it\n",
    "      part_info_dict[file_name] = file_info_dict\n",
    "\n",
    "    line_no+=1"
   ]
  },
  {
   "cell_type": "code",
   "execution_count": 15,
   "id": "b6825755",
   "metadata": {},
   "outputs": [],
   "source": [
    "#Carregando o summario de cada um dos exames de EEG\n",
    "for part_code in part_codes:\n",
    "  content = get_content(part_code)\n",
    "  info_dict(content)"
   ]
  },
  {
   "cell_type": "code",
   "execution_count": null,
   "id": "6eb1909e",
   "metadata": {},
   "outputs": [],
   "source": [
    "print('part_info_dict')\n",
    "display(part_info_dict['chb01_18'])\n",
    "print('\\nPart Keys')\n",
    "print(part_info_dict[list(part_info_dict.keys())[0]].keys())"
   ]
  }
 ],
 "metadata": {
  "kernelspec": {
   "display_name": "Python 3 (ipykernel)",
   "language": "python",
   "name": "python3"
  },
  "language_info": {
   "codemirror_mode": {
    "name": "ipython",
    "version": 3
   },
   "file_extension": ".py",
   "mimetype": "text/x-python",
   "name": "python",
   "nbconvert_exporter": "python",
   "pygments_lexer": "ipython3",
   "version": "3.11.4"
  }
 },
 "nbformat": 4,
 "nbformat_minor": 5
}

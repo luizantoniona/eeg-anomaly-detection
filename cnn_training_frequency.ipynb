{
 "cells": [
  {
   "cell_type": "markdown",
   "metadata": {},
   "source": [
    "### CNN FREQUENCY"
   ]
  },
  {
   "cell_type": "code",
   "execution_count": 1,
   "metadata": {},
   "outputs": [],
   "source": [
    "import preprocessor.frequency_preprocessor as preprocessor\n",
    "X_train, y_train, X_val, y_val, X_test, y_test = preprocessor.preprocess(True, True, True)"
   ]
  },
  {
   "cell_type": "code",
   "execution_count": 2,
   "metadata": {},
   "outputs": [
    {
     "name": "stdout",
     "output_type": "stream",
     "text": [
      "(2660, 18, 641)\n"
     ]
    }
   ],
   "source": [
    "print(X_train.shape)"
   ]
  },
  {
   "cell_type": "markdown",
   "metadata": {},
   "source": [
    "Load CNN model"
   ]
  },
  {
   "cell_type": "code",
   "execution_count": 3,
   "metadata": {},
   "outputs": [],
   "source": [
    "from ia.model.cnn.frequency_cnn import FrequencyCNN\n",
    "frequency_cnn = FrequencyCNN(input_shape=(X_train[0].shape))"
   ]
  },
  {
   "cell_type": "code",
   "execution_count": 4,
   "metadata": {},
   "outputs": [],
   "source": [
    "frequency_cnn.compile()"
   ]
  },
  {
   "cell_type": "code",
   "execution_count": 5,
   "metadata": {},
   "outputs": [],
   "source": [
    "NR_EPOCHS = 100\n",
    "BATCH_SIZE = 250"
   ]
  },
  {
   "cell_type": "code",
   "execution_count": 6,
   "metadata": {},
   "outputs": [
    {
     "name": "stdout",
     "output_type": "stream",
     "text": [
      "Epoch 1/100\n",
      "11/11 [==============================] - 1s 43ms/step - loss: 0.6753 - accuracy: 0.5113 - val_loss: 0.6393 - val_accuracy: 0.5763\n",
      "Epoch 2/100\n",
      "11/11 [==============================] - 0s 18ms/step - loss: 0.6361 - accuracy: 0.6365 - val_loss: 0.6070 - val_accuracy: 0.6891\n",
      "Epoch 3/100\n",
      "11/11 [==============================] - 0s 17ms/step - loss: 0.5949 - accuracy: 0.7368 - val_loss: 0.5651 - val_accuracy: 0.7267\n",
      "Epoch 4/100\n",
      "11/11 [==============================] - 0s 17ms/step - loss: 0.5502 - accuracy: 0.7669 - val_loss: 0.5392 - val_accuracy: 0.7392\n",
      "Epoch 5/100\n",
      "11/11 [==============================] - 0s 17ms/step - loss: 0.5062 - accuracy: 0.7823 - val_loss: 0.5199 - val_accuracy: 0.7437\n",
      "Epoch 6/100\n",
      "11/11 [==============================] - 0s 18ms/step - loss: 0.4609 - accuracy: 0.8109 - val_loss: 0.5083 - val_accuracy: 0.7437\n",
      "Epoch 7/100\n",
      "11/11 [==============================] - 0s 20ms/step - loss: 0.4229 - accuracy: 0.8327 - val_loss: 0.4986 - val_accuracy: 0.7551\n",
      "Epoch 8/100\n",
      "11/11 [==============================] - 0s 18ms/step - loss: 0.3841 - accuracy: 0.8474 - val_loss: 0.5133 - val_accuracy: 0.7449\n",
      "Epoch 9/100\n",
      "11/11 [==============================] - 0s 18ms/step - loss: 0.3453 - accuracy: 0.8654 - val_loss: 0.5479 - val_accuracy: 0.7449\n",
      "Epoch 10/100\n",
      "11/11 [==============================] - 0s 19ms/step - loss: 0.3179 - accuracy: 0.8737 - val_loss: 0.5450 - val_accuracy: 0.7551\n",
      "Epoch 11/100\n",
      "11/11 [==============================] - 0s 18ms/step - loss: 0.2830 - accuracy: 0.8925 - val_loss: 0.5280 - val_accuracy: 0.7665\n",
      "Epoch 12/100\n",
      "11/11 [==============================] - 0s 17ms/step - loss: 0.2409 - accuracy: 0.9109 - val_loss: 0.5668 - val_accuracy: 0.7620\n",
      "Epoch 13/100\n",
      "11/11 [==============================] - 0s 18ms/step - loss: 0.2097 - accuracy: 0.9259 - val_loss: 0.5993 - val_accuracy: 0.7688\n",
      "Epoch 14/100\n",
      "11/11 [==============================] - 0s 18ms/step - loss: 0.2004 - accuracy: 0.9237 - val_loss: 0.6350 - val_accuracy: 0.7620\n",
      "Epoch 15/100\n",
      "11/11 [==============================] - 0s 17ms/step - loss: 0.1664 - accuracy: 0.9447 - val_loss: 0.6195 - val_accuracy: 0.7597\n",
      "Epoch 16/100\n",
      "11/11 [==============================] - 0s 18ms/step - loss: 0.1424 - accuracy: 0.9571 - val_loss: 0.6901 - val_accuracy: 0.7585\n",
      "Epoch 17/100\n",
      "11/11 [==============================] - 0s 17ms/step - loss: 0.1274 - accuracy: 0.9643 - val_loss: 0.7614 - val_accuracy: 0.7460\n",
      "Epoch 18/100\n",
      "11/11 [==============================] - 0s 18ms/step - loss: 0.1136 - accuracy: 0.9688 - val_loss: 0.7827 - val_accuracy: 0.7483\n",
      "Epoch 19/100\n",
      "11/11 [==============================] - 0s 17ms/step - loss: 0.1018 - accuracy: 0.9726 - val_loss: 0.8883 - val_accuracy: 0.7403\n",
      "Epoch 20/100\n",
      "11/11 [==============================] - 0s 18ms/step - loss: 0.2868 - accuracy: 0.9203 - val_loss: 0.9182 - val_accuracy: 0.7494\n",
      "Epoch 21/100\n",
      "11/11 [==============================] - 0s 20ms/step - loss: 0.2443 - accuracy: 0.9132 - val_loss: 0.9924 - val_accuracy: 0.7198\n",
      "Epoch 22/100\n",
      "11/11 [==============================] - 0s 17ms/step - loss: 0.1642 - accuracy: 0.9376 - val_loss: 0.6555 - val_accuracy: 0.7654\n",
      "Epoch 23/100\n",
      "11/11 [==============================] - 0s 18ms/step - loss: 0.1195 - accuracy: 0.9628 - val_loss: 0.6337 - val_accuracy: 0.7585\n",
      "Epoch 24/100\n",
      "11/11 [==============================] - 0s 18ms/step - loss: 0.0938 - accuracy: 0.9789 - val_loss: 0.6766 - val_accuracy: 0.7597\n",
      "Epoch 25/100\n",
      "11/11 [==============================] - 0s 18ms/step - loss: 0.0836 - accuracy: 0.9805 - val_loss: 0.7327 - val_accuracy: 0.7528\n",
      "Epoch 26/100\n",
      "11/11 [==============================] - 0s 18ms/step - loss: 0.0750 - accuracy: 0.9827 - val_loss: 0.7882 - val_accuracy: 0.7563\n",
      "Epoch 27/100\n",
      "11/11 [==============================] - 0s 17ms/step - loss: 0.0721 - accuracy: 0.9816 - val_loss: 0.8337 - val_accuracy: 0.7551\n",
      "Epoch 28/100\n",
      "11/11 [==============================] - 0s 17ms/step - loss: 0.0661 - accuracy: 0.9831 - val_loss: 0.8465 - val_accuracy: 0.7528\n",
      "Epoch 29/100\n",
      "11/11 [==============================] - 0s 17ms/step - loss: 0.0644 - accuracy: 0.9853 - val_loss: 0.8886 - val_accuracy: 0.7506\n",
      "Epoch 30/100\n",
      "11/11 [==============================] - 0s 18ms/step - loss: 0.0596 - accuracy: 0.9861 - val_loss: 0.9044 - val_accuracy: 0.7494\n",
      "Epoch 31/100\n",
      "11/11 [==============================] - 0s 18ms/step - loss: 0.0550 - accuracy: 0.9887 - val_loss: 0.9228 - val_accuracy: 0.7563\n",
      "Epoch 32/100\n",
      "11/11 [==============================] - 0s 17ms/step - loss: 0.0518 - accuracy: 0.9883 - val_loss: 0.9582 - val_accuracy: 0.7551\n",
      "Epoch 33/100\n",
      "11/11 [==============================] - 0s 17ms/step - loss: 0.0482 - accuracy: 0.9887 - val_loss: 0.9733 - val_accuracy: 0.7597\n",
      "Epoch 34/100\n",
      "11/11 [==============================] - 0s 17ms/step - loss: 0.0465 - accuracy: 0.9891 - val_loss: 0.9932 - val_accuracy: 0.7551\n",
      "Epoch 35/100\n",
      "11/11 [==============================] - 0s 19ms/step - loss: 0.0454 - accuracy: 0.9902 - val_loss: 1.0218 - val_accuracy: 0.7551\n",
      "Epoch 36/100\n",
      "11/11 [==============================] - 0s 17ms/step - loss: 0.0431 - accuracy: 0.9906 - val_loss: 1.0583 - val_accuracy: 0.7551\n",
      "Epoch 37/100\n",
      "11/11 [==============================] - 0s 18ms/step - loss: 0.0395 - accuracy: 0.9902 - val_loss: 1.0694 - val_accuracy: 0.7551\n",
      "Epoch 38/100\n",
      "11/11 [==============================] - 0s 18ms/step - loss: 0.0381 - accuracy: 0.9906 - val_loss: 1.0917 - val_accuracy: 0.7574\n",
      "Epoch 39/100\n",
      "11/11 [==============================] - 0s 17ms/step - loss: 0.0355 - accuracy: 0.9929 - val_loss: 1.1288 - val_accuracy: 0.7494\n",
      "Epoch 40/100\n",
      "11/11 [==============================] - 0s 17ms/step - loss: 0.0373 - accuracy: 0.9925 - val_loss: 1.1268 - val_accuracy: 0.7483\n",
      "Epoch 41/100\n",
      "11/11 [==============================] - 0s 17ms/step - loss: 0.0346 - accuracy: 0.9921 - val_loss: 1.1497 - val_accuracy: 0.7472\n",
      "Epoch 42/100\n",
      "11/11 [==============================] - 0s 18ms/step - loss: 0.0307 - accuracy: 0.9925 - val_loss: 1.2042 - val_accuracy: 0.7506\n",
      "Epoch 43/100\n",
      "11/11 [==============================] - 0s 17ms/step - loss: 0.0313 - accuracy: 0.9921 - val_loss: 1.1950 - val_accuracy: 0.7460\n",
      "Epoch 44/100\n",
      "11/11 [==============================] - 0s 17ms/step - loss: 0.0279 - accuracy: 0.9944 - val_loss: 1.2010 - val_accuracy: 0.7540\n",
      "Epoch 45/100\n",
      "11/11 [==============================] - 0s 16ms/step - loss: 0.0254 - accuracy: 0.9955 - val_loss: 1.2516 - val_accuracy: 0.7483\n",
      "Epoch 46/100\n",
      "11/11 [==============================] - 0s 17ms/step - loss: 0.0244 - accuracy: 0.9940 - val_loss: 1.2907 - val_accuracy: 0.7472\n",
      "Epoch 47/100\n",
      "11/11 [==============================] - 0s 17ms/step - loss: 0.0226 - accuracy: 0.9959 - val_loss: 1.2922 - val_accuracy: 0.7506\n",
      "Epoch 48/100\n",
      "11/11 [==============================] - 0s 17ms/step - loss: 0.0223 - accuracy: 0.9947 - val_loss: 1.3220 - val_accuracy: 0.7494\n",
      "Epoch 49/100\n",
      "11/11 [==============================] - 0s 18ms/step - loss: 0.0206 - accuracy: 0.9951 - val_loss: 1.3567 - val_accuracy: 0.7460\n",
      "Epoch 50/100\n",
      "11/11 [==============================] - 0s 17ms/step - loss: 0.0192 - accuracy: 0.9959 - val_loss: 1.3779 - val_accuracy: 0.7494\n",
      "Epoch 51/100\n",
      "11/11 [==============================] - 0s 17ms/step - loss: 0.0185 - accuracy: 0.9955 - val_loss: 1.4088 - val_accuracy: 0.7540\n",
      "Epoch 52/100\n",
      "11/11 [==============================] - 0s 17ms/step - loss: 0.0174 - accuracy: 0.9962 - val_loss: 1.4273 - val_accuracy: 0.7483\n",
      "Epoch 53/100\n",
      "11/11 [==============================] - 0s 17ms/step - loss: 0.0167 - accuracy: 0.9966 - val_loss: 1.4740 - val_accuracy: 0.7403\n",
      "Epoch 54/100\n",
      "11/11 [==============================] - 0s 17ms/step - loss: 0.0166 - accuracy: 0.9970 - val_loss: 1.4951 - val_accuracy: 0.7472\n",
      "Epoch 55/100\n",
      "11/11 [==============================] - 0s 17ms/step - loss: 0.0154 - accuracy: 0.9970 - val_loss: 1.5439 - val_accuracy: 0.7449\n",
      "Epoch 56/100\n",
      "11/11 [==============================] - 0s 17ms/step - loss: 0.0160 - accuracy: 0.9959 - val_loss: 1.5095 - val_accuracy: 0.7426\n",
      "Epoch 57/100\n",
      "11/11 [==============================] - 0s 17ms/step - loss: 0.0148 - accuracy: 0.9966 - val_loss: 1.5567 - val_accuracy: 0.7437\n",
      "Epoch 58/100\n",
      "11/11 [==============================] - 0s 18ms/step - loss: 0.0123 - accuracy: 0.9977 - val_loss: 1.5861 - val_accuracy: 0.7483\n",
      "Epoch 59/100\n",
      "11/11 [==============================] - 0s 17ms/step - loss: 0.0117 - accuracy: 0.9977 - val_loss: 1.6091 - val_accuracy: 0.7460\n",
      "Epoch 60/100\n",
      "11/11 [==============================] - 0s 17ms/step - loss: 0.0121 - accuracy: 0.9970 - val_loss: 1.6354 - val_accuracy: 0.7437\n",
      "Epoch 61/100\n",
      "11/11 [==============================] - 0s 16ms/step - loss: 0.0116 - accuracy: 0.9981 - val_loss: 1.6529 - val_accuracy: 0.7517\n",
      "Epoch 62/100\n",
      "11/11 [==============================] - 0s 19ms/step - loss: 0.0121 - accuracy: 0.9974 - val_loss: 1.6658 - val_accuracy: 0.7494\n",
      "Epoch 63/100\n",
      "11/11 [==============================] - 0s 17ms/step - loss: 0.0102 - accuracy: 0.9977 - val_loss: 1.6866 - val_accuracy: 0.7403\n",
      "Epoch 64/100\n",
      "11/11 [==============================] - 0s 17ms/step - loss: 0.0102 - accuracy: 0.9977 - val_loss: 1.6698 - val_accuracy: 0.7380\n",
      "Epoch 65/100\n",
      "11/11 [==============================] - 0s 17ms/step - loss: 0.0095 - accuracy: 0.9985 - val_loss: 1.6776 - val_accuracy: 0.7494\n",
      "Epoch 66/100\n",
      "11/11 [==============================] - 0s 17ms/step - loss: 0.0088 - accuracy: 0.9977 - val_loss: 1.7244 - val_accuracy: 0.7403\n",
      "Epoch 67/100\n",
      "11/11 [==============================] - 0s 17ms/step - loss: 0.0091 - accuracy: 0.9977 - val_loss: 1.7963 - val_accuracy: 0.7437\n",
      "Epoch 68/100\n",
      "11/11 [==============================] - 0s 17ms/step - loss: 0.0098 - accuracy: 0.9977 - val_loss: 1.8359 - val_accuracy: 0.7483\n",
      "Epoch 69/100\n",
      "11/11 [==============================] - 0s 18ms/step - loss: 0.0086 - accuracy: 0.9981 - val_loss: 1.7810 - val_accuracy: 0.7415\n",
      "Epoch 70/100\n",
      "11/11 [==============================] - 0s 18ms/step - loss: 0.0079 - accuracy: 0.9985 - val_loss: 1.8433 - val_accuracy: 0.7483\n",
      "Epoch 71/100\n",
      "11/11 [==============================] - 0s 17ms/step - loss: 0.0075 - accuracy: 0.9985 - val_loss: 1.8695 - val_accuracy: 0.7460\n",
      "Epoch 72/100\n",
      "11/11 [==============================] - 0s 17ms/step - loss: 0.0074 - accuracy: 0.9981 - val_loss: 1.8832 - val_accuracy: 0.7472\n",
      "Epoch 73/100\n",
      "11/11 [==============================] - 0s 17ms/step - loss: 0.0073 - accuracy: 0.9992 - val_loss: 1.8585 - val_accuracy: 0.7506\n",
      "Epoch 74/100\n",
      "11/11 [==============================] - 0s 18ms/step - loss: 0.0076 - accuracy: 0.9981 - val_loss: 1.8809 - val_accuracy: 0.7528\n",
      "Epoch 75/100\n",
      "11/11 [==============================] - 0s 19ms/step - loss: 0.0065 - accuracy: 0.9992 - val_loss: 1.9226 - val_accuracy: 0.7528\n",
      "Epoch 76/100\n",
      "11/11 [==============================] - 0s 17ms/step - loss: 0.0057 - accuracy: 0.9989 - val_loss: 1.9384 - val_accuracy: 0.7449\n",
      "Epoch 77/100\n",
      "11/11 [==============================] - 0s 17ms/step - loss: 0.0061 - accuracy: 0.9989 - val_loss: 1.9668 - val_accuracy: 0.7460\n",
      "Epoch 78/100\n",
      "11/11 [==============================] - 0s 17ms/step - loss: 0.0057 - accuracy: 0.9989 - val_loss: 2.0173 - val_accuracy: 0.7449\n",
      "Epoch 79/100\n",
      "11/11 [==============================] - 0s 17ms/step - loss: 0.0063 - accuracy: 0.9985 - val_loss: 2.0666 - val_accuracy: 0.7449\n",
      "Epoch 80/100\n",
      "11/11 [==============================] - 0s 17ms/step - loss: 0.0056 - accuracy: 0.9985 - val_loss: 2.0180 - val_accuracy: 0.7460\n",
      "Epoch 81/100\n",
      "11/11 [==============================] - 0s 17ms/step - loss: 0.0057 - accuracy: 0.9981 - val_loss: 2.0496 - val_accuracy: 0.7369\n",
      "Epoch 82/100\n",
      "11/11 [==============================] - 0s 17ms/step - loss: 0.0060 - accuracy: 0.9992 - val_loss: 1.9904 - val_accuracy: 0.7506\n",
      "Epoch 83/100\n",
      "11/11 [==============================] - 0s 18ms/step - loss: 0.0057 - accuracy: 0.9985 - val_loss: 2.0375 - val_accuracy: 0.7483\n",
      "Epoch 84/100\n",
      "11/11 [==============================] - 0s 17ms/step - loss: 0.0057 - accuracy: 0.9989 - val_loss: 2.0536 - val_accuracy: 0.7460\n",
      "Epoch 85/100\n",
      "11/11 [==============================] - 0s 18ms/step - loss: 0.0050 - accuracy: 0.9985 - val_loss: 2.1053 - val_accuracy: 0.7449\n",
      "Epoch 86/100\n",
      "11/11 [==============================] - 0s 18ms/step - loss: 0.0046 - accuracy: 0.9992 - val_loss: 2.1295 - val_accuracy: 0.7415\n",
      "Epoch 87/100\n",
      "11/11 [==============================] - 0s 17ms/step - loss: 0.0044 - accuracy: 0.9989 - val_loss: 2.1273 - val_accuracy: 0.7483\n",
      "Epoch 88/100\n",
      "11/11 [==============================] - 0s 17ms/step - loss: 0.0044 - accuracy: 0.9989 - val_loss: 2.1531 - val_accuracy: 0.7472\n",
      "Epoch 89/100\n",
      "11/11 [==============================] - 0s 19ms/step - loss: 0.0040 - accuracy: 0.9992 - val_loss: 2.1711 - val_accuracy: 0.7460\n",
      "Epoch 90/100\n",
      "11/11 [==============================] - 0s 18ms/step - loss: 0.0043 - accuracy: 0.9992 - val_loss: 2.2080 - val_accuracy: 0.7483\n",
      "Epoch 91/100\n",
      "11/11 [==============================] - 0s 18ms/step - loss: 0.0047 - accuracy: 0.9996 - val_loss: 2.2898 - val_accuracy: 0.7437\n",
      "Epoch 92/100\n",
      "11/11 [==============================] - 0s 17ms/step - loss: 0.0042 - accuracy: 0.9992 - val_loss: 2.2363 - val_accuracy: 0.7437\n",
      "Epoch 93/100\n",
      "11/11 [==============================] - 0s 17ms/step - loss: 0.0041 - accuracy: 0.9989 - val_loss: 2.1993 - val_accuracy: 0.7380\n",
      "Epoch 94/100\n",
      "11/11 [==============================] - 0s 17ms/step - loss: 0.0039 - accuracy: 0.9996 - val_loss: 2.1489 - val_accuracy: 0.7449\n",
      "Epoch 95/100\n",
      "11/11 [==============================] - 0s 18ms/step - loss: 0.0040 - accuracy: 0.9992 - val_loss: 2.1414 - val_accuracy: 0.7403\n",
      "Epoch 96/100\n",
      "11/11 [==============================] - 0s 17ms/step - loss: 0.0039 - accuracy: 0.9992 - val_loss: 2.2025 - val_accuracy: 0.7460\n",
      "Epoch 97/100\n",
      "11/11 [==============================] - 0s 17ms/step - loss: 0.0032 - accuracy: 0.9996 - val_loss: 2.1969 - val_accuracy: 0.7449\n",
      "Epoch 98/100\n",
      "11/11 [==============================] - 0s 17ms/step - loss: 0.0034 - accuracy: 0.9992 - val_loss: 2.2327 - val_accuracy: 0.7449\n",
      "Epoch 99/100\n",
      "11/11 [==============================] - 0s 17ms/step - loss: 0.0028 - accuracy: 0.9996 - val_loss: 2.2848 - val_accuracy: 0.7460\n",
      "Epoch 100/100\n",
      "11/11 [==============================] - 0s 19ms/step - loss: 0.0028 - accuracy: 0.9996 - val_loss: 2.3195 - val_accuracy: 0.7437\n"
     ]
    }
   ],
   "source": [
    "history = frequency_cnn.fit(X_train, y_train, num_epochs=NR_EPOCHS, batch_size=BATCH_SIZE, val_data=X_val, val_labels=y_val)"
   ]
  },
  {
   "cell_type": "code",
   "execution_count": 7,
   "metadata": {},
   "outputs": [
    {
     "data": {
      "text/plain": [
       "<matplotlib.legend.Legend at 0x2735929a750>"
      ]
     },
     "execution_count": 7,
     "metadata": {},
     "output_type": "execute_result"
    },
    {
     "data": {
      "image/png": "[encoded data removed]",
      "text/plain": [
       "<Figure size 640x480 with 1 Axes>"
      ]
     },
     "metadata": {},
     "output_type": "display_data"
    }
   ],
   "source": [
    "import matplotlib.pyplot as plt\n",
    "\n",
    "plt.plot(history.history['accuracy'], label='accuracy')\n",
    "plt.plot(history.history['val_accuracy'], label = 'val_accuracy')\n",
    "plt.xlabel('Epoch')\n",
    "plt.ylabel('Accuracy')\n",
    "plt.ylim([0.5, 1])\n",
    "plt.legend(loc='lower right')"
   ]
  },
  {
   "cell_type": "code",
   "execution_count": 8,
   "metadata": {},
   "outputs": [
    {
     "name": "stdout",
     "output_type": "stream",
     "text": [
      "4/4 [==============================] - 0s 0s/step\n",
      "PREDICTION: [False] | REAL: False\n",
      "PREDICTION: [False] | REAL: False\n",
      "PREDICTION: [False] | REAL: False\n",
      "PREDICTION: [False] | REAL: False\n",
      "PREDICTION: [False] | REAL: False\n",
      "PREDICTION: [ True] | REAL: False\n",
      "PREDICTION: [ True] | REAL: False\n",
      "PREDICTION: [False] | REAL: False\n",
      "PREDICTION: [False] | REAL: False\n",
      "PREDICTION: [ True] | REAL: False\n",
      "PREDICTION: [False] | REAL: False\n",
      "PREDICTION: [False] | REAL: False\n",
      "PREDICTION: [False] | REAL: False\n",
      "PREDICTION: [ True] | REAL: False\n",
      "PREDICTION: [False] | REAL: False\n",
      "PREDICTION: [False] | REAL: False\n",
      "PREDICTION: [False] | REAL: False\n",
      "PREDICTION: [False] | REAL: False\n",
      "PREDICTION: [False] | REAL: False\n",
      "PREDICTION: [False] | REAL: False\n",
      "PREDICTION: [False] | REAL: False\n",
      "PREDICTION: [False] | REAL: False\n",
      "PREDICTION: [False] | REAL: False\n",
      "PREDICTION: [ True] | REAL: False\n",
      "PREDICTION: [False] | REAL: False\n",
      "PREDICTION: [False] | REAL: False\n",
      "PREDICTION: [False] | REAL: False\n",
      "PREDICTION: [False] | REAL: False\n",
      "PREDICTION: [False] | REAL: False\n",
      "PREDICTION: [ True] | REAL: False\n",
      "PREDICTION: [False] | REAL: False\n",
      "PREDICTION: [False] | REAL: False\n",
      "PREDICTION: [False] | REAL: False\n",
      "PREDICTION: [False] | REAL: False\n",
      "PREDICTION: [False] | REAL: False\n",
      "PREDICTION: [False] | REAL: False\n",
      "PREDICTION: [ True] | REAL: False\n",
      "PREDICTION: [False] | REAL: False\n",
      "PREDICTION: [ True] | REAL: False\n",
      "PREDICTION: [False] | REAL: False\n",
      "PREDICTION: [False] | REAL: False\n",
      "PREDICTION: [False] | REAL: False\n",
      "PREDICTION: [ True] | REAL: False\n",
      "PREDICTION: [False] | REAL: False\n",
      "PREDICTION: [False] | REAL: False\n",
      "PREDICTION: [False] | REAL: False\n",
      "PREDICTION: [False] | REAL: False\n",
      "PREDICTION: [False] | REAL: False\n",
      "PREDICTION: [False] | REAL: False\n",
      "PREDICTION: [ True] | REAL: False\n",
      "PREDICTION: [False] | REAL: False\n",
      "PREDICTION: [False] | REAL: True\n",
      "PREDICTION: [ True] | REAL: True\n",
      "PREDICTION: [ True] | REAL: True\n",
      "PREDICTION: [ True] | REAL: True\n",
      "PREDICTION: [ True] | REAL: True\n",
      "PREDICTION: [ True] | REAL: True\n",
      "PREDICTION: [ True] | REAL: True\n",
      "PREDICTION: [ True] | REAL: True\n",
      "PREDICTION: [ True] | REAL: True\n",
      "PREDICTION: [ True] | REAL: True\n",
      "PREDICTION: [ True] | REAL: True\n",
      "PREDICTION: [ True] | REAL: True\n",
      "PREDICTION: [False] | REAL: True\n",
      "PREDICTION: [ True] | REAL: True\n",
      "PREDICTION: [ True] | REAL: True\n",
      "PREDICTION: [ True] | REAL: True\n",
      "PREDICTION: [ True] | REAL: True\n",
      "PREDICTION: [ True] | REAL: True\n",
      "PREDICTION: [ True] | REAL: True\n",
      "PREDICTION: [ True] | REAL: True\n",
      "PREDICTION: [ True] | REAL: True\n",
      "PREDICTION: [ True] | REAL: True\n",
      "PREDICTION: [ True] | REAL: True\n",
      "PREDICTION: [ True] | REAL: True\n",
      "PREDICTION: [ True] | REAL: True\n",
      "PREDICTION: [ True] | REAL: True\n",
      "PREDICTION: [ True] | REAL: True\n",
      "PREDICTION: [ True] | REAL: True\n",
      "PREDICTION: [ True] | REAL: True\n",
      "PREDICTION: [ True] | REAL: True\n",
      "PREDICTION: [ True] | REAL: True\n",
      "PREDICTION: [ True] | REAL: True\n",
      "PREDICTION: [ True] | REAL: True\n",
      "PREDICTION: [ True] | REAL: True\n",
      "PREDICTION: [ True] | REAL: True\n",
      "PREDICTION: [ True] | REAL: True\n",
      "PREDICTION: [False] | REAL: True\n",
      "PREDICTION: [ True] | REAL: True\n",
      "PREDICTION: [ True] | REAL: True\n",
      "PREDICTION: [ True] | REAL: True\n",
      "PREDICTION: [False] | REAL: True\n",
      "PREDICTION: [ True] | REAL: True\n",
      "PREDICTION: [ True] | REAL: True\n",
      "PREDICTION: [False] | REAL: True\n",
      "PREDICTION: [ True] | REAL: True\n",
      "PREDICTION: [ True] | REAL: True\n",
      "PREDICTION: [ True] | REAL: True\n",
      "PREDICTION: [False] | REAL: True\n",
      "PREDICTION: [ True] | REAL: True\n",
      "PREDICTION: [False] | REAL: True\n",
      "PREDICTION: [ True] | REAL: True\n"
     ]
    }
   ],
   "source": [
    "import numpy as np\n",
    "predictions = frequency_cnn.model.predict(X_test)\n",
    "predictions = np.array([prediction > 0.5 for prediction in predictions])\n",
    "\n",
    "for i in range(len(y_test)):\n",
    "    print(\"PREDICTION: \" + str(predictions[i] > 0.5) + \" | \" +  \"REAL: \" + str(y_test[i]))"
   ]
  },
  {
   "cell_type": "markdown",
   "metadata": {},
   "source": [
    "### METRICS:"
   ]
  },
  {
   "cell_type": "code",
   "execution_count": 9,
   "metadata": {},
   "outputs": [
    {
     "name": "stdout",
     "output_type": "stream",
     "text": [
      "True Positives: 44\n",
      "True Negatives: 41\n",
      "False Positives: 7\n",
      "False Negatives: 10\n",
      "total Samples: 102\n",
      "Accuracy: 0.8333333333333334\n",
      "Precision: 0.8627450980392157\n",
      "Sensitivity: 0.8148148148148148\n",
      "Specificity: 0.8541666666666666\n",
      "TPR: 0.8627450980392157\n",
      "FPR: 0.14583333333333334\n",
      "F1-Score: 0.8239700374531835\n"
     ]
    }
   ],
   "source": [
    "from ia.metrics.metrics import Metrics\n",
    "metrics = Metrics(y_test, predictions, frequency_cnn.name(), \"frequency\")\n",
    "metrics.all_metrics()\n",
    "metrics.metrics_to_database()"
   ]
  },
  {
   "cell_type": "markdown",
   "metadata": {},
   "source": [
    "ROC curve"
   ]
  },
  {
   "cell_type": "code",
   "execution_count": 10,
   "metadata": {},
   "outputs": [
    {
     "data": {
      "image/png": "[encoded data removed]",
      "text/plain": [
       "<Figure size 640x480 with 1 Axes>"
      ]
     },
     "metadata": {},
     "output_type": "display_data"
    }
   ],
   "source": [
    "import sklearn.metrics as metrics\n",
    "import matplotlib.pyplot as plt\n",
    "\n",
    "fpr, tpr, _ = metrics.roc_curve(y_test, predictions)\n",
    "roc_auc = metrics.auc(fpr, tpr)\n",
    "\n",
    "plt.title('Receiver Operating Characteristic')\n",
    "plt.plot(fpr, tpr, 'b', label = 'AUC = %0.2f' % roc_auc)\n",
    "plt.legend(loc = 'lower right')\n",
    "plt.plot([0, 1], [0, 1],'r--')\n",
    "plt.xlim([0, 1])\n",
    "plt.ylim([0, 1])\n",
    "plt.ylabel('True Positive Rate')\n",
    "plt.xlabel('False Positive Rate')\n",
    "plt.show()"
   ]
  }
 ],
 "metadata": {
  "kernelspec": {
   "display_name": "Python 3",
   "language": "python",
   "name": "python3"
  },
  "language_info": {
   "codemirror_mode": {
    "name": "ipython",
    "version": 3
   },
   "file_extension": ".py",
   "mimetype": "text/x-python",
   "name": "python",
   "nbconvert_exporter": "python",
   "pygments_lexer": "ipython3",
   "version": "3.11.5"
  }
 },
 "nbformat": 4,
 "nbformat_minor": 2
}

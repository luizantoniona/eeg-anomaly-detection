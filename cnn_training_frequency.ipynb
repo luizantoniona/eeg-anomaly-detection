{
 "cells": [
  {
   "cell_type": "markdown",
   "metadata": {},
   "source": [
    "### CNN Training in Frequency Domain"
   ]
  },
  {
   "cell_type": "code",
   "execution_count": null,
   "metadata": {},
   "outputs": [],
   "source": [
    "import preprocessor.frequency_preprocessor as preprocessor\n",
    "X_train, y_train, X_val, y_val, X_test, y_test = preprocessor.preprocess(True, True, True)\n",
    "print(X_train.shape)"
   ]
  },
  {
   "cell_type": "markdown",
   "metadata": {},
   "source": [
    "Load CNN model"
   ]
  },
  {
   "cell_type": "code",
   "execution_count": 46,
   "metadata": {},
   "outputs": [],
   "source": [
    "from ia.model.cnn.frequency_cnn import FrequencyCNN\n",
    "frequency_cnn = FrequencyCNN(input_shape=(X_train[0].shape))"
   ]
  },
  {
   "cell_type": "code",
   "execution_count": 47,
   "metadata": {},
   "outputs": [],
   "source": [
    "frequency_cnn.compile()"
   ]
  },
  {
   "cell_type": "code",
   "execution_count": 48,
   "metadata": {},
   "outputs": [],
   "source": [
    "NR_EPOCHS = 100\n",
    "BATCH_SIZE = 250"
   ]
  },
  {
   "cell_type": "code",
   "execution_count": 49,
   "metadata": {},
   "outputs": [
    {
     "name": "stdout",
     "output_type": "stream",
     "text": [
      "Epoch 1/100\n",
      "12/12 [==============================] - 2s 93ms/step - loss: 0.6653 - accuracy: 0.5388 - val_loss: 0.6483 - val_accuracy: 0.5780\n",
      "Epoch 2/100\n",
      "12/12 [==============================] - 0s 39ms/step - loss: 0.6246 - accuracy: 0.6758 - val_loss: 0.5989 - val_accuracy: 0.7187\n",
      "Epoch 3/100\n",
      "12/12 [==============================] - 0s 36ms/step - loss: 0.5769 - accuracy: 0.7375 - val_loss: 0.5712 - val_accuracy: 0.7270\n",
      "Epoch 4/100\n",
      "12/12 [==============================] - 0s 39ms/step - loss: 0.5261 - accuracy: 0.7724 - val_loss: 0.5445 - val_accuracy: 0.7535\n",
      "Epoch 5/100\n",
      "12/12 [==============================] - 0s 38ms/step - loss: 0.4796 - accuracy: 0.7974 - val_loss: 0.5233 - val_accuracy: 0.7660\n",
      "Epoch 6/100\n",
      "12/12 [==============================] - 0s 36ms/step - loss: 0.4466 - accuracy: 0.8164 - val_loss: 0.5138 - val_accuracy: 0.7758\n",
      "Epoch 7/100\n",
      "12/12 [==============================] - 0s 36ms/step - loss: 0.3956 - accuracy: 0.8414 - val_loss: 0.6278 - val_accuracy: 0.7479\n",
      "Epoch 8/100\n",
      "12/12 [==============================] - 1s 43ms/step - loss: 0.3662 - accuracy: 0.8605 - val_loss: 0.5414 - val_accuracy: 0.7521\n",
      "Epoch 9/100\n",
      "12/12 [==============================] - 0s 39ms/step - loss: 0.3221 - accuracy: 0.8763 - val_loss: 0.5423 - val_accuracy: 0.7716\n",
      "Epoch 10/100\n",
      "12/12 [==============================] - 0s 36ms/step - loss: 0.2835 - accuracy: 0.8968 - val_loss: 0.6256 - val_accuracy: 0.7507\n",
      "Epoch 11/100\n",
      "12/12 [==============================] - 0s 37ms/step - loss: 0.2490 - accuracy: 0.9094 - val_loss: 0.6240 - val_accuracy: 0.7604\n",
      "Epoch 12/100\n",
      "12/12 [==============================] - 0s 34ms/step - loss: 0.2194 - accuracy: 0.9183 - val_loss: 0.6682 - val_accuracy: 0.7591\n",
      "Epoch 13/100\n",
      "12/12 [==============================] - 0s 36ms/step - loss: 0.1956 - accuracy: 0.9267 - val_loss: 0.7122 - val_accuracy: 0.7549\n",
      "Epoch 14/100\n",
      "12/12 [==============================] - 0s 30ms/step - loss: 0.1742 - accuracy: 0.9369 - val_loss: 0.6690 - val_accuracy: 0.7841\n",
      "Epoch 15/100\n",
      "12/12 [==============================] - 0s 30ms/step - loss: 0.1464 - accuracy: 0.9479 - val_loss: 0.6934 - val_accuracy: 0.7772\n",
      "Epoch 16/100\n",
      "12/12 [==============================] - 0s 23ms/step - loss: 0.1304 - accuracy: 0.9602 - val_loss: 0.7238 - val_accuracy: 0.7841\n",
      "Epoch 17/100\n",
      "12/12 [==============================] - 0s 24ms/step - loss: 0.1137 - accuracy: 0.9651 - val_loss: 0.7927 - val_accuracy: 0.7883\n",
      "Epoch 18/100\n",
      "12/12 [==============================] - 0s 21ms/step - loss: 0.1037 - accuracy: 0.9718 - val_loss: 0.8835 - val_accuracy: 0.7813\n",
      "Epoch 19/100\n",
      "12/12 [==============================] - 0s 20ms/step - loss: 0.0908 - accuracy: 0.9739 - val_loss: 1.0324 - val_accuracy: 0.7521\n",
      "Epoch 20/100\n",
      "12/12 [==============================] - 0s 20ms/step - loss: 0.1072 - accuracy: 0.9679 - val_loss: 1.0356 - val_accuracy: 0.7744\n",
      "Epoch 21/100\n",
      "12/12 [==============================] - 0s 18ms/step - loss: 0.0952 - accuracy: 0.9718 - val_loss: 0.9779 - val_accuracy: 0.7758\n",
      "Epoch 22/100\n",
      "12/12 [==============================] - 0s 18ms/step - loss: 0.0984 - accuracy: 0.9683 - val_loss: 1.1270 - val_accuracy: 0.7632\n",
      "Epoch 23/100\n",
      "12/12 [==============================] - 0s 18ms/step - loss: 0.0816 - accuracy: 0.9760 - val_loss: 1.0309 - val_accuracy: 0.7758\n",
      "Epoch 24/100\n",
      "12/12 [==============================] - 0s 18ms/step - loss: 0.0644 - accuracy: 0.9838 - val_loss: 1.0214 - val_accuracy: 0.7855\n",
      "Epoch 25/100\n",
      "12/12 [==============================] - 0s 21ms/step - loss: 0.0599 - accuracy: 0.9831 - val_loss: 1.0078 - val_accuracy: 0.7786\n",
      "Epoch 26/100\n",
      "12/12 [==============================] - 0s 18ms/step - loss: 0.0545 - accuracy: 0.9873 - val_loss: 1.5126 - val_accuracy: 0.7465\n",
      "Epoch 27/100\n",
      "12/12 [==============================] - 0s 20ms/step - loss: 0.0616 - accuracy: 0.9841 - val_loss: 1.2402 - val_accuracy: 0.7730\n",
      "Epoch 28/100\n",
      "12/12 [==============================] - 0s 18ms/step - loss: 0.0470 - accuracy: 0.9859 - val_loss: 1.2152 - val_accuracy: 0.7493\n",
      "Epoch 29/100\n",
      "12/12 [==============================] - 0s 20ms/step - loss: 0.0406 - accuracy: 0.9908 - val_loss: 1.2777 - val_accuracy: 0.7716\n",
      "Epoch 30/100\n",
      "12/12 [==============================] - 0s 18ms/step - loss: 0.0371 - accuracy: 0.9908 - val_loss: 1.3318 - val_accuracy: 0.7563\n",
      "Epoch 31/100\n",
      "12/12 [==============================] - 0s 18ms/step - loss: 0.0337 - accuracy: 0.9908 - val_loss: 1.3530 - val_accuracy: 0.7758\n",
      "Epoch 32/100\n",
      "12/12 [==============================] - 0s 17ms/step - loss: 0.0326 - accuracy: 0.9919 - val_loss: 1.4073 - val_accuracy: 0.7716\n",
      "Epoch 33/100\n",
      "12/12 [==============================] - 0s 16ms/step - loss: 0.0302 - accuracy: 0.9933 - val_loss: 1.4473 - val_accuracy: 0.7772\n",
      "Epoch 34/100\n",
      "12/12 [==============================] - 0s 16ms/step - loss: 0.0275 - accuracy: 0.9926 - val_loss: 1.5089 - val_accuracy: 0.7772\n",
      "Epoch 35/100\n",
      "12/12 [==============================] - 0s 18ms/step - loss: 0.0265 - accuracy: 0.9922 - val_loss: 1.5742 - val_accuracy: 0.7744\n",
      "Epoch 36/100\n",
      "12/12 [==============================] - 0s 16ms/step - loss: 0.0267 - accuracy: 0.9922 - val_loss: 1.5766 - val_accuracy: 0.7660\n",
      "Epoch 37/100\n",
      "12/12 [==============================] - 0s 16ms/step - loss: 0.0253 - accuracy: 0.9922 - val_loss: 1.7315 - val_accuracy: 0.7632\n",
      "Epoch 38/100\n",
      "12/12 [==============================] - 0s 16ms/step - loss: 0.0216 - accuracy: 0.9940 - val_loss: 1.6310 - val_accuracy: 0.7646\n",
      "Epoch 39/100\n",
      "12/12 [==============================] - 0s 16ms/step - loss: 0.0214 - accuracy: 0.9933 - val_loss: 1.7023 - val_accuracy: 0.7521\n",
      "Epoch 40/100\n",
      "12/12 [==============================] - 0s 16ms/step - loss: 0.0237 - accuracy: 0.9944 - val_loss: 2.1066 - val_accuracy: 0.7674\n",
      "Epoch 41/100\n",
      "12/12 [==============================] - 0s 18ms/step - loss: 0.0259 - accuracy: 0.9933 - val_loss: 1.5624 - val_accuracy: 0.7507\n",
      "Epoch 42/100\n",
      "12/12 [==============================] - 0s 17ms/step - loss: 0.2382 - accuracy: 0.9574 - val_loss: 1.9737 - val_accuracy: 0.7242\n",
      "Epoch 43/100\n",
      "12/12 [==============================] - 0s 15ms/step - loss: 0.2228 - accuracy: 0.9331 - val_loss: 1.3821 - val_accuracy: 0.7340\n",
      "Epoch 44/100\n",
      "12/12 [==============================] - 0s 16ms/step - loss: 0.1287 - accuracy: 0.9644 - val_loss: 1.1990 - val_accuracy: 0.7646\n",
      "Epoch 45/100\n",
      "12/12 [==============================] - 0s 17ms/step - loss: 0.0620 - accuracy: 0.9803 - val_loss: 0.9126 - val_accuracy: 0.7883\n",
      "Epoch 46/100\n",
      "12/12 [==============================] - 0s 16ms/step - loss: 0.0400 - accuracy: 0.9887 - val_loss: 1.0268 - val_accuracy: 0.7841\n",
      "Epoch 47/100\n",
      "12/12 [==============================] - 0s 17ms/step - loss: 0.0305 - accuracy: 0.9940 - val_loss: 1.1299 - val_accuracy: 0.7772\n",
      "Epoch 48/100\n",
      "12/12 [==============================] - 0s 16ms/step - loss: 0.0259 - accuracy: 0.9930 - val_loss: 1.2171 - val_accuracy: 0.7799\n",
      "Epoch 49/100\n",
      "12/12 [==============================] - 0s 16ms/step - loss: 0.0238 - accuracy: 0.9947 - val_loss: 1.2689 - val_accuracy: 0.7827\n",
      "Epoch 50/100\n",
      "12/12 [==============================] - 0s 16ms/step - loss: 0.0224 - accuracy: 0.9940 - val_loss: 1.3008 - val_accuracy: 0.7786\n",
      "Epoch 51/100\n",
      "12/12 [==============================] - 0s 16ms/step - loss: 0.0191 - accuracy: 0.9954 - val_loss: 1.3339 - val_accuracy: 0.7772\n",
      "Epoch 52/100\n",
      "12/12 [==============================] - 0s 17ms/step - loss: 0.0186 - accuracy: 0.9951 - val_loss: 1.3729 - val_accuracy: 0.7786\n",
      "Epoch 53/100\n",
      "12/12 [==============================] - 0s 16ms/step - loss: 0.0175 - accuracy: 0.9958 - val_loss: 1.4077 - val_accuracy: 0.7758\n",
      "Epoch 54/100\n",
      "12/12 [==============================] - 0s 17ms/step - loss: 0.0157 - accuracy: 0.9958 - val_loss: 1.4402 - val_accuracy: 0.7855\n",
      "Epoch 55/100\n",
      "12/12 [==============================] - 0s 16ms/step - loss: 0.0159 - accuracy: 0.9961 - val_loss: 1.4759 - val_accuracy: 0.7716\n",
      "Epoch 56/100\n",
      "12/12 [==============================] - 0s 16ms/step - loss: 0.0147 - accuracy: 0.9961 - val_loss: 1.4931 - val_accuracy: 0.7813\n",
      "Epoch 57/100\n",
      "12/12 [==============================] - 0s 16ms/step - loss: 0.0146 - accuracy: 0.9954 - val_loss: 1.5348 - val_accuracy: 0.7786\n",
      "Epoch 58/100\n",
      "12/12 [==============================] - 0s 16ms/step - loss: 0.0135 - accuracy: 0.9961 - val_loss: 1.5452 - val_accuracy: 0.7660\n",
      "Epoch 59/100\n",
      "12/12 [==============================] - 0s 16ms/step - loss: 0.0128 - accuracy: 0.9972 - val_loss: 1.5739 - val_accuracy: 0.7716\n",
      "Epoch 60/100\n",
      "12/12 [==============================] - 0s 16ms/step - loss: 0.0132 - accuracy: 0.9968 - val_loss: 1.5971 - val_accuracy: 0.7744\n",
      "Epoch 61/100\n",
      "12/12 [==============================] - 0s 16ms/step - loss: 0.0125 - accuracy: 0.9965 - val_loss: 1.6190 - val_accuracy: 0.7688\n",
      "Epoch 62/100\n",
      "12/12 [==============================] - 0s 16ms/step - loss: 0.0120 - accuracy: 0.9968 - val_loss: 1.6765 - val_accuracy: 0.7758\n",
      "Epoch 63/100\n",
      "12/12 [==============================] - 0s 16ms/step - loss: 0.0117 - accuracy: 0.9968 - val_loss: 1.6720 - val_accuracy: 0.7632\n",
      "Epoch 64/100\n",
      "12/12 [==============================] - 0s 16ms/step - loss: 0.0119 - accuracy: 0.9965 - val_loss: 1.6997 - val_accuracy: 0.7604\n",
      "Epoch 65/100\n",
      "12/12 [==============================] - 0s 16ms/step - loss: 0.0109 - accuracy: 0.9979 - val_loss: 1.7493 - val_accuracy: 0.7660\n",
      "Epoch 66/100\n",
      "12/12 [==============================] - 0s 16ms/step - loss: 0.0100 - accuracy: 0.9986 - val_loss: 1.7419 - val_accuracy: 0.7660\n",
      "Epoch 67/100\n",
      "12/12 [==============================] - 0s 18ms/step - loss: 0.0093 - accuracy: 0.9989 - val_loss: 1.7922 - val_accuracy: 0.7632\n",
      "Epoch 68/100\n",
      "12/12 [==============================] - 0s 17ms/step - loss: 0.0104 - accuracy: 0.9965 - val_loss: 1.8038 - val_accuracy: 0.7618\n",
      "Epoch 69/100\n",
      "12/12 [==============================] - 0s 16ms/step - loss: 0.0095 - accuracy: 0.9979 - val_loss: 1.8185 - val_accuracy: 0.7646\n",
      "Epoch 70/100\n",
      "12/12 [==============================] - 0s 16ms/step - loss: 0.0087 - accuracy: 0.9989 - val_loss: 1.8864 - val_accuracy: 0.7716\n",
      "Epoch 71/100\n",
      "12/12 [==============================] - 0s 16ms/step - loss: 0.0093 - accuracy: 0.9972 - val_loss: 1.8783 - val_accuracy: 0.7632\n",
      "Epoch 72/100\n",
      "12/12 [==============================] - 0s 16ms/step - loss: 0.0087 - accuracy: 0.9975 - val_loss: 1.9362 - val_accuracy: 0.7646\n",
      "Epoch 73/100\n",
      "12/12 [==============================] - 0s 16ms/step - loss: 0.0088 - accuracy: 0.9972 - val_loss: 1.9098 - val_accuracy: 0.7632\n",
      "Epoch 74/100\n",
      "12/12 [==============================] - 0s 16ms/step - loss: 0.0076 - accuracy: 0.9986 - val_loss: 1.9371 - val_accuracy: 0.7618\n",
      "Epoch 75/100\n",
      "12/12 [==============================] - 0s 16ms/step - loss: 0.0081 - accuracy: 0.9986 - val_loss: 1.9981 - val_accuracy: 0.7632\n",
      "Epoch 76/100\n",
      "12/12 [==============================] - 0s 16ms/step - loss: 0.0074 - accuracy: 0.9982 - val_loss: 1.9759 - val_accuracy: 0.7632\n",
      "Epoch 77/100\n",
      "12/12 [==============================] - 0s 16ms/step - loss: 0.0078 - accuracy: 0.9989 - val_loss: 2.0508 - val_accuracy: 0.7618\n",
      "Epoch 78/100\n",
      "12/12 [==============================] - 0s 17ms/step - loss: 0.0074 - accuracy: 0.9982 - val_loss: 2.0420 - val_accuracy: 0.7604\n",
      "Epoch 79/100\n",
      "12/12 [==============================] - 0s 16ms/step - loss: 0.0070 - accuracy: 0.9972 - val_loss: 2.0518 - val_accuracy: 0.7632\n",
      "Epoch 80/100\n",
      "12/12 [==============================] - 0s 16ms/step - loss: 0.0068 - accuracy: 0.9993 - val_loss: 2.0996 - val_accuracy: 0.7632\n",
      "Epoch 81/100\n",
      "12/12 [==============================] - 0s 16ms/step - loss: 0.0071 - accuracy: 0.9989 - val_loss: 2.1062 - val_accuracy: 0.7632\n",
      "Epoch 82/100\n",
      "12/12 [==============================] - 0s 16ms/step - loss: 0.0061 - accuracy: 0.9982 - val_loss: 2.1013 - val_accuracy: 0.7591\n",
      "Epoch 83/100\n",
      "12/12 [==============================] - 0s 17ms/step - loss: 0.0055 - accuracy: 0.9996 - val_loss: 2.1427 - val_accuracy: 0.7632\n",
      "Epoch 84/100\n",
      "12/12 [==============================] - 0s 16ms/step - loss: 0.0060 - accuracy: 0.9986 - val_loss: 2.1641 - val_accuracy: 0.7563\n",
      "Epoch 85/100\n",
      "12/12 [==============================] - 0s 16ms/step - loss: 0.0058 - accuracy: 0.9989 - val_loss: 2.1795 - val_accuracy: 0.7577\n",
      "Epoch 86/100\n",
      "12/12 [==============================] - 0s 16ms/step - loss: 0.0054 - accuracy: 0.9996 - val_loss: 2.2337 - val_accuracy: 0.7632\n",
      "Epoch 87/100\n",
      "12/12 [==============================] - 0s 16ms/step - loss: 0.0054 - accuracy: 0.9989 - val_loss: 2.2553 - val_accuracy: 0.7618\n",
      "Epoch 88/100\n",
      "12/12 [==============================] - 0s 16ms/step - loss: 0.0051 - accuracy: 0.9993 - val_loss: 2.2423 - val_accuracy: 0.7577\n",
      "Epoch 89/100\n",
      "12/12 [==============================] - 0s 16ms/step - loss: 0.0048 - accuracy: 0.9993 - val_loss: 2.2735 - val_accuracy: 0.7577\n",
      "Epoch 90/100\n",
      "12/12 [==============================] - 0s 16ms/step - loss: 0.0053 - accuracy: 0.9986 - val_loss: 2.2960 - val_accuracy: 0.7577\n",
      "Epoch 91/100\n",
      "12/12 [==============================] - 0s 18ms/step - loss: 0.0048 - accuracy: 0.9989 - val_loss: 2.3042 - val_accuracy: 0.7577\n",
      "Epoch 92/100\n",
      "12/12 [==============================] - 0s 16ms/step - loss: 0.0048 - accuracy: 0.9986 - val_loss: 2.3410 - val_accuracy: 0.7577\n",
      "Epoch 93/100\n",
      "12/12 [==============================] - 0s 16ms/step - loss: 0.0048 - accuracy: 0.9989 - val_loss: 2.3639 - val_accuracy: 0.7577\n",
      "Epoch 94/100\n",
      "12/12 [==============================] - 0s 16ms/step - loss: 0.0041 - accuracy: 0.9989 - val_loss: 2.3678 - val_accuracy: 0.7577\n",
      "Epoch 95/100\n",
      "12/12 [==============================] - 0s 15ms/step - loss: 0.0044 - accuracy: 0.9993 - val_loss: 2.3797 - val_accuracy: 0.7549\n",
      "Epoch 96/100\n",
      "12/12 [==============================] - 0s 16ms/step - loss: 0.0041 - accuracy: 0.9989 - val_loss: 2.4012 - val_accuracy: 0.7563\n",
      "Epoch 97/100\n",
      "12/12 [==============================] - 0s 16ms/step - loss: 0.0040 - accuracy: 0.9996 - val_loss: 2.4257 - val_accuracy: 0.7563\n",
      "Epoch 98/100\n",
      "12/12 [==============================] - 0s 16ms/step - loss: 0.0041 - accuracy: 1.0000 - val_loss: 2.4423 - val_accuracy: 0.7577\n",
      "Epoch 99/100\n",
      "12/12 [==============================] - 0s 17ms/step - loss: 0.0038 - accuracy: 0.9993 - val_loss: 2.4678 - val_accuracy: 0.7563\n",
      "Epoch 100/100\n",
      "12/12 [==============================] - 0s 15ms/step - loss: 0.0038 - accuracy: 0.9989 - val_loss: 2.4771 - val_accuracy: 0.7549\n"
     ]
    }
   ],
   "source": [
    "history = frequency_cnn.fit(X_train, y_train, num_epochs=NR_EPOCHS, batch_size=BATCH_SIZE, val_data=X_val, val_labels=y_val)"
   ]
  },
  {
   "cell_type": "code",
   "execution_count": 50,
   "metadata": {},
   "outputs": [
    {
     "data": {
      "text/plain": [
       "<matplotlib.legend.Legend at 0x24a6048bbd0>"
      ]
     },
     "execution_count": 50,
     "metadata": {},
     "output_type": "execute_result"
    },
    {
     "data": {
      "image/png": "[encoded data removed]",
      "text/plain": [
       "<Figure size 640x480 with 1 Axes>"
      ]
     },
     "metadata": {},
     "output_type": "display_data"
    }
   ],
   "source": [
    "import matplotlib.pyplot as plt\n",
    "\n",
    "plt.plot(history.history['accuracy'], label='accuracy')\n",
    "plt.plot(history.history['val_accuracy'], label = 'val_accuracy')\n",
    "plt.xlabel('Epoch')\n",
    "plt.ylabel('Accuracy')\n",
    "plt.ylim([0.5, 1])\n",
    "plt.legend(loc='lower right')"
   ]
  },
  {
   "cell_type": "code",
   "execution_count": 51,
   "metadata": {},
   "outputs": [
    {
     "name": "stdout",
     "output_type": "stream",
     "text": [
      "Model: \"sequential_4\"\n",
      "_________________________________________________________________\n",
      " Layer (type)                Output Shape              Param #   \n",
      "=================================================================\n",
      " conv1d_8 (Conv1D)           (None, 16, 32)            61568     \n",
      "                                                                 \n",
      " max_pooling1d_8 (MaxPoolin  (None, 5, 32)             0         \n",
      " g1D)                                                            \n",
      "                                                                 \n",
      " conv1d_9 (Conv1D)           (None, 3, 64)             6208      \n",
      "                                                                 \n",
      " max_pooling1d_9 (MaxPoolin  (None, 1, 64)             0         \n",
      " g1D)                                                            \n",
      "                                                                 \n",
      " global_max_pooling1d_4 (Gl  (None, 64)                0         \n",
      " obalMaxPooling1D)                                               \n",
      "                                                                 \n",
      " flatten_4 (Flatten)         (None, 64)                0         \n",
      "                                                                 \n",
      " dense_8 (Dense)             (None, 128)               8320      \n",
      "                                                                 \n",
      " dropout_4 (Dropout)         (None, 128)               0         \n",
      "                                                                 \n",
      " dense_9 (Dense)             (None, 1)                 129       \n",
      "                                                                 \n",
      "=================================================================\n",
      "Total params: 76225 (297.75 KB)\n",
      "Trainable params: 76225 (297.75 KB)\n",
      "Non-trainable params: 0 (0.00 Byte)\n",
      "_________________________________________________________________\n"
     ]
    }
   ],
   "source": [
    "frequency_cnn.summary()"
   ]
  },
  {
   "cell_type": "code",
   "execution_count": 52,
   "metadata": {},
   "outputs": [
    {
     "name": "stdout",
     "output_type": "stream",
     "text": [
      "4/4 [==============================] - 0s 2ms/step\n",
      "PREDICTION: [False] | REAL: False\n",
      "PREDICTION: [False] | REAL: False\n",
      "PREDICTION: [False] | REAL: False\n",
      "PREDICTION: [ True] | REAL: False\n",
      "PREDICTION: [False] | REAL: False\n",
      "PREDICTION: [False] | REAL: False\n",
      "PREDICTION: [False] | REAL: False\n",
      "PREDICTION: [False] | REAL: False\n",
      "PREDICTION: [False] | REAL: False\n",
      "PREDICTION: [False] | REAL: False\n",
      "PREDICTION: [False] | REAL: False\n",
      "PREDICTION: [False] | REAL: False\n",
      "PREDICTION: [False] | REAL: False\n",
      "PREDICTION: [ True] | REAL: False\n",
      "PREDICTION: [False] | REAL: False\n",
      "PREDICTION: [False] | REAL: False\n",
      "PREDICTION: [False] | REAL: False\n",
      "PREDICTION: [False] | REAL: False\n",
      "PREDICTION: [False] | REAL: False\n",
      "PREDICTION: [False] | REAL: False\n",
      "PREDICTION: [False] | REAL: False\n",
      "PREDICTION: [False] | REAL: False\n",
      "PREDICTION: [False] | REAL: False\n",
      "PREDICTION: [False] | REAL: False\n",
      "PREDICTION: [False] | REAL: False\n",
      "PREDICTION: [False] | REAL: False\n",
      "PREDICTION: [False] | REAL: False\n",
      "PREDICTION: [False] | REAL: False\n",
      "PREDICTION: [False] | REAL: False\n",
      "PREDICTION: [False] | REAL: False\n",
      "PREDICTION: [False] | REAL: False\n",
      "PREDICTION: [False] | REAL: False\n",
      "PREDICTION: [False] | REAL: False\n",
      "PREDICTION: [False] | REAL: False\n",
      "PREDICTION: [False] | REAL: False\n",
      "PREDICTION: [False] | REAL: False\n",
      "PREDICTION: [False] | REAL: False\n",
      "PREDICTION: [False] | REAL: False\n",
      "PREDICTION: [ True] | REAL: False\n",
      "PREDICTION: [ True] | REAL: False\n",
      "PREDICTION: [ True] | REAL: False\n",
      "PREDICTION: [False] | REAL: False\n",
      "PREDICTION: [ True] | REAL: False\n",
      "PREDICTION: [False] | REAL: False\n",
      "PREDICTION: [False] | REAL: False\n",
      "PREDICTION: [False] | REAL: False\n",
      "PREDICTION: [False] | REAL: False\n",
      "PREDICTION: [False] | REAL: False\n",
      "PREDICTION: [False] | REAL: False\n",
      "PREDICTION: [False] | REAL: False\n",
      "PREDICTION: [False] | REAL: False\n",
      "PREDICTION: [ True] | REAL: True\n",
      "PREDICTION: [ True] | REAL: True\n",
      "PREDICTION: [ True] | REAL: True\n",
      "PREDICTION: [False] | REAL: True\n",
      "PREDICTION: [ True] | REAL: True\n",
      "PREDICTION: [ True] | REAL: True\n",
      "PREDICTION: [ True] | REAL: True\n",
      "PREDICTION: [ True] | REAL: True\n",
      "PREDICTION: [ True] | REAL: True\n",
      "PREDICTION: [False] | REAL: True\n",
      "PREDICTION: [False] | REAL: True\n",
      "PREDICTION: [ True] | REAL: True\n",
      "PREDICTION: [ True] | REAL: True\n",
      "PREDICTION: [ True] | REAL: True\n",
      "PREDICTION: [ True] | REAL: True\n",
      "PREDICTION: [ True] | REAL: True\n",
      "PREDICTION: [ True] | REAL: True\n",
      "PREDICTION: [ True] | REAL: True\n",
      "PREDICTION: [ True] | REAL: True\n",
      "PREDICTION: [ True] | REAL: True\n",
      "PREDICTION: [ True] | REAL: True\n",
      "PREDICTION: [ True] | REAL: True\n",
      "PREDICTION: [ True] | REAL: True\n",
      "PREDICTION: [ True] | REAL: True\n",
      "PREDICTION: [ True] | REAL: True\n",
      "PREDICTION: [ True] | REAL: True\n",
      "PREDICTION: [False] | REAL: True\n",
      "PREDICTION: [ True] | REAL: True\n",
      "PREDICTION: [ True] | REAL: True\n",
      "PREDICTION: [ True] | REAL: True\n",
      "PREDICTION: [ True] | REAL: True\n",
      "PREDICTION: [ True] | REAL: True\n",
      "PREDICTION: [ True] | REAL: True\n",
      "PREDICTION: [ True] | REAL: True\n",
      "PREDICTION: [ True] | REAL: True\n",
      "PREDICTION: [False] | REAL: True\n",
      "PREDICTION: [ True] | REAL: True\n",
      "PREDICTION: [ True] | REAL: True\n",
      "PREDICTION: [ True] | REAL: True\n",
      "PREDICTION: [ True] | REAL: True\n",
      "PREDICTION: [ True] | REAL: True\n",
      "PREDICTION: [ True] | REAL: True\n",
      "PREDICTION: [ True] | REAL: True\n",
      "PREDICTION: [ True] | REAL: True\n",
      "PREDICTION: [False] | REAL: True\n",
      "PREDICTION: [ True] | REAL: True\n",
      "PREDICTION: [ True] | REAL: True\n",
      "PREDICTION: [False] | REAL: True\n",
      "PREDICTION: [ True] | REAL: True\n",
      "PREDICTION: [ True] | REAL: True\n",
      "PREDICTION: [ True] | REAL: True\n"
     ]
    }
   ],
   "source": [
    "import numpy as np\n",
    "predictions = frequency_cnn.model.predict(X_test)\n",
    "predictions = np.array([prediction > 0.5 for prediction in predictions])\n",
    "\n",
    "for i in range(len(y_test)):\n",
    "    print(\"PREDICTION: \" + str(predictions[i] > 0.5) + \" | \" +  \"REAL: \" + str(y_test[i]))"
   ]
  },
  {
   "cell_type": "code",
   "execution_count": 53,
   "metadata": {},
   "outputs": [
    {
     "name": "stdout",
     "output_type": "stream",
     "text": [
      "4/4 [==============================] - 0s 2ms/step - loss: 1.9303 - accuracy: 0.8725\n",
      "Test accuracy: 0.8725489974021912\n",
      "Test loss: 1.9302810430526733\n"
     ]
    }
   ],
   "source": [
    "test_loss, test_acc = frequency_cnn.model.evaluate(X_test, y_test)\n",
    "print(f'Test accuracy: {test_acc}')\n",
    "print(f'Test loss: {test_loss}')"
   ]
  },
  {
   "cell_type": "markdown",
   "metadata": {},
   "source": [
    "### Metrics:"
   ]
  },
  {
   "cell_type": "code",
   "execution_count": 54,
   "metadata": {},
   "outputs": [
    {
     "name": "stdout",
     "output_type": "stream",
     "text": [
      "True Positives: 44\n",
      "True Negatives: 45\n",
      "False Positives: 7\n",
      "False Negatives: 6\n",
      "total Samples: 102\n",
      "Accuracy: 0.8725490196078431\n",
      "Precision: 0.8627450980392157\n",
      "Sensitivity: 0.88\n",
      "Specificity: 0.8653846153846154\n",
      "TPR: 0.8627450980392157\n",
      "FPR: 0.1346153846153846\n",
      "F1-Score: 0.8762586708435892\n"
     ]
    }
   ],
   "source": [
    "from ia.metrics.metrics import Metrics\n",
    "metrics = Metrics(y_test, predictions, frequency_cnn.name(), \"frequency\")\n",
    "metrics.all_metrics()\n",
    "metrics.metrics_to_database()"
   ]
  },
  {
   "cell_type": "markdown",
   "metadata": {},
   "source": [
    "ROC curve"
   ]
  },
  {
   "cell_type": "code",
   "execution_count": 55,
   "metadata": {},
   "outputs": [
    {
     "data": {
      "image/png": "[encoded data removed]",
      "text/plain": [
       "<Figure size 640x480 with 1 Axes>"
      ]
     },
     "metadata": {},
     "output_type": "display_data"
    }
   ],
   "source": [
    "import sklearn.metrics as metrics\n",
    "import matplotlib.pyplot as plt\n",
    "\n",
    "fpr, tpr, threshold = metrics.roc_curve(y_test, predictions)\n",
    "roc_auc = metrics.auc(fpr, tpr)\n",
    "\n",
    "plt.title('Receiver Operating Characteristic')\n",
    "plt.plot(fpr, tpr, 'b', label = 'AUC = %0.2f' % roc_auc)\n",
    "plt.legend(loc = 'lower right')\n",
    "plt.plot([0, 1], [0, 1],'r--')\n",
    "plt.xlim([0, 1])\n",
    "plt.ylim([0, 1])\n",
    "plt.ylabel('True Positive Rate')\n",
    "plt.xlabel('False Positive Rate')\n",
    "plt.show()"
   ]
  }
 ],
 "metadata": {
  "kernelspec": {
   "display_name": "Python 3",
   "language": "python",
   "name": "python3"
  },
  "language_info": {
   "codemirror_mode": {
    "name": "ipython",
    "version": 3
   },
   "file_extension": ".py",
   "mimetype": "text/x-python",
   "name": "python",
   "nbconvert_exporter": "python",
   "pygments_lexer": "ipython3",
   "version": "3.11.5"
  }
 },
 "nbformat": 4,
 "nbformat_minor": 2
}

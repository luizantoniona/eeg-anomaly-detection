{
 "cells": [
  {
   "cell_type": "markdown",
   "metadata": {},
   "source": [
    "# Database Utils Doc"
   ]
  },
  {
   "cell_type": "markdown",
   "metadata": {},
   "source": [
    "### Funções de utilidade do banco de dados\n",
    "\n",
    "Documentação responsável para descrever as funções de cada método utilitário do banco de dados"
   ]
  },
  {
   "cell_type": "markdown",
   "metadata": {},
   "source": [
    "Imports:"
   ]
  },
  {
   "cell_type": "code",
   "execution_count": 1,
   "metadata": {},
   "outputs": [],
   "source": [
    "import mysql.connector\n",
    "import databaseinfo as db"
   ]
  },
  {
   "cell_type": "markdown",
   "metadata": {},
   "source": [
    "connect: Método que retorna a conexão com o banco de dados"
   ]
  },
  {
   "cell_type": "code",
   "execution_count": null,
   "metadata": {},
   "outputs": [],
   "source": [
    "def connect():\n",
    "    return mysql.connector.connect(user=db.username(),\n",
    "                              password=db.password(),                              \n",
    "                              host=db.ip(),\n",
    "                              database=db.name(),\n",
    "                              auth_plugin='mysql_native_password')\n"
   ]
  },
  {
   "cell_type": "markdown",
   "metadata": {},
   "source": [
    "execute_from_file: Executa a query de um arquivo SQL"
   ]
  },
  {
   "cell_type": "code",
   "execution_count": null,
   "metadata": {},
   "outputs": [],
   "source": [
    "def execute_from_file(filename):\n",
    "    fd = open(filename, 'r')\n",
    "    sql_file = fd.read()\n",
    "    fd.close()\n",
    "\n",
    "    db = connect()\n",
    "\n",
    "    sql_commands = sql_file.split(';')\n",
    "\n",
    "    for command in sql_commands:\n",
    "        try:\n",
    "            db.cursor().execute(command)\n",
    "        except:\n",
    "            print(\"Erro ao executar\")"
   ]
  },
  {
   "cell_type": "markdown",
   "metadata": {},
   "source": [
    "insert_summary_data: Inserir os dados do arquivo na tabela"
   ]
  },
  {
   "cell_type": "code",
   "execution_count": null,
   "metadata": {},
   "outputs": [],
   "source": [
    "def insert_sumarry_data(record_name, file_name, start_time, end_time, nr_seizures, start_seizure, end_seizure, nr_channels, ds_channels ):\n",
    "\n",
    "    fd = open(\"./database/sql/insert_summary_info.sql\", 'r')\n",
    "    sql_file = fd.read()\n",
    "    fd.close()\n",
    "\n",
    "    db = connect()\n",
    "\n",
    "    try:\n",
    "        db.cursor().execute(sql_file, [record_name, file_name, start_time, end_time, nr_seizures, start_seizure, end_seizure, nr_channels, ds_channels ])\n",
    "        db.commit()\n",
    "    except:\n",
    "        print(\"Registro já existe\")\n",
    "    "
   ]
  },
  {
   "cell_type": "markdown",
   "metadata": {},
   "source": [
    "summary_by_name: Retorna um dicionário com todas as informações dos exames pelo nome"
   ]
  },
  {
   "cell_type": "code",
   "execution_count": null,
   "metadata": {},
   "outputs": [],
   "source": [
    "def summary_by_name(file_name):\n",
    "        \n",
    "    fd = open(\"./database/sql/select_summary_by_name.sql\", 'r')\n",
    "    sql_file = fd.read()\n",
    "    fd.close()\n",
    "\n",
    "    db = connect()\n",
    "    cursor = db.cursor(buffered=True, dictionary=True)\n",
    "\n",
    "    try:\n",
    "        cursor.execute(sql_file, [file_name])\n",
    "        return cursor.fetchone()\n",
    "    except:\n",
    "        print(\"Não há registro para o nome\")"
   ]
  },
  {
   "cell_type": "markdown",
   "metadata": {},
   "source": [
    "all_summary: Retorna todos os sumários em banco"
   ]
  },
  {
   "cell_type": "code",
   "execution_count": null,
   "metadata": {},
   "outputs": [],
   "source": [
    "def all_summary():\n",
    "\n",
    "    fd = open(\"./database/sql/select_all_summary.sql\", 'r')\n",
    "    sql_file = fd.read()\n",
    "    fd.close()\n",
    "\n",
    "    db = connect()\n",
    "    cursor = db.cursor(buffered=True, dictionary=True)\n",
    "\n",
    "    try:\n",
    "        cursor.execute(sql_file)\n",
    "        return cursor.fetchall()\n",
    "    except:\n",
    "        print(\"Não há registros\")"
   ]
  }
 ],
 "metadata": {
  "kernelspec": {
   "display_name": "base",
   "language": "python",
   "name": "python3"
  },
  "language_info": {
   "codemirror_mode": {
    "name": "ipython",
    "version": 3
   },
   "file_extension": ".py",
   "mimetype": "text/x-python",
   "name": "python",
   "nbconvert_exporter": "python",
   "pygments_lexer": "ipython3",
   "version": "3.9.13"
  },
  "orig_nbformat": 4
 },
 "nbformat": 4,
 "nbformat_minor": 2
}

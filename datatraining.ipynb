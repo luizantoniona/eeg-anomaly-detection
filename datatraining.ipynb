{
 "cells": [
  {
   "cell_type": "markdown",
   "metadata": {},
   "source": [
    "# Data Training:\n",
    "\n",
    "Aqui será preparado os dados para inserção nos modelos e realizado o treinamento dos modelos\n",
    "\n",
    "Serão separados em 3 modelos:\n",
    "- CNN\n",
    "- RNN\n",
    "- Transformer\n",
    "\n",
    "Com os dados inseridos em 3 dominios diferentes:\n",
    "- Tempo -> dados RAW\n",
    "- Frequência -> Espectro de potência (Periodigrama)\n",
    "- Tempo-frequência -> Espectograma "
   ]
  },
  {
   "cell_type": "markdown",
   "metadata": {},
   "source": [
    "### Pacotes Necessários:"
   ]
  },
  {
   "cell_type": "code",
   "execution_count": null,
   "metadata": {},
   "outputs": [],
   "source": [
    "%pip install tensorflow-gpu"
   ]
  },
  {
   "cell_type": "markdown",
   "metadata": {},
   "source": [
    "Show GPU infos:"
   ]
  },
  {
   "cell_type": "code",
   "execution_count": null,
   "metadata": {},
   "outputs": [],
   "source": [
    "!nvidia-smi -L\n",
    "!nvidia-smi"
   ]
  },
  {
   "cell_type": "markdown",
   "metadata": {},
   "source": [
    "### Carregar EEG's:\n",
    "Carregar os registros do banco (Dados baixados) e converte-los em models (SummaryModel)"
   ]
  },
  {
   "cell_type": "code",
   "execution_count": 1,
   "metadata": {},
   "outputs": [
    {
     "name": "stdout",
     "output_type": "stream",
     "text": [
      "351\n"
     ]
    }
   ],
   "source": [
    "import database.databaseutils as db\n",
    "import model.summarymodelconverter as converter\n",
    "\n",
    "all_summaries = []\n",
    "\n",
    "db.connect()\n",
    "db_objects = db.all_summary()\n",
    "\n",
    "for db_object in db_objects:\n",
    "    all_summaries.append(converter.model_from_tuple( db_object ))\n",
    "\n",
    "print(len(all_summaries))"
   ]
  },
  {
   "cell_type": "code",
   "execution_count": null,
   "metadata": {},
   "outputs": [],
   "source": [
    "import reader.reader as reader\n",
    "\n",
    "all_mne_object = []\n",
    "\n",
    "for summary in all_summaries:\n",
    "    all_mne_object.append(reader.mne_edf(summary))\n",
    "\n",
    "print(len(all_mne_object))"
   ]
  },
  {
   "cell_type": "markdown",
   "metadata": {},
   "source": [
    "### Data Preparation -> Dominio do Tempo "
   ]
  },
  {
   "cell_type": "code",
   "execution_count": null,
   "metadata": {},
   "outputs": [],
   "source": [
    "import model.summarymodelconverter as converter\n",
    "\n"
   ]
  },
  {
   "cell_type": "markdown",
   "metadata": {},
   "source": [
    "### Data Preparation -> Dominio da Frequência "
   ]
  },
  {
   "cell_type": "code",
   "execution_count": null,
   "metadata": {},
   "outputs": [],
   "source": []
  },
  {
   "cell_type": "markdown",
   "metadata": {},
   "source": [
    "### Data Preparation -> Dominio do Tempo-Frequência "
   ]
  },
  {
   "cell_type": "code",
   "execution_count": null,
   "metadata": {},
   "outputs": [],
   "source": []
  }
 ],
 "metadata": {
  "kernelspec": {
   "display_name": "Python 3",
   "language": "python",
   "name": "python3"
  },
  "language_info": {
   "codemirror_mode": {
    "name": "ipython",
    "version": 3
   },
   "file_extension": ".py",
   "mimetype": "text/x-python",
   "name": "python",
   "nbconvert_exporter": "python",
   "pygments_lexer": "ipython3",
   "version": "3.11.5"
  },
  "orig_nbformat": 4
 },
 "nbformat": 4,
 "nbformat_minor": 2
}

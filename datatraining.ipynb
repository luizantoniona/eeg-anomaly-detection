{
 "cells": [
  {
   "cell_type": "markdown",
   "metadata": {},
   "source": [
    "# Data Training:\n",
    "\n",
    "Aqui será preparado os dados para inserção nos modelos e realizado o treinamento dos modelos\n",
    "\n",
    "Serão separados em 3 modelos:\n",
    "- CNN\n",
    "- RNN\n",
    "- Transformer\n",
    "\n",
    "Com os dados inseridos em 3 dominios diferentes:\n",
    "- Tempo -> dados RAW\n",
    "- Frequência -> Espectro de potência (Periodigrama)\n",
    "- Tempo-frequência -> Espectograma "
   ]
  },
  {
   "cell_type": "markdown",
   "metadata": {},
   "source": [
    "### Sumários:"
   ]
  },
  {
   "cell_type": "code",
   "execution_count": null,
   "metadata": {},
   "outputs": [],
   "source": [
    "import datautils.dataloader as loader\n",
    "\n",
    "summaries = loader.load_summaries()"
   ]
  },
  {
   "cell_type": "code",
   "execution_count": null,
   "metadata": {},
   "outputs": [],
   "source": [
    "QTD_OF_SUMMARIES = 100\n",
    "NR_EPOCHS = 1000\n",
    "BATCH_SIZE = 10"
   ]
  },
  {
   "cell_type": "code",
   "execution_count": null,
   "metadata": {},
   "outputs": [],
   "source": [
    "loader.load_mne_data(summaries[:QTD_OF_SUMMARIES])"
   ]
  },
  {
   "cell_type": "markdown",
   "metadata": {},
   "source": [
    "### Data Preparation -> Dominio do Tempo \n",
    "\n",
    "- Legendar os dados -> Arquivos com seizures serão marcados ()\n",
    "- Separar as informações em Treino e Teste\n",
    "- Alimentar a rede e verificar a saída"
   ]
  },
  {
   "cell_type": "code",
   "execution_count": null,
   "metadata": {},
   "outputs": [],
   "source": [
    "# import datautils.mnesplitter as mnesplitter\n",
    "\n",
    "# X_train, X_val, y_train, y_val = mnesplitter.time_data_splitter(summaries[:QTD_OF_SUMMARIES])"
   ]
  },
  {
   "cell_type": "code",
   "execution_count": null,
   "metadata": {},
   "outputs": [],
   "source": [
    "# import ia.model.cnn as ia\n",
    "\n",
    "# time_cnn = ia.CNNModel()"
   ]
  },
  {
   "cell_type": "code",
   "execution_count": null,
   "metadata": {},
   "outputs": [],
   "source": [
    "#time_cnn.compile()\n",
    "#time_cnn.fit(X_train, y_train, num_epochs=NR_EPOCHS, val_data=X_val, val_labels=y_val)"
   ]
  },
  {
   "cell_type": "code",
   "execution_count": null,
   "metadata": {},
   "outputs": [],
   "source": [
    "#test_loss, test_acc = time_cnn.evaluate(X_test_raw, y_test)\n",
    "\n",
    "#print(f'Test accuracy: {test_acc}')"
   ]
  },
  {
   "cell_type": "markdown",
   "metadata": {},
   "source": [
    "### Data Preparation -> Dominio da Frequência \n",
    "\n",
    "- Calcular o espectro de potência de cada um dos sumários\n",
    "- Legendar os dados -> Arquivos com seizures serão marcados\n",
    "- Separar as informações em Treino e Teste\n",
    "- Alimentar a rede e verificar a saída"
   ]
  },
  {
   "cell_type": "code",
   "execution_count": null,
   "metadata": {},
   "outputs": [],
   "source": [
    "import datautils.mnesplitter as mnesplitter\n",
    "\n",
    "X_train, X_val, y_train, y_val = mnesplitter.freq_data_splitter(summaries[:QTD_OF_SUMMARIES])"
   ]
  },
  {
   "cell_type": "code",
   "execution_count": null,
   "metadata": {},
   "outputs": [],
   "source": [
    "#        19 Canais         1025 Valores db        \n",
    "# (X_train[0].shape[0], X_train[0].shape[1])"
   ]
  },
  {
   "cell_type": "code",
   "execution_count": null,
   "metadata": {},
   "outputs": [],
   "source": [
    "import ia.model.cnn as ia\n",
    "\n",
    "frequency_cnn = ia.CNNModel(input_shape=(X_train[0].shape[0], X_train[0].shape[1]))"
   ]
  },
  {
   "cell_type": "code",
   "execution_count": null,
   "metadata": {},
   "outputs": [],
   "source": [
    "frequency_cnn.compile()"
   ]
  },
  {
   "cell_type": "code",
   "execution_count": null,
   "metadata": {},
   "outputs": [],
   "source": [
    "frequency_cnn.fit(X_train, y_train, num_epochs=NR_EPOCHS, batch_size=BATCH_SIZE, val_data=X_val, val_labels=y_val)"
   ]
  },
  {
   "cell_type": "code",
   "execution_count": null,
   "metadata": {},
   "outputs": [],
   "source": [
    "loader.load_mne_data(summaries[QTD_OF_SUMMARIES + 1:QTD_OF_SUMMARIES + 10])"
   ]
  },
  {
   "cell_type": "code",
   "execution_count": null,
   "metadata": {},
   "outputs": [],
   "source": [
    "import numpy as np\n",
    "X_test = summaries[QTD_OF_SUMMARIES + 1 : QTD_OF_SUMMARIES + 10]\n",
    "y_test = [summary.has_anomaly() for summary in X_test]\n",
    "\n",
    "X_test_freq_data = np.array([summary.signal.get_freq_data()[0] for summary in X_test])"
   ]
  },
  {
   "cell_type": "code",
   "execution_count": null,
   "metadata": {},
   "outputs": [],
   "source": [
    "predictions = frequency_cnn.model.predict(X_test_freq_data)\n",
    "predictions\n",
    "# test_loss, test_acc = frequency_cnn.model.evaluate(X_test_freq_data, y_test)\n",
    "\n",
    "# print(f'Test accuracy: {test_acc}')"
   ]
  },
  {
   "cell_type": "markdown",
   "metadata": {},
   "source": [
    "### Data Preparation -> Dominio do Tempo-Frequência \n",
    "\n",
    "- Converter os mne object's calculando o espectograma de cada um\n",
    "- Legendar os dados -> Arquivos com seizures serão marcados\n",
    "- Separar as informações em Treino e Teste\n",
    "- Alimentar a rede e verificar a saída"
   ]
  },
  {
   "cell_type": "code",
   "execution_count": null,
   "metadata": {},
   "outputs": [],
   "source": [
    "#loader.load_time_frequencie_data(summaries[:QTD_OF_SUMMARIES])"
   ]
  },
  {
   "cell_type": "code",
   "execution_count": null,
   "metadata": {},
   "outputs": [],
   "source": [
    "#import ia.model.cnn as ia\n",
    "\n",
    "#time_freqeuncy_cnn = ia.CNNModel(shape = summaries[0].signal.shape_of_spectograms())"
   ]
  },
  {
   "cell_type": "code",
   "execution_count": null,
   "metadata": {},
   "outputs": [],
   "source": [
    "#import datautils.spliter as spliter\n",
    "\n",
    "#X_train, X_val, y_train, y_val = spliter.time_frequency_data_spliter(summaries[:QTD_OF_SUMMARIES])"
   ]
  },
  {
   "cell_type": "code",
   "execution_count": null,
   "metadata": {},
   "outputs": [],
   "source": [
    "#time_freqeuncy_cnn.compile()\n",
    "#time_freqeuncy_cnn.fit(X_train, y_train, num_epochs=NR_EPOCHS, val_data=X_val, val_labels=y_val)"
   ]
  },
  {
   "cell_type": "code",
   "execution_count": null,
   "metadata": {},
   "outputs": [],
   "source": [
    "#test_loss, test_acc = frequency_cnn.evaluate(X_test_raw, y_test)\n",
    "\n",
    "#print(f'Test accuracy: {test_acc}')"
   ]
  }
 ],
 "metadata": {
  "kernelspec": {
   "display_name": "Python 3",
   "language": "python",
   "name": "python3"
  },
  "language_info": {
   "codemirror_mode": {
    "name": "ipython",
    "version": 3
   },
   "file_extension": ".py",
   "mimetype": "text/x-python",
   "name": "python",
   "nbconvert_exporter": "python",
   "pygments_lexer": "ipython3",
   "version": "3.11.5"
  },
  "orig_nbformat": 4
 },
 "nbformat": 4,
 "nbformat_minor": 2
}

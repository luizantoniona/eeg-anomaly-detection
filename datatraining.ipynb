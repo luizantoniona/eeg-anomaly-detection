{
 "cells": [
  {
   "cell_type": "markdown",
   "metadata": {},
   "source": [
    "# Data Training:\n",
    "\n",
    "Aqui será preparado os dados para inserção nos modelos e realizado o treinamento dos modelos\n",
    "\n",
    "Serão separados em 3 modelos:\n",
    "- CNN\n",
    "- RNN\n",
    "- Transformer\n",
    "\n",
    "Com os dados inseridos em 3 dominios diferentes:\n",
    "- Tempo -> dados RAW\n",
    "- Frequência -> Espectro de potência (Periodigrama)\n",
    "- Tempo-frequência -> Espectograma "
   ]
  },
  {
   "cell_type": "markdown",
   "metadata": {},
   "source": [
    "### Data Preparation -> Dominio do Tempo \n",
    "\n",
    "- Legendar os dados -> Arquivos com seizures serão marcados ()\n",
    "- Separar as informações em Treino e Teste\n",
    "- Alimentar a rede e verificar a saída"
   ]
  },
  {
   "cell_type": "code",
   "execution_count": null,
   "metadata": {},
   "outputs": [],
   "source": [
    "import datautils.dataloader as loader\n",
    "\n",
    "time_data = loader.time_objects()"
   ]
  },
  {
   "cell_type": "code",
   "execution_count": 3,
   "metadata": {},
   "outputs": [
    {
     "name": "stdout",
     "output_type": "stream",
     "text": [
      "9\n"
     ]
    }
   ],
   "source": [
    "print(len(time_data))"
   ]
  },
  {
   "cell_type": "markdown",
   "metadata": {},
   "source": [
    "### Data Preparation -> Dominio da Frequência \n",
    "\n",
    "- Converter os mne object's calculando o espectro de potência de cada um\n",
    "- Legendar os dados -> Arquivos com seizures serão marcados\n",
    "- Separar as informações em Treino e Teste\n",
    "- Alimentar a rede e verificar a saída"
   ]
  },
  {
   "cell_type": "code",
   "execution_count": null,
   "metadata": {},
   "outputs": [],
   "source": [
    "import datautils.dataloader as loader\n",
    "\n",
    "power_spcetrum_data = loader.psd_objects()"
   ]
  },
  {
   "cell_type": "code",
   "execution_count": 5,
   "metadata": {},
   "outputs": [
    {
     "name": "stdout",
     "output_type": "stream",
     "text": [
      "9\n"
     ]
    }
   ],
   "source": [
    "print(len(power_spcetrum_data))"
   ]
  },
  {
   "cell_type": "markdown",
   "metadata": {},
   "source": [
    "### Data Preparation -> Dominio do Tempo-Frequência \n",
    "\n",
    "- Converter os mne object's calculando o espectograma de cada um\n",
    "- Legendar os dados -> Arquivos com seizures serão marcados\n",
    "- Separar as informações em Treino e Teste\n",
    "- Alimentar a rede e verificar a saída"
   ]
  },
  {
   "cell_type": "code",
   "execution_count": 6,
   "metadata": {},
   "outputs": [],
   "source": [
    "import datautils.dataloader as loader\n",
    "\n",
    "spectogram_data = loader.spec_objects()"
   ]
  },
  {
   "cell_type": "code",
   "execution_count": 7,
   "metadata": {},
   "outputs": [
    {
     "name": "stdout",
     "output_type": "stream",
     "text": [
      "0\n"
     ]
    }
   ],
   "source": [
    "print(len(spectogram_data))"
   ]
  }
 ],
 "metadata": {
  "kernelspec": {
   "display_name": "Python 3",
   "language": "python",
   "name": "python3"
  },
  "language_info": {
   "codemirror_mode": {
    "name": "ipython",
    "version": 3
   },
   "file_extension": ".py",
   "mimetype": "text/x-python",
   "name": "python",
   "nbconvert_exporter": "python",
   "pygments_lexer": "ipython3",
   "version": "3.11.5"
  },
  "orig_nbformat": 4
 },
 "nbformat": 4,
 "nbformat_minor": 2
}

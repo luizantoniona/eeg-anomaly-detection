{
 "cells": [
  {
   "cell_type": "code",
   "execution_count": null,
   "metadata": {},
   "outputs": [],
   "source": [
    "QTD_OF_SUMMARIES = 3\n",
    "NR_EPOCHS = 1000\n",
    "BATCH_SIZE = 10"
   ]
  },
  {
   "cell_type": "code",
   "execution_count": null,
   "metadata": {},
   "outputs": [],
   "source": [
    "import datautils.dataloader as loader\n",
    "\n",
    "summaries = loader.load_summaries()"
   ]
  },
  {
   "cell_type": "code",
   "execution_count": null,
   "metadata": {},
   "outputs": [],
   "source": [
    "loader.load_mne_data(summaries[:QTD_OF_SUMMARIES])"
   ]
  },
  {
   "cell_type": "code",
   "execution_count": null,
   "metadata": {},
   "outputs": [],
   "source": [
    "loader.load_segmented_data(summaries[:QTD_OF_SUMMARIES])"
   ]
  },
  {
   "cell_type": "markdown",
   "metadata": {},
   "source": [
    "### Data Preparation -> Dominio do Tempo \n",
    "\n",
    "- Segmentar as informações de tempo em janelas\n",
    "- Criar as labels para cada janela\n",
    "- Separar as informações em Treino e Teste\n",
    "- Alimentar a rede e verificar a saída"
   ]
  },
  {
   "cell_type": "code",
   "execution_count": null,
   "metadata": {},
   "outputs": [],
   "source": [
    "import datautils.mnesplitter as mnesplitter\n",
    "\n",
    "X_train, X_val, y_train, y_val = mnesplitter.segmented_time_data_splitter(summaries[:QTD_OF_SUMMARIES])"
   ]
  },
  {
   "cell_type": "code",
   "execution_count": null,
   "metadata": {},
   "outputs": [],
   "source": [
    "X_train[0].shape"
   ]
  },
  {
   "cell_type": "code",
   "execution_count": null,
   "metadata": {},
   "outputs": [],
   "source": [
    "import ia.model.cnn as ia\n",
    "\n",
    "time_cnn = ia.CNNModel(input_shape=(X_train[0].shape[0], X_train[0].shape[1], X_train[0].shape[2]))"
   ]
  },
  {
   "cell_type": "code",
   "execution_count": null,
   "metadata": {},
   "outputs": [],
   "source": [
    "# time_cnn.compile()"
   ]
  },
  {
   "cell_type": "code",
   "execution_count": null,
   "metadata": {},
   "outputs": [],
   "source": [
    "# time_cnn.fit(X_train, y_train, num_epochs=NR_EPOCHS, batch_size=BATCH_SIZE, val_data=X_val, val_labels=y_val)"
   ]
  },
  {
   "cell_type": "code",
   "execution_count": null,
   "metadata": {},
   "outputs": [],
   "source": [
    "# loader.load_mne_data(summaries[QTD_OF_SUMMARIES + 1:QTD_OF_SUMMARIES + 10])\n",
    "# loader.load_segmented_data(summaries[QTD_OF_SUMMARIES + 1:QTD_OF_SUMMARIES + 10])"
   ]
  },
  {
   "cell_type": "code",
   "execution_count": null,
   "metadata": {},
   "outputs": [],
   "source": [
    "# import numpy as np\n",
    "# X_test = summaries[QTD_OF_SUMMARIES + 1 : QTD_OF_SUMMARIES + 10]\n",
    "# y_test = [summary.has_anomaly() for summary in X_test]\n",
    "\n",
    "# X_test_freq_data = np.array([summary.signal.get_freq_data()[0] for summary in X_test])"
   ]
  },
  {
   "cell_type": "code",
   "execution_count": null,
   "metadata": {},
   "outputs": [],
   "source": [
    "# predictions = time_cnn.model.predict(X_test_freq_data)\n",
    "# for i in range(len(y_test)):\n",
    "#     print(str(predictions[i]) + \":\" + str(y_test[i]))\n",
    "# test_loss, test_acc = frequency_cnn.model.evaluate(X_test_freq_data, y_test)\n",
    "\n",
    "# print(f'Test accuracy: {test_acc}')"
   ]
  }
 ],
 "metadata": {
  "kernelspec": {
   "display_name": "Python 3",
   "language": "python",
   "name": "python3"
  },
  "language_info": {
   "codemirror_mode": {
    "name": "ipython",
    "version": 3
   },
   "file_extension": ".py",
   "mimetype": "text/x-python",
   "name": "python",
   "nbconvert_exporter": "python",
   "pygments_lexer": "ipython3",
   "version": "3.11.5"
  }
 },
 "nbformat": 4,
 "nbformat_minor": 2
}

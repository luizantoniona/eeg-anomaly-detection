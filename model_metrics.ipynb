{
 "cells": [
  {
   "cell_type": "markdown",
   "metadata": {},
   "source": [
    "### Model Metrics"
   ]
  },
  {
   "cell_type": "code",
   "execution_count": 1,
   "metadata": {},
   "outputs": [
    {
     "name": "stdout",
     "output_type": "stream",
     "text": [
      "MODEL: TimeCNN\n",
      "DATA DOMAIN time\n",
      "True Positives: 43.6\n",
      "True Negatives: 100.4\n",
      "False Positives: 35.8\n",
      "False Negatives: 22.8\n",
      "total Samples: 202.6\n",
      "Accuracy: 0.7107208\n",
      "Precision: 0.5618522\n",
      "Sensitivity: 0.678736\n",
      "Specificity: 0.72521\n",
      "TPR: 0.5618522\n",
      "FPR: 0.27479\n",
      "F1-Score: 0.6926512\n"
     ]
    }
   ],
   "source": [
    "from database.database_metrics import DatabaseMetrics\n",
    "from ia.metrics.metrics_model import MetricsModel\n",
    "import ia.metrics.metrics_converter as converter\n",
    "\n",
    "database = DatabaseMetrics()\n",
    "db_objects = database.metrics_by_domain('time')\n",
    "\n",
    "time_metrics = []\n",
    "\n",
    "for db_object in db_objects:\n",
    "    time_metrics.append(converter.model_from_tuple(db_object))\n",
    "\n",
    "number_of_records = 0\n",
    "true_positives = 0\n",
    "true_negatives = 0\n",
    "false_positives = 0\n",
    "false_negatives = 0\n",
    "total_samples = 0\n",
    "accuracy = 0\n",
    "precision = 0\n",
    "sensitivity = 0\n",
    "specificity = 0\n",
    "true_positive_rate = 0\n",
    "false_positive_rate = 0\n",
    "f1_score = 0\n",
    "\n",
    "for time_metric in time_metrics:\n",
    "    number_of_records += 1\n",
    "    true_positives += time_metric.true_positives\n",
    "    true_negatives += time_metric.true_negatives\n",
    "    false_positives += time_metric.false_positives\n",
    "    false_negatives += time_metric.false_negatives\n",
    "    total_samples += time_metric.total_samples\n",
    "    accuracy += time_metric.accuracy\n",
    "    precision += time_metric.precision\n",
    "    sensitivity += time_metric.sensitivity\n",
    "    specificity += time_metric.specificity\n",
    "    true_positive_rate += time_metric.true_positive_rate\n",
    "    false_positive_rate += time_metric.false_positive_rate\n",
    "    f1_score += time_metric.f1_score\n",
    "\n",
    "final_time_metrics = MetricsModel(\"TimeCNN\", \"time\",\n",
    "                                  true_positives/number_of_records,\n",
    "                                  true_negatives/number_of_records,\n",
    "                                  false_positives/number_of_records,\n",
    "                                  false_negatives/number_of_records,\n",
    "                                  total_samples/number_of_records,\n",
    "                                  accuracy/number_of_records,\n",
    "                                  precision/number_of_records,\n",
    "                                  sensitivity/number_of_records,\n",
    "                                  specificity/number_of_records,\n",
    "                                  true_positive_rate/number_of_records,\n",
    "                                  false_positive_rate/number_of_records,\n",
    "                                  f1_score/number_of_records)\n",
    "\n",
    "final_time_metrics.show()"
   ]
  },
  {
   "cell_type": "code",
   "execution_count": 2,
   "metadata": {},
   "outputs": [
    {
     "ename": "SyntaxError",
     "evalue": "invalid syntax. Perhaps you forgot a comma? (587219972.py, line 41)",
     "output_type": "error",
     "traceback": [
      "\u001b[1;36m  Cell \u001b[1;32mIn[2], line 41\u001b[1;36m\u001b[0m\n\u001b[1;33m    final_frequency_metrics = MetricsModel( \"FrequencyCNN\", \"frequency\"\u001b[0m\n\u001b[1;37m                                                            ^\u001b[0m\n\u001b[1;31mSyntaxError\u001b[0m\u001b[1;31m:\u001b[0m invalid syntax. Perhaps you forgot a comma?\n"
     ]
    }
   ],
   "source": [
    "from database.database_metrics import DatabaseMetrics\n",
    "import ia.metrics.metrics_converter as converter\n",
    "\n",
    "database = DatabaseMetrics()\n",
    "db_objects = database.metrics_by_domain(\"frequency\")\n",
    "\n",
    "frequency_metrics = []\n",
    "\n",
    "for db_object in db_objects:\n",
    "    frequency_metrics.append(converter.model_from_tuple(db_object))\n",
    "\n",
    "number_of_records = 0\n",
    "true_positives = 0\n",
    "true_negatives = 0\n",
    "false_positives = 0\n",
    "false_negatives = 0\n",
    "total_samples = 0\n",
    "accuracy = 0\n",
    "precision = 0\n",
    "sensitivity = 0\n",
    "specificity = 0\n",
    "true_positive_rate = 0\n",
    "false_positive_rate = 0\n",
    "f1_score = 0\n",
    "\n",
    "for frequency_metric in frequency_metrics:\n",
    "    number_of_records += 1\n",
    "    true_positives += frequency_metric.true_positives\n",
    "    true_negatives += frequency_metric.true_negatives\n",
    "    false_positives += frequency_metric.false_positives\n",
    "    false_negatives += frequency_metric.false_negatives\n",
    "    total_samples += frequency_metric.total_samples\n",
    "    accuracy += frequency_metric.accuracy\n",
    "    precision += frequency_metric.precision\n",
    "    sensitivity += frequency_metric.sensitivity\n",
    "    specificity += frequency_metric.specificity\n",
    "    true_positive_rate += frequency_metric.true_positive_rate\n",
    "    false_positive_rate += frequency_metric.false_positive_rate\n",
    "    f1_score += frequency_metric.f1_score\n",
    "\n",
    "final_frequency_metrics = MetricsModel( \"FrequencyCNN\", \"frequency\",\n",
    "                            true_positives/number_of_records,\n",
    "                            true_negatives/number_of_records,\n",
    "                            false_positives/number_of_records,\n",
    "                            false_negatives/number_of_records,\n",
    "                            total_samples/number_of_records,\n",
    "                            accuracy/number_of_records,\n",
    "                            precision/number_of_records,\n",
    "                            sensitivity/number_of_records,\n",
    "                            specificity/number_of_records,\n",
    "                            true_positive_rate/number_of_records,\n",
    "                            false_positive_rate/number_of_records,\n",
    "                            f1_score/number_of_records)\n",
    "\n",
    "final_frequency_metrics.show()"
   ]
  }
 ],
 "metadata": {
  "kernelspec": {
   "display_name": "Python 3",
   "language": "python",
   "name": "python3"
  },
  "language_info": {
   "codemirror_mode": {
    "name": "ipython",
    "version": 3
   },
   "file_extension": ".py",
   "mimetype": "text/x-python",
   "name": "python",
   "nbconvert_exporter": "python",
   "pygments_lexer": "ipython3",
   "version": "3.11.5"
  }
 },
 "nbformat": 4,
 "nbformat_minor": 2
}
